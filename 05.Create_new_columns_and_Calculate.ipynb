{
  "nbformat": 4,
  "nbformat_minor": 0,
  "metadata": {
    "colab": {
      "name": "05.Create new columns.ipynb",
      "provenance": [],
      "collapsed_sections": [],
      "authorship_tag": "ABX9TyPIogykHFgWl9oROKBAdRXF"
    },
    "kernelspec": {
      "name": "python3",
      "display_name": "Python 3"
    },
    "language_info": {
      "name": "python"
    }
  },
  "cells": [
    {
      "cell_type": "code",
      "metadata": {
        "id": "of8NDNGrSQwa"
      },
      "source": [
        "import pandas as pd"
      ],
      "execution_count": 1,
      "outputs": []
    },
    {
      "cell_type": "code",
      "metadata": {
        "colab": {
          "base_uri": "https://localhost:8080/",
          "height": 110
        },
        "id": "BOpv2htFShRz",
        "outputId": "e8603650-458a-4d92-bf28-fcfcd4a4b679"
      },
      "source": [
        "air_quality = pd.read_csv('https://raw.githubusercontent.com/pandas-dev/pandas/master/doc/data/air_quality_no2.csv')\n",
        "air_quality.head(2)"
      ],
      "execution_count": 2,
      "outputs": [
        {
          "output_type": "execute_result",
          "data": {
            "text/html": [
              "<div>\n",
              "<style scoped>\n",
              "    .dataframe tbody tr th:only-of-type {\n",
              "        vertical-align: middle;\n",
              "    }\n",
              "\n",
              "    .dataframe tbody tr th {\n",
              "        vertical-align: top;\n",
              "    }\n",
              "\n",
              "    .dataframe thead th {\n",
              "        text-align: right;\n",
              "    }\n",
              "</style>\n",
              "<table border=\"1\" class=\"dataframe\">\n",
              "  <thead>\n",
              "    <tr style=\"text-align: right;\">\n",
              "      <th></th>\n",
              "      <th>datetime</th>\n",
              "      <th>station_antwerp</th>\n",
              "      <th>station_paris</th>\n",
              "      <th>station_london</th>\n",
              "    </tr>\n",
              "  </thead>\n",
              "  <tbody>\n",
              "    <tr>\n",
              "      <th>0</th>\n",
              "      <td>2019-05-07 02:00:00</td>\n",
              "      <td>NaN</td>\n",
              "      <td>NaN</td>\n",
              "      <td>23.0</td>\n",
              "    </tr>\n",
              "    <tr>\n",
              "      <th>1</th>\n",
              "      <td>2019-05-07 03:00:00</td>\n",
              "      <td>50.5</td>\n",
              "      <td>25.0</td>\n",
              "      <td>19.0</td>\n",
              "    </tr>\n",
              "  </tbody>\n",
              "</table>\n",
              "</div>"
            ],
            "text/plain": [
              "              datetime  station_antwerp  station_paris  station_london\n",
              "0  2019-05-07 02:00:00              NaN            NaN            23.0\n",
              "1  2019-05-07 03:00:00             50.5           25.0            19.0"
            ]
          },
          "metadata": {},
          "execution_count": 2
        }
      ]
    },
    {
      "cell_type": "markdown",
      "metadata": {
        "id": "-_UpXNHLSpPx"
      },
      "source": [
        "# 기존 컬럼에 숫자 곱하기"
      ]
    },
    {
      "cell_type": "code",
      "metadata": {
        "id": "XCnkQWxySr6_"
      },
      "source": [
        "air_quality['london_mg_per_cubic']=air_quality['station_london'] * 1.882"
      ],
      "execution_count": null,
      "outputs": []
    },
    {
      "cell_type": "code",
      "metadata": {
        "colab": {
          "base_uri": "https://localhost:8080/",
          "height": 110
        },
        "id": "aTa7Ral4SwXY",
        "outputId": "0bf92523-695c-466e-d6e1-227391d1ce7e"
      },
      "source": [
        "air_quality.head(2)"
      ],
      "execution_count": null,
      "outputs": [
        {
          "output_type": "execute_result",
          "data": {
            "text/html": [
              "<div>\n",
              "<style scoped>\n",
              "    .dataframe tbody tr th:only-of-type {\n",
              "        vertical-align: middle;\n",
              "    }\n",
              "\n",
              "    .dataframe tbody tr th {\n",
              "        vertical-align: top;\n",
              "    }\n",
              "\n",
              "    .dataframe thead th {\n",
              "        text-align: right;\n",
              "    }\n",
              "</style>\n",
              "<table border=\"1\" class=\"dataframe\">\n",
              "  <thead>\n",
              "    <tr style=\"text-align: right;\">\n",
              "      <th></th>\n",
              "      <th>datetime</th>\n",
              "      <th>station_antwerp</th>\n",
              "      <th>station_paris</th>\n",
              "      <th>station_london</th>\n",
              "      <th>london_mg_per_cubic</th>\n",
              "    </tr>\n",
              "  </thead>\n",
              "  <tbody>\n",
              "    <tr>\n",
              "      <th>0</th>\n",
              "      <td>2019-05-07 02:00:00</td>\n",
              "      <td>NaN</td>\n",
              "      <td>NaN</td>\n",
              "      <td>23.0</td>\n",
              "      <td>43.286</td>\n",
              "    </tr>\n",
              "    <tr>\n",
              "      <th>1</th>\n",
              "      <td>2019-05-07 03:00:00</td>\n",
              "      <td>50.5</td>\n",
              "      <td>25.0</td>\n",
              "      <td>19.0</td>\n",
              "      <td>35.758</td>\n",
              "    </tr>\n",
              "  </tbody>\n",
              "</table>\n",
              "</div>"
            ],
            "text/plain": [
              "              datetime  station_antwerp  ...  station_london  london_mg_per_cubic\n",
              "0  2019-05-07 02:00:00              NaN  ...            23.0               43.286\n",
              "1  2019-05-07 03:00:00             50.5  ...            19.0               35.758\n",
              "\n",
              "[2 rows x 5 columns]"
            ]
          },
          "metadata": {},
          "execution_count": 5
        }
      ]
    },
    {
      "cell_type": "code",
      "metadata": {
        "colab": {
          "base_uri": "https://localhost:8080/",
          "height": 414
        },
        "id": "tVD8uz0hTEdZ",
        "outputId": "9d4fa617-f53c-4b40-b63b-b5b58b33489d"
      },
      "source": [
        "air_quality['test'] = 1.882\n",
        "air_quality"
      ],
      "execution_count": null,
      "outputs": [
        {
          "output_type": "execute_result",
          "data": {
            "text/html": [
              "<div>\n",
              "<style scoped>\n",
              "    .dataframe tbody tr th:only-of-type {\n",
              "        vertical-align: middle;\n",
              "    }\n",
              "\n",
              "    .dataframe tbody tr th {\n",
              "        vertical-align: top;\n",
              "    }\n",
              "\n",
              "    .dataframe thead th {\n",
              "        text-align: right;\n",
              "    }\n",
              "</style>\n",
              "<table border=\"1\" class=\"dataframe\">\n",
              "  <thead>\n",
              "    <tr style=\"text-align: right;\">\n",
              "      <th></th>\n",
              "      <th>datetime</th>\n",
              "      <th>station_antwerp</th>\n",
              "      <th>station_paris</th>\n",
              "      <th>station_london</th>\n",
              "      <th>london_mg_per_cubic</th>\n",
              "      <th>test</th>\n",
              "    </tr>\n",
              "  </thead>\n",
              "  <tbody>\n",
              "    <tr>\n",
              "      <th>0</th>\n",
              "      <td>2019-05-07 02:00:00</td>\n",
              "      <td>NaN</td>\n",
              "      <td>NaN</td>\n",
              "      <td>23.0</td>\n",
              "      <td>43.286</td>\n",
              "      <td>1.882</td>\n",
              "    </tr>\n",
              "    <tr>\n",
              "      <th>1</th>\n",
              "      <td>2019-05-07 03:00:00</td>\n",
              "      <td>50.5</td>\n",
              "      <td>25.0</td>\n",
              "      <td>19.0</td>\n",
              "      <td>35.758</td>\n",
              "      <td>1.882</td>\n",
              "    </tr>\n",
              "    <tr>\n",
              "      <th>2</th>\n",
              "      <td>2019-05-07 04:00:00</td>\n",
              "      <td>45.0</td>\n",
              "      <td>27.7</td>\n",
              "      <td>19.0</td>\n",
              "      <td>35.758</td>\n",
              "      <td>1.882</td>\n",
              "    </tr>\n",
              "    <tr>\n",
              "      <th>3</th>\n",
              "      <td>2019-05-07 05:00:00</td>\n",
              "      <td>NaN</td>\n",
              "      <td>50.4</td>\n",
              "      <td>16.0</td>\n",
              "      <td>30.112</td>\n",
              "      <td>1.882</td>\n",
              "    </tr>\n",
              "    <tr>\n",
              "      <th>4</th>\n",
              "      <td>2019-05-07 06:00:00</td>\n",
              "      <td>NaN</td>\n",
              "      <td>61.9</td>\n",
              "      <td>NaN</td>\n",
              "      <td>NaN</td>\n",
              "      <td>1.882</td>\n",
              "    </tr>\n",
              "    <tr>\n",
              "      <th>...</th>\n",
              "      <td>...</td>\n",
              "      <td>...</td>\n",
              "      <td>...</td>\n",
              "      <td>...</td>\n",
              "      <td>...</td>\n",
              "      <td>...</td>\n",
              "    </tr>\n",
              "    <tr>\n",
              "      <th>1030</th>\n",
              "      <td>2019-06-20 22:00:00</td>\n",
              "      <td>NaN</td>\n",
              "      <td>21.4</td>\n",
              "      <td>NaN</td>\n",
              "      <td>NaN</td>\n",
              "      <td>1.882</td>\n",
              "    </tr>\n",
              "    <tr>\n",
              "      <th>1031</th>\n",
              "      <td>2019-06-20 23:00:00</td>\n",
              "      <td>NaN</td>\n",
              "      <td>24.9</td>\n",
              "      <td>NaN</td>\n",
              "      <td>NaN</td>\n",
              "      <td>1.882</td>\n",
              "    </tr>\n",
              "    <tr>\n",
              "      <th>1032</th>\n",
              "      <td>2019-06-21 00:00:00</td>\n",
              "      <td>NaN</td>\n",
              "      <td>26.5</td>\n",
              "      <td>NaN</td>\n",
              "      <td>NaN</td>\n",
              "      <td>1.882</td>\n",
              "    </tr>\n",
              "    <tr>\n",
              "      <th>1033</th>\n",
              "      <td>2019-06-21 01:00:00</td>\n",
              "      <td>NaN</td>\n",
              "      <td>21.8</td>\n",
              "      <td>NaN</td>\n",
              "      <td>NaN</td>\n",
              "      <td>1.882</td>\n",
              "    </tr>\n",
              "    <tr>\n",
              "      <th>1034</th>\n",
              "      <td>2019-06-21 02:00:00</td>\n",
              "      <td>NaN</td>\n",
              "      <td>20.0</td>\n",
              "      <td>NaN</td>\n",
              "      <td>NaN</td>\n",
              "      <td>1.882</td>\n",
              "    </tr>\n",
              "  </tbody>\n",
              "</table>\n",
              "<p>1035 rows × 6 columns</p>\n",
              "</div>"
            ],
            "text/plain": [
              "                 datetime  station_antwerp  ...  london_mg_per_cubic   test\n",
              "0     2019-05-07 02:00:00              NaN  ...               43.286  1.882\n",
              "1     2019-05-07 03:00:00             50.5  ...               35.758  1.882\n",
              "2     2019-05-07 04:00:00             45.0  ...               35.758  1.882\n",
              "3     2019-05-07 05:00:00              NaN  ...               30.112  1.882\n",
              "4     2019-05-07 06:00:00              NaN  ...                  NaN  1.882\n",
              "...                   ...              ...  ...                  ...    ...\n",
              "1030  2019-06-20 22:00:00              NaN  ...                  NaN  1.882\n",
              "1031  2019-06-20 23:00:00              NaN  ...                  NaN  1.882\n",
              "1032  2019-06-21 00:00:00              NaN  ...                  NaN  1.882\n",
              "1033  2019-06-21 01:00:00              NaN  ...                  NaN  1.882\n",
              "1034  2019-06-21 02:00:00              NaN  ...                  NaN  1.882\n",
              "\n",
              "[1035 rows x 6 columns]"
            ]
          },
          "metadata": {},
          "execution_count": 6
        }
      ]
    },
    {
      "cell_type": "markdown",
      "metadata": {
        "id": "jmLXdfpFTLyV"
      },
      "source": [
        "### element_wise 기능이 좋은 점은?\n",
        "\n",
        "아래와 같이 복잡한 작업을 위와 같이 쉽게 처리해주기 때문!\n",
        "\n"
      ]
    },
    {
      "cell_type": "code",
      "metadata": {
        "colab": {
          "base_uri": "https://localhost:8080/"
        },
        "id": "bxJjL0A8TYMT",
        "outputId": "426da5ca-e179-470e-a9e5-bacd339bfd92"
      },
      "source": [
        "a = [1,2,3,4]\n",
        "a"
      ],
      "execution_count": null,
      "outputs": [
        {
          "output_type": "execute_result",
          "data": {
            "text/plain": [
              "[1, 2, 3, 4]"
            ]
          },
          "metadata": {},
          "execution_count": 7
        }
      ]
    },
    {
      "cell_type": "code",
      "metadata": {
        "colab": {
          "base_uri": "https://localhost:8080/"
        },
        "id": "OCjQRfhXTaKR",
        "outputId": "3d3b5bfa-91d1-428b-e8c4-dc584afa8ce5"
      },
      "source": [
        "a*2"
      ],
      "execution_count": null,
      "outputs": [
        {
          "output_type": "execute_result",
          "data": {
            "text/plain": [
              "[1, 2, 3, 4, 1, 2, 3, 4]"
            ]
          },
          "metadata": {},
          "execution_count": 8
        }
      ]
    },
    {
      "cell_type": "code",
      "metadata": {
        "id": "7Hmaa_fTTb6e"
      },
      "source": [
        "b = []\n",
        "\n",
        "for i in a:\n",
        "  b.append(i*2)"
      ],
      "execution_count": null,
      "outputs": []
    },
    {
      "cell_type": "code",
      "metadata": {
        "colab": {
          "base_uri": "https://localhost:8080/"
        },
        "id": "dJrhS025TiN7",
        "outputId": "e6bcadc8-d734-45cc-944d-a94decf6d309"
      },
      "source": [
        "b"
      ],
      "execution_count": null,
      "outputs": [
        {
          "output_type": "execute_result",
          "data": {
            "text/plain": [
              "[2, 4, 6, 8]"
            ]
          },
          "metadata": {},
          "execution_count": 10
        }
      ]
    },
    {
      "cell_type": "markdown",
      "metadata": {
        "id": "EeXrVLsJTirc"
      },
      "source": [
        "# 컬럼끼리 연산하기"
      ]
    },
    {
      "cell_type": "code",
      "metadata": {
        "colab": {
          "base_uri": "https://localhost:8080/",
          "height": 414
        },
        "id": "zOLXT7VPT3Kc",
        "outputId": "23547fa2-f6cc-4702-a74d-855524cd3a37"
      },
      "source": [
        "air_quality['ratio_paris_antwerp'] = air_quality['station_paris'] / air_quality['station_antwerp']\n",
        "air_quality"
      ],
      "execution_count": null,
      "outputs": [
        {
          "output_type": "execute_result",
          "data": {
            "text/html": [
              "<div>\n",
              "<style scoped>\n",
              "    .dataframe tbody tr th:only-of-type {\n",
              "        vertical-align: middle;\n",
              "    }\n",
              "\n",
              "    .dataframe tbody tr th {\n",
              "        vertical-align: top;\n",
              "    }\n",
              "\n",
              "    .dataframe thead th {\n",
              "        text-align: right;\n",
              "    }\n",
              "</style>\n",
              "<table border=\"1\" class=\"dataframe\">\n",
              "  <thead>\n",
              "    <tr style=\"text-align: right;\">\n",
              "      <th></th>\n",
              "      <th>datetime</th>\n",
              "      <th>station_antwerp</th>\n",
              "      <th>station_paris</th>\n",
              "      <th>station_london</th>\n",
              "      <th>london_mg_per_cubic</th>\n",
              "      <th>test</th>\n",
              "      <th>ratio_paris_antwerp</th>\n",
              "    </tr>\n",
              "  </thead>\n",
              "  <tbody>\n",
              "    <tr>\n",
              "      <th>0</th>\n",
              "      <td>2019-05-07 02:00:00</td>\n",
              "      <td>NaN</td>\n",
              "      <td>NaN</td>\n",
              "      <td>23.0</td>\n",
              "      <td>43.286</td>\n",
              "      <td>1.882</td>\n",
              "      <td>NaN</td>\n",
              "    </tr>\n",
              "    <tr>\n",
              "      <th>1</th>\n",
              "      <td>2019-05-07 03:00:00</td>\n",
              "      <td>50.5</td>\n",
              "      <td>25.0</td>\n",
              "      <td>19.0</td>\n",
              "      <td>35.758</td>\n",
              "      <td>1.882</td>\n",
              "      <td>0.495050</td>\n",
              "    </tr>\n",
              "    <tr>\n",
              "      <th>2</th>\n",
              "      <td>2019-05-07 04:00:00</td>\n",
              "      <td>45.0</td>\n",
              "      <td>27.7</td>\n",
              "      <td>19.0</td>\n",
              "      <td>35.758</td>\n",
              "      <td>1.882</td>\n",
              "      <td>0.615556</td>\n",
              "    </tr>\n",
              "    <tr>\n",
              "      <th>3</th>\n",
              "      <td>2019-05-07 05:00:00</td>\n",
              "      <td>NaN</td>\n",
              "      <td>50.4</td>\n",
              "      <td>16.0</td>\n",
              "      <td>30.112</td>\n",
              "      <td>1.882</td>\n",
              "      <td>NaN</td>\n",
              "    </tr>\n",
              "    <tr>\n",
              "      <th>4</th>\n",
              "      <td>2019-05-07 06:00:00</td>\n",
              "      <td>NaN</td>\n",
              "      <td>61.9</td>\n",
              "      <td>NaN</td>\n",
              "      <td>NaN</td>\n",
              "      <td>1.882</td>\n",
              "      <td>NaN</td>\n",
              "    </tr>\n",
              "    <tr>\n",
              "      <th>...</th>\n",
              "      <td>...</td>\n",
              "      <td>...</td>\n",
              "      <td>...</td>\n",
              "      <td>...</td>\n",
              "      <td>...</td>\n",
              "      <td>...</td>\n",
              "      <td>...</td>\n",
              "    </tr>\n",
              "    <tr>\n",
              "      <th>1030</th>\n",
              "      <td>2019-06-20 22:00:00</td>\n",
              "      <td>NaN</td>\n",
              "      <td>21.4</td>\n",
              "      <td>NaN</td>\n",
              "      <td>NaN</td>\n",
              "      <td>1.882</td>\n",
              "      <td>NaN</td>\n",
              "    </tr>\n",
              "    <tr>\n",
              "      <th>1031</th>\n",
              "      <td>2019-06-20 23:00:00</td>\n",
              "      <td>NaN</td>\n",
              "      <td>24.9</td>\n",
              "      <td>NaN</td>\n",
              "      <td>NaN</td>\n",
              "      <td>1.882</td>\n",
              "      <td>NaN</td>\n",
              "    </tr>\n",
              "    <tr>\n",
              "      <th>1032</th>\n",
              "      <td>2019-06-21 00:00:00</td>\n",
              "      <td>NaN</td>\n",
              "      <td>26.5</td>\n",
              "      <td>NaN</td>\n",
              "      <td>NaN</td>\n",
              "      <td>1.882</td>\n",
              "      <td>NaN</td>\n",
              "    </tr>\n",
              "    <tr>\n",
              "      <th>1033</th>\n",
              "      <td>2019-06-21 01:00:00</td>\n",
              "      <td>NaN</td>\n",
              "      <td>21.8</td>\n",
              "      <td>NaN</td>\n",
              "      <td>NaN</td>\n",
              "      <td>1.882</td>\n",
              "      <td>NaN</td>\n",
              "    </tr>\n",
              "    <tr>\n",
              "      <th>1034</th>\n",
              "      <td>2019-06-21 02:00:00</td>\n",
              "      <td>NaN</td>\n",
              "      <td>20.0</td>\n",
              "      <td>NaN</td>\n",
              "      <td>NaN</td>\n",
              "      <td>1.882</td>\n",
              "      <td>NaN</td>\n",
              "    </tr>\n",
              "  </tbody>\n",
              "</table>\n",
              "<p>1035 rows × 7 columns</p>\n",
              "</div>"
            ],
            "text/plain": [
              "                 datetime  station_antwerp  ...   test  ratio_paris_antwerp\n",
              "0     2019-05-07 02:00:00              NaN  ...  1.882                  NaN\n",
              "1     2019-05-07 03:00:00             50.5  ...  1.882             0.495050\n",
              "2     2019-05-07 04:00:00             45.0  ...  1.882             0.615556\n",
              "3     2019-05-07 05:00:00              NaN  ...  1.882                  NaN\n",
              "4     2019-05-07 06:00:00              NaN  ...  1.882                  NaN\n",
              "...                   ...              ...  ...    ...                  ...\n",
              "1030  2019-06-20 22:00:00              NaN  ...  1.882                  NaN\n",
              "1031  2019-06-20 23:00:00              NaN  ...  1.882                  NaN\n",
              "1032  2019-06-21 00:00:00              NaN  ...  1.882                  NaN\n",
              "1033  2019-06-21 01:00:00              NaN  ...  1.882                  NaN\n",
              "1034  2019-06-21 02:00:00              NaN  ...  1.882                  NaN\n",
              "\n",
              "[1035 rows x 7 columns]"
            ]
          },
          "metadata": {},
          "execution_count": 11
        }
      ]
    },
    {
      "cell_type": "markdown",
      "metadata": {
        "id": "FWIthghqURUA"
      },
      "source": [
        "# 컬럼 이름 수정"
      ]
    },
    {
      "cell_type": "code",
      "metadata": {
        "colab": {
          "base_uri": "https://localhost:8080/",
          "height": 414
        },
        "id": "LuRDGjtnUdod",
        "outputId": "60daa9e7-4c10-4955-cba5-2eefaa71e819"
      },
      "source": [
        "# air_quality.rename(columns={'station_london':'FR04014'})  이렇게만 하면 air_quality 프레임 자체가 바뀐 것은 아니기 때문에 덮어 씌우거나 새로운 df를 지칭해줘야 함\n",
        "air_quality_renamed = air_quality.rename(columns={'station_london':'FR04014'})\n",
        "air_quality_renamed"
      ],
      "execution_count": null,
      "outputs": [
        {
          "output_type": "execute_result",
          "data": {
            "text/html": [
              "<div>\n",
              "<style scoped>\n",
              "    .dataframe tbody tr th:only-of-type {\n",
              "        vertical-align: middle;\n",
              "    }\n",
              "\n",
              "    .dataframe tbody tr th {\n",
              "        vertical-align: top;\n",
              "    }\n",
              "\n",
              "    .dataframe thead th {\n",
              "        text-align: right;\n",
              "    }\n",
              "</style>\n",
              "<table border=\"1\" class=\"dataframe\">\n",
              "  <thead>\n",
              "    <tr style=\"text-align: right;\">\n",
              "      <th></th>\n",
              "      <th>datetime</th>\n",
              "      <th>station_antwerp</th>\n",
              "      <th>station_paris</th>\n",
              "      <th>FR04014</th>\n",
              "      <th>london_mg_per_cubic</th>\n",
              "      <th>test</th>\n",
              "      <th>ratio_paris_antwerp</th>\n",
              "    </tr>\n",
              "  </thead>\n",
              "  <tbody>\n",
              "    <tr>\n",
              "      <th>0</th>\n",
              "      <td>2019-05-07 02:00:00</td>\n",
              "      <td>NaN</td>\n",
              "      <td>NaN</td>\n",
              "      <td>23.0</td>\n",
              "      <td>43.286</td>\n",
              "      <td>1.882</td>\n",
              "      <td>NaN</td>\n",
              "    </tr>\n",
              "    <tr>\n",
              "      <th>1</th>\n",
              "      <td>2019-05-07 03:00:00</td>\n",
              "      <td>50.5</td>\n",
              "      <td>25.0</td>\n",
              "      <td>19.0</td>\n",
              "      <td>35.758</td>\n",
              "      <td>1.882</td>\n",
              "      <td>0.495050</td>\n",
              "    </tr>\n",
              "    <tr>\n",
              "      <th>2</th>\n",
              "      <td>2019-05-07 04:00:00</td>\n",
              "      <td>45.0</td>\n",
              "      <td>27.7</td>\n",
              "      <td>19.0</td>\n",
              "      <td>35.758</td>\n",
              "      <td>1.882</td>\n",
              "      <td>0.615556</td>\n",
              "    </tr>\n",
              "    <tr>\n",
              "      <th>3</th>\n",
              "      <td>2019-05-07 05:00:00</td>\n",
              "      <td>NaN</td>\n",
              "      <td>50.4</td>\n",
              "      <td>16.0</td>\n",
              "      <td>30.112</td>\n",
              "      <td>1.882</td>\n",
              "      <td>NaN</td>\n",
              "    </tr>\n",
              "    <tr>\n",
              "      <th>4</th>\n",
              "      <td>2019-05-07 06:00:00</td>\n",
              "      <td>NaN</td>\n",
              "      <td>61.9</td>\n",
              "      <td>NaN</td>\n",
              "      <td>NaN</td>\n",
              "      <td>1.882</td>\n",
              "      <td>NaN</td>\n",
              "    </tr>\n",
              "    <tr>\n",
              "      <th>...</th>\n",
              "      <td>...</td>\n",
              "      <td>...</td>\n",
              "      <td>...</td>\n",
              "      <td>...</td>\n",
              "      <td>...</td>\n",
              "      <td>...</td>\n",
              "      <td>...</td>\n",
              "    </tr>\n",
              "    <tr>\n",
              "      <th>1030</th>\n",
              "      <td>2019-06-20 22:00:00</td>\n",
              "      <td>NaN</td>\n",
              "      <td>21.4</td>\n",
              "      <td>NaN</td>\n",
              "      <td>NaN</td>\n",
              "      <td>1.882</td>\n",
              "      <td>NaN</td>\n",
              "    </tr>\n",
              "    <tr>\n",
              "      <th>1031</th>\n",
              "      <td>2019-06-20 23:00:00</td>\n",
              "      <td>NaN</td>\n",
              "      <td>24.9</td>\n",
              "      <td>NaN</td>\n",
              "      <td>NaN</td>\n",
              "      <td>1.882</td>\n",
              "      <td>NaN</td>\n",
              "    </tr>\n",
              "    <tr>\n",
              "      <th>1032</th>\n",
              "      <td>2019-06-21 00:00:00</td>\n",
              "      <td>NaN</td>\n",
              "      <td>26.5</td>\n",
              "      <td>NaN</td>\n",
              "      <td>NaN</td>\n",
              "      <td>1.882</td>\n",
              "      <td>NaN</td>\n",
              "    </tr>\n",
              "    <tr>\n",
              "      <th>1033</th>\n",
              "      <td>2019-06-21 01:00:00</td>\n",
              "      <td>NaN</td>\n",
              "      <td>21.8</td>\n",
              "      <td>NaN</td>\n",
              "      <td>NaN</td>\n",
              "      <td>1.882</td>\n",
              "      <td>NaN</td>\n",
              "    </tr>\n",
              "    <tr>\n",
              "      <th>1034</th>\n",
              "      <td>2019-06-21 02:00:00</td>\n",
              "      <td>NaN</td>\n",
              "      <td>20.0</td>\n",
              "      <td>NaN</td>\n",
              "      <td>NaN</td>\n",
              "      <td>1.882</td>\n",
              "      <td>NaN</td>\n",
              "    </tr>\n",
              "  </tbody>\n",
              "</table>\n",
              "<p>1035 rows × 7 columns</p>\n",
              "</div>"
            ],
            "text/plain": [
              "                 datetime  station_antwerp  ...   test  ratio_paris_antwerp\n",
              "0     2019-05-07 02:00:00              NaN  ...  1.882                  NaN\n",
              "1     2019-05-07 03:00:00             50.5  ...  1.882             0.495050\n",
              "2     2019-05-07 04:00:00             45.0  ...  1.882             0.615556\n",
              "3     2019-05-07 05:00:00              NaN  ...  1.882                  NaN\n",
              "4     2019-05-07 06:00:00              NaN  ...  1.882                  NaN\n",
              "...                   ...              ...  ...    ...                  ...\n",
              "1030  2019-06-20 22:00:00              NaN  ...  1.882                  NaN\n",
              "1031  2019-06-20 23:00:00              NaN  ...  1.882                  NaN\n",
              "1032  2019-06-21 00:00:00              NaN  ...  1.882                  NaN\n",
              "1033  2019-06-21 01:00:00              NaN  ...  1.882                  NaN\n",
              "1034  2019-06-21 02:00:00              NaN  ...  1.882                  NaN\n",
              "\n",
              "[1035 rows x 7 columns]"
            ]
          },
          "metadata": {},
          "execution_count": 17
        }
      ]
    },
    {
      "cell_type": "code",
      "metadata": {
        "colab": {
          "base_uri": "https://localhost:8080/",
          "height": 414
        },
        "id": "IcOAUkXbUkkb",
        "outputId": "cdc3d538-b316-43eb-e49a-0660a6ca7ebf"
      },
      "source": [
        "air_quality_renamed_upper = air_quality.rename(columns=str.upper) # columns을 전부 대문자로 바꿔줌, 소문자로 바꾸고 싶으면 lower\n",
        "air_quality_renamed_upper"
      ],
      "execution_count": null,
      "outputs": [
        {
          "output_type": "execute_result",
          "data": {
            "text/html": [
              "<div>\n",
              "<style scoped>\n",
              "    .dataframe tbody tr th:only-of-type {\n",
              "        vertical-align: middle;\n",
              "    }\n",
              "\n",
              "    .dataframe tbody tr th {\n",
              "        vertical-align: top;\n",
              "    }\n",
              "\n",
              "    .dataframe thead th {\n",
              "        text-align: right;\n",
              "    }\n",
              "</style>\n",
              "<table border=\"1\" class=\"dataframe\">\n",
              "  <thead>\n",
              "    <tr style=\"text-align: right;\">\n",
              "      <th></th>\n",
              "      <th>DATETIME</th>\n",
              "      <th>STATION_ANTWERP</th>\n",
              "      <th>STATION_PARIS</th>\n",
              "      <th>STATION_LONDON</th>\n",
              "      <th>LONDON_MG_PER_CUBIC</th>\n",
              "      <th>TEST</th>\n",
              "      <th>RATIO_PARIS_ANTWERP</th>\n",
              "    </tr>\n",
              "  </thead>\n",
              "  <tbody>\n",
              "    <tr>\n",
              "      <th>0</th>\n",
              "      <td>2019-05-07 02:00:00</td>\n",
              "      <td>NaN</td>\n",
              "      <td>NaN</td>\n",
              "      <td>23.0</td>\n",
              "      <td>43.286</td>\n",
              "      <td>1.882</td>\n",
              "      <td>NaN</td>\n",
              "    </tr>\n",
              "    <tr>\n",
              "      <th>1</th>\n",
              "      <td>2019-05-07 03:00:00</td>\n",
              "      <td>50.5</td>\n",
              "      <td>25.0</td>\n",
              "      <td>19.0</td>\n",
              "      <td>35.758</td>\n",
              "      <td>1.882</td>\n",
              "      <td>0.495050</td>\n",
              "    </tr>\n",
              "    <tr>\n",
              "      <th>2</th>\n",
              "      <td>2019-05-07 04:00:00</td>\n",
              "      <td>45.0</td>\n",
              "      <td>27.7</td>\n",
              "      <td>19.0</td>\n",
              "      <td>35.758</td>\n",
              "      <td>1.882</td>\n",
              "      <td>0.615556</td>\n",
              "    </tr>\n",
              "    <tr>\n",
              "      <th>3</th>\n",
              "      <td>2019-05-07 05:00:00</td>\n",
              "      <td>NaN</td>\n",
              "      <td>50.4</td>\n",
              "      <td>16.0</td>\n",
              "      <td>30.112</td>\n",
              "      <td>1.882</td>\n",
              "      <td>NaN</td>\n",
              "    </tr>\n",
              "    <tr>\n",
              "      <th>4</th>\n",
              "      <td>2019-05-07 06:00:00</td>\n",
              "      <td>NaN</td>\n",
              "      <td>61.9</td>\n",
              "      <td>NaN</td>\n",
              "      <td>NaN</td>\n",
              "      <td>1.882</td>\n",
              "      <td>NaN</td>\n",
              "    </tr>\n",
              "    <tr>\n",
              "      <th>...</th>\n",
              "      <td>...</td>\n",
              "      <td>...</td>\n",
              "      <td>...</td>\n",
              "      <td>...</td>\n",
              "      <td>...</td>\n",
              "      <td>...</td>\n",
              "      <td>...</td>\n",
              "    </tr>\n",
              "    <tr>\n",
              "      <th>1030</th>\n",
              "      <td>2019-06-20 22:00:00</td>\n",
              "      <td>NaN</td>\n",
              "      <td>21.4</td>\n",
              "      <td>NaN</td>\n",
              "      <td>NaN</td>\n",
              "      <td>1.882</td>\n",
              "      <td>NaN</td>\n",
              "    </tr>\n",
              "    <tr>\n",
              "      <th>1031</th>\n",
              "      <td>2019-06-20 23:00:00</td>\n",
              "      <td>NaN</td>\n",
              "      <td>24.9</td>\n",
              "      <td>NaN</td>\n",
              "      <td>NaN</td>\n",
              "      <td>1.882</td>\n",
              "      <td>NaN</td>\n",
              "    </tr>\n",
              "    <tr>\n",
              "      <th>1032</th>\n",
              "      <td>2019-06-21 00:00:00</td>\n",
              "      <td>NaN</td>\n",
              "      <td>26.5</td>\n",
              "      <td>NaN</td>\n",
              "      <td>NaN</td>\n",
              "      <td>1.882</td>\n",
              "      <td>NaN</td>\n",
              "    </tr>\n",
              "    <tr>\n",
              "      <th>1033</th>\n",
              "      <td>2019-06-21 01:00:00</td>\n",
              "      <td>NaN</td>\n",
              "      <td>21.8</td>\n",
              "      <td>NaN</td>\n",
              "      <td>NaN</td>\n",
              "      <td>1.882</td>\n",
              "      <td>NaN</td>\n",
              "    </tr>\n",
              "    <tr>\n",
              "      <th>1034</th>\n",
              "      <td>2019-06-21 02:00:00</td>\n",
              "      <td>NaN</td>\n",
              "      <td>20.0</td>\n",
              "      <td>NaN</td>\n",
              "      <td>NaN</td>\n",
              "      <td>1.882</td>\n",
              "      <td>NaN</td>\n",
              "    </tr>\n",
              "  </tbody>\n",
              "</table>\n",
              "<p>1035 rows × 7 columns</p>\n",
              "</div>"
            ],
            "text/plain": [
              "                 DATETIME  STATION_ANTWERP  ...   TEST  RATIO_PARIS_ANTWERP\n",
              "0     2019-05-07 02:00:00              NaN  ...  1.882                  NaN\n",
              "1     2019-05-07 03:00:00             50.5  ...  1.882             0.495050\n",
              "2     2019-05-07 04:00:00             45.0  ...  1.882             0.615556\n",
              "3     2019-05-07 05:00:00              NaN  ...  1.882                  NaN\n",
              "4     2019-05-07 06:00:00              NaN  ...  1.882                  NaN\n",
              "...                   ...              ...  ...    ...                  ...\n",
              "1030  2019-06-20 22:00:00              NaN  ...  1.882                  NaN\n",
              "1031  2019-06-20 23:00:00              NaN  ...  1.882                  NaN\n",
              "1032  2019-06-21 00:00:00              NaN  ...  1.882                  NaN\n",
              "1033  2019-06-21 01:00:00              NaN  ...  1.882                  NaN\n",
              "1034  2019-06-21 02:00:00              NaN  ...  1.882                  NaN\n",
              "\n",
              "[1035 rows x 7 columns]"
            ]
          },
          "metadata": {},
          "execution_count": 21
        }
      ]
    },
    {
      "cell_type": "markdown",
      "metadata": {
        "id": "5c3lLXw9VFRC"
      },
      "source": [
        "# 특정 컬럼 삭제하기"
      ]
    },
    {
      "cell_type": "code",
      "metadata": {
        "colab": {
          "base_uri": "https://localhost:8080/",
          "height": 110
        },
        "id": "U48sOCtzV6u9",
        "outputId": "7c7d0071-2229-4762-e79a-a8a9c3cb23b6"
      },
      "source": [
        "df = air_quality.drop(['station_antwerp','station_london'],axis=1)\n",
        "df.head(2)"
      ],
      "execution_count": null,
      "outputs": [
        {
          "output_type": "execute_result",
          "data": {
            "text/html": [
              "<div>\n",
              "<style scoped>\n",
              "    .dataframe tbody tr th:only-of-type {\n",
              "        vertical-align: middle;\n",
              "    }\n",
              "\n",
              "    .dataframe tbody tr th {\n",
              "        vertical-align: top;\n",
              "    }\n",
              "\n",
              "    .dataframe thead th {\n",
              "        text-align: right;\n",
              "    }\n",
              "</style>\n",
              "<table border=\"1\" class=\"dataframe\">\n",
              "  <thead>\n",
              "    <tr style=\"text-align: right;\">\n",
              "      <th></th>\n",
              "      <th>datetime</th>\n",
              "      <th>station_paris</th>\n",
              "      <th>london_mg_per_cubic</th>\n",
              "      <th>test</th>\n",
              "      <th>ratio_paris_antwerp</th>\n",
              "    </tr>\n",
              "  </thead>\n",
              "  <tbody>\n",
              "    <tr>\n",
              "      <th>0</th>\n",
              "      <td>2019-05-07 02:00:00</td>\n",
              "      <td>NaN</td>\n",
              "      <td>43.286</td>\n",
              "      <td>1.882</td>\n",
              "      <td>NaN</td>\n",
              "    </tr>\n",
              "    <tr>\n",
              "      <th>1</th>\n",
              "      <td>2019-05-07 03:00:00</td>\n",
              "      <td>25.0</td>\n",
              "      <td>35.758</td>\n",
              "      <td>1.882</td>\n",
              "      <td>0.49505</td>\n",
              "    </tr>\n",
              "  </tbody>\n",
              "</table>\n",
              "</div>"
            ],
            "text/plain": [
              "              datetime  station_paris  ...   test  ratio_paris_antwerp\n",
              "0  2019-05-07 02:00:00            NaN  ...  1.882                  NaN\n",
              "1  2019-05-07 03:00:00           25.0  ...  1.882              0.49505\n",
              "\n",
              "[2 rows x 5 columns]"
            ]
          },
          "metadata": {},
          "execution_count": 23
        }
      ]
    },
    {
      "cell_type": "markdown",
      "metadata": {
        "id": "59NT8SkBWUJ1"
      },
      "source": [
        "# 특정 로우 삭제하기"
      ]
    },
    {
      "cell_type": "code",
      "metadata": {
        "colab": {
          "base_uri": "https://localhost:8080/"
        },
        "id": "tLbTpn7WWaM5",
        "outputId": "16a9103f-c966-411a-aec2-24b5d5b554ec"
      },
      "source": [
        "air_quality.shape"
      ],
      "execution_count": null,
      "outputs": [
        {
          "output_type": "execute_result",
          "data": {
            "text/plain": [
              "(1035, 7)"
            ]
          },
          "metadata": {},
          "execution_count": 25
        }
      ]
    },
    {
      "cell_type": "code",
      "metadata": {
        "id": "f3ZpzSASWb0v"
      },
      "source": [
        "df = air_quality.drop([0,1],axis=0) # 0,1인덱스를 가지는 것을 삭제하고 싶음, axis=0은 default니까 써도되고 안써도 됨 "
      ],
      "execution_count": null,
      "outputs": []
    },
    {
      "cell_type": "code",
      "metadata": {
        "colab": {
          "base_uri": "https://localhost:8080/",
          "height": 414
        },
        "id": "Vo0U83SBWu6D",
        "outputId": "81c8d11e-438b-4d21-d8b8-f9d76fd3a169"
      },
      "source": [
        "df"
      ],
      "execution_count": null,
      "outputs": [
        {
          "output_type": "execute_result",
          "data": {
            "text/html": [
              "<div>\n",
              "<style scoped>\n",
              "    .dataframe tbody tr th:only-of-type {\n",
              "        vertical-align: middle;\n",
              "    }\n",
              "\n",
              "    .dataframe tbody tr th {\n",
              "        vertical-align: top;\n",
              "    }\n",
              "\n",
              "    .dataframe thead th {\n",
              "        text-align: right;\n",
              "    }\n",
              "</style>\n",
              "<table border=\"1\" class=\"dataframe\">\n",
              "  <thead>\n",
              "    <tr style=\"text-align: right;\">\n",
              "      <th></th>\n",
              "      <th>datetime</th>\n",
              "      <th>station_antwerp</th>\n",
              "      <th>station_paris</th>\n",
              "      <th>station_london</th>\n",
              "      <th>london_mg_per_cubic</th>\n",
              "      <th>test</th>\n",
              "      <th>ratio_paris_antwerp</th>\n",
              "    </tr>\n",
              "  </thead>\n",
              "  <tbody>\n",
              "    <tr>\n",
              "      <th>2</th>\n",
              "      <td>2019-05-07 04:00:00</td>\n",
              "      <td>45.0</td>\n",
              "      <td>27.7</td>\n",
              "      <td>19.0</td>\n",
              "      <td>35.758</td>\n",
              "      <td>1.882</td>\n",
              "      <td>0.615556</td>\n",
              "    </tr>\n",
              "    <tr>\n",
              "      <th>3</th>\n",
              "      <td>2019-05-07 05:00:00</td>\n",
              "      <td>NaN</td>\n",
              "      <td>50.4</td>\n",
              "      <td>16.0</td>\n",
              "      <td>30.112</td>\n",
              "      <td>1.882</td>\n",
              "      <td>NaN</td>\n",
              "    </tr>\n",
              "    <tr>\n",
              "      <th>4</th>\n",
              "      <td>2019-05-07 06:00:00</td>\n",
              "      <td>NaN</td>\n",
              "      <td>61.9</td>\n",
              "      <td>NaN</td>\n",
              "      <td>NaN</td>\n",
              "      <td>1.882</td>\n",
              "      <td>NaN</td>\n",
              "    </tr>\n",
              "    <tr>\n",
              "      <th>5</th>\n",
              "      <td>2019-05-07 07:00:00</td>\n",
              "      <td>NaN</td>\n",
              "      <td>72.4</td>\n",
              "      <td>26.0</td>\n",
              "      <td>48.932</td>\n",
              "      <td>1.882</td>\n",
              "      <td>NaN</td>\n",
              "    </tr>\n",
              "    <tr>\n",
              "      <th>6</th>\n",
              "      <td>2019-05-07 08:00:00</td>\n",
              "      <td>NaN</td>\n",
              "      <td>77.7</td>\n",
              "      <td>32.0</td>\n",
              "      <td>60.224</td>\n",
              "      <td>1.882</td>\n",
              "      <td>NaN</td>\n",
              "    </tr>\n",
              "    <tr>\n",
              "      <th>...</th>\n",
              "      <td>...</td>\n",
              "      <td>...</td>\n",
              "      <td>...</td>\n",
              "      <td>...</td>\n",
              "      <td>...</td>\n",
              "      <td>...</td>\n",
              "      <td>...</td>\n",
              "    </tr>\n",
              "    <tr>\n",
              "      <th>1030</th>\n",
              "      <td>2019-06-20 22:00:00</td>\n",
              "      <td>NaN</td>\n",
              "      <td>21.4</td>\n",
              "      <td>NaN</td>\n",
              "      <td>NaN</td>\n",
              "      <td>1.882</td>\n",
              "      <td>NaN</td>\n",
              "    </tr>\n",
              "    <tr>\n",
              "      <th>1031</th>\n",
              "      <td>2019-06-20 23:00:00</td>\n",
              "      <td>NaN</td>\n",
              "      <td>24.9</td>\n",
              "      <td>NaN</td>\n",
              "      <td>NaN</td>\n",
              "      <td>1.882</td>\n",
              "      <td>NaN</td>\n",
              "    </tr>\n",
              "    <tr>\n",
              "      <th>1032</th>\n",
              "      <td>2019-06-21 00:00:00</td>\n",
              "      <td>NaN</td>\n",
              "      <td>26.5</td>\n",
              "      <td>NaN</td>\n",
              "      <td>NaN</td>\n",
              "      <td>1.882</td>\n",
              "      <td>NaN</td>\n",
              "    </tr>\n",
              "    <tr>\n",
              "      <th>1033</th>\n",
              "      <td>2019-06-21 01:00:00</td>\n",
              "      <td>NaN</td>\n",
              "      <td>21.8</td>\n",
              "      <td>NaN</td>\n",
              "      <td>NaN</td>\n",
              "      <td>1.882</td>\n",
              "      <td>NaN</td>\n",
              "    </tr>\n",
              "    <tr>\n",
              "      <th>1034</th>\n",
              "      <td>2019-06-21 02:00:00</td>\n",
              "      <td>NaN</td>\n",
              "      <td>20.0</td>\n",
              "      <td>NaN</td>\n",
              "      <td>NaN</td>\n",
              "      <td>1.882</td>\n",
              "      <td>NaN</td>\n",
              "    </tr>\n",
              "  </tbody>\n",
              "</table>\n",
              "<p>1033 rows × 7 columns</p>\n",
              "</div>"
            ],
            "text/plain": [
              "                 datetime  station_antwerp  ...   test  ratio_paris_antwerp\n",
              "2     2019-05-07 04:00:00             45.0  ...  1.882             0.615556\n",
              "3     2019-05-07 05:00:00              NaN  ...  1.882                  NaN\n",
              "4     2019-05-07 06:00:00              NaN  ...  1.882                  NaN\n",
              "5     2019-05-07 07:00:00              NaN  ...  1.882                  NaN\n",
              "6     2019-05-07 08:00:00              NaN  ...  1.882                  NaN\n",
              "...                   ...              ...  ...    ...                  ...\n",
              "1030  2019-06-20 22:00:00              NaN  ...  1.882                  NaN\n",
              "1031  2019-06-20 23:00:00              NaN  ...  1.882                  NaN\n",
              "1032  2019-06-21 00:00:00              NaN  ...  1.882                  NaN\n",
              "1033  2019-06-21 01:00:00              NaN  ...  1.882                  NaN\n",
              "1034  2019-06-21 02:00:00              NaN  ...  1.882                  NaN\n",
              "\n",
              "[1033 rows x 7 columns]"
            ]
          },
          "metadata": {},
          "execution_count": 27
        }
      ]
    },
    {
      "cell_type": "markdown",
      "metadata": {
        "id": "b1g-TGnhWwgP"
      },
      "source": [
        "# 중복 데이터 삭제하기"
      ]
    },
    {
      "cell_type": "code",
      "metadata": {
        "id": "i1DBBKsvW02F"
      },
      "source": [
        "df = air_quality.drop_duplicates()\n"
      ],
      "execution_count": null,
      "outputs": []
    },
    {
      "cell_type": "code",
      "metadata": {
        "colab": {
          "base_uri": "https://localhost:8080/",
          "height": 141
        },
        "id": "dcT6Z9paW9X1",
        "outputId": "7ba6ebea-7da4-4ea5-9cce-c40ccd58e9ce"
      },
      "source": [
        "df_1 = pd.DataFrame({'one':[1,2,1], 'two':[0,0,0]})\n",
        "df_1"
      ],
      "execution_count": null,
      "outputs": [
        {
          "output_type": "execute_result",
          "data": {
            "text/html": [
              "<div>\n",
              "<style scoped>\n",
              "    .dataframe tbody tr th:only-of-type {\n",
              "        vertical-align: middle;\n",
              "    }\n",
              "\n",
              "    .dataframe tbody tr th {\n",
              "        vertical-align: top;\n",
              "    }\n",
              "\n",
              "    .dataframe thead th {\n",
              "        text-align: right;\n",
              "    }\n",
              "</style>\n",
              "<table border=\"1\" class=\"dataframe\">\n",
              "  <thead>\n",
              "    <tr style=\"text-align: right;\">\n",
              "      <th></th>\n",
              "      <th>one</th>\n",
              "      <th>two</th>\n",
              "    </tr>\n",
              "  </thead>\n",
              "  <tbody>\n",
              "    <tr>\n",
              "      <th>0</th>\n",
              "      <td>1</td>\n",
              "      <td>0</td>\n",
              "    </tr>\n",
              "    <tr>\n",
              "      <th>1</th>\n",
              "      <td>2</td>\n",
              "      <td>0</td>\n",
              "    </tr>\n",
              "    <tr>\n",
              "      <th>2</th>\n",
              "      <td>1</td>\n",
              "      <td>0</td>\n",
              "    </tr>\n",
              "  </tbody>\n",
              "</table>\n",
              "</div>"
            ],
            "text/plain": [
              "   one  two\n",
              "0    1    0\n",
              "1    2    0\n",
              "2    1    0"
            ]
          },
          "metadata": {},
          "execution_count": 29
        }
      ]
    },
    {
      "cell_type": "code",
      "metadata": {
        "colab": {
          "base_uri": "https://localhost:8080/",
          "height": 110
        },
        "id": "U-4WJ1dgXN5K",
        "outputId": "c0798904-b345-41c1-f134-40bcfb593ffa"
      },
      "source": [
        "df_1.drop_duplicates()"
      ],
      "execution_count": null,
      "outputs": [
        {
          "output_type": "execute_result",
          "data": {
            "text/html": [
              "<div>\n",
              "<style scoped>\n",
              "    .dataframe tbody tr th:only-of-type {\n",
              "        vertical-align: middle;\n",
              "    }\n",
              "\n",
              "    .dataframe tbody tr th {\n",
              "        vertical-align: top;\n",
              "    }\n",
              "\n",
              "    .dataframe thead th {\n",
              "        text-align: right;\n",
              "    }\n",
              "</style>\n",
              "<table border=\"1\" class=\"dataframe\">\n",
              "  <thead>\n",
              "    <tr style=\"text-align: right;\">\n",
              "      <th></th>\n",
              "      <th>one</th>\n",
              "      <th>two</th>\n",
              "    </tr>\n",
              "  </thead>\n",
              "  <tbody>\n",
              "    <tr>\n",
              "      <th>0</th>\n",
              "      <td>1</td>\n",
              "      <td>0</td>\n",
              "    </tr>\n",
              "    <tr>\n",
              "      <th>1</th>\n",
              "      <td>2</td>\n",
              "      <td>0</td>\n",
              "    </tr>\n",
              "  </tbody>\n",
              "</table>\n",
              "</div>"
            ],
            "text/plain": [
              "   one  two\n",
              "0    1    0\n",
              "1    2    0"
            ]
          },
          "metadata": {},
          "execution_count": 30
        }
      ]
    },
    {
      "cell_type": "markdown",
      "metadata": {
        "id": "gqxH6IeYXS0O"
      },
      "source": [
        "# element-wise function: apply"
      ]
    },
    {
      "cell_type": "code",
      "metadata": {
        "colab": {
          "base_uri": "https://localhost:8080/",
          "height": 110
        },
        "id": "jF7_PVd8sgkt",
        "outputId": "8c54dc5d-0e9d-4490-a850-5e0ec7be804c"
      },
      "source": [
        "air_quality[\"london_mg_per_cubic\"] = air_quality[\"station_london\"]*1.882\n",
        "air_quality.head(2)"
      ],
      "execution_count": 3,
      "outputs": [
        {
          "output_type": "execute_result",
          "data": {
            "text/html": [
              "<div>\n",
              "<style scoped>\n",
              "    .dataframe tbody tr th:only-of-type {\n",
              "        vertical-align: middle;\n",
              "    }\n",
              "\n",
              "    .dataframe tbody tr th {\n",
              "        vertical-align: top;\n",
              "    }\n",
              "\n",
              "    .dataframe thead th {\n",
              "        text-align: right;\n",
              "    }\n",
              "</style>\n",
              "<table border=\"1\" class=\"dataframe\">\n",
              "  <thead>\n",
              "    <tr style=\"text-align: right;\">\n",
              "      <th></th>\n",
              "      <th>datetime</th>\n",
              "      <th>station_antwerp</th>\n",
              "      <th>station_paris</th>\n",
              "      <th>station_london</th>\n",
              "      <th>london_mg_per_cubic</th>\n",
              "    </tr>\n",
              "  </thead>\n",
              "  <tbody>\n",
              "    <tr>\n",
              "      <th>0</th>\n",
              "      <td>2019-05-07 02:00:00</td>\n",
              "      <td>NaN</td>\n",
              "      <td>NaN</td>\n",
              "      <td>23.0</td>\n",
              "      <td>43.286</td>\n",
              "    </tr>\n",
              "    <tr>\n",
              "      <th>1</th>\n",
              "      <td>2019-05-07 03:00:00</td>\n",
              "      <td>50.5</td>\n",
              "      <td>25.0</td>\n",
              "      <td>19.0</td>\n",
              "      <td>35.758</td>\n",
              "    </tr>\n",
              "  </tbody>\n",
              "</table>\n",
              "</div>"
            ],
            "text/plain": [
              "              datetime  station_antwerp  ...  station_london  london_mg_per_cubic\n",
              "0  2019-05-07 02:00:00              NaN  ...            23.0               43.286\n",
              "1  2019-05-07 03:00:00             50.5  ...            19.0               35.758\n",
              "\n",
              "[2 rows x 5 columns]"
            ]
          },
          "metadata": {},
          "execution_count": 3
        }
      ]
    },
    {
      "cell_type": "code",
      "metadata": {
        "colab": {
          "base_uri": "https://localhost:8080/"
        },
        "id": "la9bCI1Us9Ei",
        "outputId": "34823832-38ad-46ae-b6da-0dfd0ed676ee"
      },
      "source": [
        "s = pd.Series([20,21,12], index = ['London','New York','Helsinki'])\n",
        "s"
      ],
      "execution_count": 4,
      "outputs": [
        {
          "output_type": "execute_result",
          "data": {
            "text/plain": [
              "London      20\n",
              "New York    21\n",
              "Helsinki    12\n",
              "dtype: int64"
            ]
          },
          "metadata": {},
          "execution_count": 4
        }
      ]
    },
    {
      "cell_type": "code",
      "metadata": {
        "id": "6H93FWzptIgA"
      },
      "source": [
        "def square(x):\n",
        "  return x**2"
      ],
      "execution_count": 7,
      "outputs": []
    },
    {
      "cell_type": "code",
      "metadata": {
        "colab": {
          "base_uri": "https://localhost:8080/"
        },
        "id": "bEF8QYVHtNlX",
        "outputId": "e322f38f-11ca-4f19-959f-414e550345b9"
      },
      "source": [
        "square(10)"
      ],
      "execution_count": 8,
      "outputs": [
        {
          "output_type": "execute_result",
          "data": {
            "text/plain": [
              "100"
            ]
          },
          "metadata": {},
          "execution_count": 8
        }
      ]
    },
    {
      "cell_type": "code",
      "metadata": {
        "colab": {
          "base_uri": "https://localhost:8080/"
        },
        "id": "wN57GHFatOhn",
        "outputId": "3ac1606b-f386-4dc6-e0f7-c2999e8882cc"
      },
      "source": [
        "s.apply(square)"
      ],
      "execution_count": 9,
      "outputs": [
        {
          "output_type": "execute_result",
          "data": {
            "text/plain": [
              "London      400\n",
              "New York    441\n",
              "Helsinki    144\n",
              "dtype: int64"
            ]
          },
          "metadata": {},
          "execution_count": 9
        }
      ]
    },
    {
      "cell_type": "code",
      "metadata": {
        "colab": {
          "base_uri": "https://localhost:8080/"
        },
        "id": "m5uw3-N9tSpR",
        "outputId": "0fb7489a-aec8-49a2-884d-27bdb5c47cb0"
      },
      "source": [
        "s.apply(lambda x :x**2)"
      ],
      "execution_count": 10,
      "outputs": [
        {
          "output_type": "execute_result",
          "data": {
            "text/plain": [
              "London      400\n",
              "New York    441\n",
              "Helsinki    144\n",
              "dtype: int64"
            ]
          },
          "metadata": {},
          "execution_count": 10
        }
      ]
    },
    {
      "cell_type": "code",
      "metadata": {
        "colab": {
          "base_uri": "https://localhost:8080/",
          "height": 414
        },
        "id": "1R5KEoJ_tV4g",
        "outputId": "7ba9bd4e-776d-4553-a8e3-30063d651ffb"
      },
      "source": [
        "air_quality = air_quality.drop(['london_mg_per_cubic'],axis=1)\n",
        "air_quality"
      ],
      "execution_count": 13,
      "outputs": [
        {
          "output_type": "execute_result",
          "data": {
            "text/html": [
              "<div>\n",
              "<style scoped>\n",
              "    .dataframe tbody tr th:only-of-type {\n",
              "        vertical-align: middle;\n",
              "    }\n",
              "\n",
              "    .dataframe tbody tr th {\n",
              "        vertical-align: top;\n",
              "    }\n",
              "\n",
              "    .dataframe thead th {\n",
              "        text-align: right;\n",
              "    }\n",
              "</style>\n",
              "<table border=\"1\" class=\"dataframe\">\n",
              "  <thead>\n",
              "    <tr style=\"text-align: right;\">\n",
              "      <th></th>\n",
              "      <th>datetime</th>\n",
              "      <th>station_antwerp</th>\n",
              "      <th>station_paris</th>\n",
              "      <th>station_london</th>\n",
              "    </tr>\n",
              "  </thead>\n",
              "  <tbody>\n",
              "    <tr>\n",
              "      <th>0</th>\n",
              "      <td>2019-05-07 02:00:00</td>\n",
              "      <td>NaN</td>\n",
              "      <td>NaN</td>\n",
              "      <td>23.0</td>\n",
              "    </tr>\n",
              "    <tr>\n",
              "      <th>1</th>\n",
              "      <td>2019-05-07 03:00:00</td>\n",
              "      <td>50.5</td>\n",
              "      <td>25.0</td>\n",
              "      <td>19.0</td>\n",
              "    </tr>\n",
              "    <tr>\n",
              "      <th>2</th>\n",
              "      <td>2019-05-07 04:00:00</td>\n",
              "      <td>45.0</td>\n",
              "      <td>27.7</td>\n",
              "      <td>19.0</td>\n",
              "    </tr>\n",
              "    <tr>\n",
              "      <th>3</th>\n",
              "      <td>2019-05-07 05:00:00</td>\n",
              "      <td>NaN</td>\n",
              "      <td>50.4</td>\n",
              "      <td>16.0</td>\n",
              "    </tr>\n",
              "    <tr>\n",
              "      <th>4</th>\n",
              "      <td>2019-05-07 06:00:00</td>\n",
              "      <td>NaN</td>\n",
              "      <td>61.9</td>\n",
              "      <td>NaN</td>\n",
              "    </tr>\n",
              "    <tr>\n",
              "      <th>...</th>\n",
              "      <td>...</td>\n",
              "      <td>...</td>\n",
              "      <td>...</td>\n",
              "      <td>...</td>\n",
              "    </tr>\n",
              "    <tr>\n",
              "      <th>1030</th>\n",
              "      <td>2019-06-20 22:00:00</td>\n",
              "      <td>NaN</td>\n",
              "      <td>21.4</td>\n",
              "      <td>NaN</td>\n",
              "    </tr>\n",
              "    <tr>\n",
              "      <th>1031</th>\n",
              "      <td>2019-06-20 23:00:00</td>\n",
              "      <td>NaN</td>\n",
              "      <td>24.9</td>\n",
              "      <td>NaN</td>\n",
              "    </tr>\n",
              "    <tr>\n",
              "      <th>1032</th>\n",
              "      <td>2019-06-21 00:00:00</td>\n",
              "      <td>NaN</td>\n",
              "      <td>26.5</td>\n",
              "      <td>NaN</td>\n",
              "    </tr>\n",
              "    <tr>\n",
              "      <th>1033</th>\n",
              "      <td>2019-06-21 01:00:00</td>\n",
              "      <td>NaN</td>\n",
              "      <td>21.8</td>\n",
              "      <td>NaN</td>\n",
              "    </tr>\n",
              "    <tr>\n",
              "      <th>1034</th>\n",
              "      <td>2019-06-21 02:00:00</td>\n",
              "      <td>NaN</td>\n",
              "      <td>20.0</td>\n",
              "      <td>NaN</td>\n",
              "    </tr>\n",
              "  </tbody>\n",
              "</table>\n",
              "<p>1035 rows × 4 columns</p>\n",
              "</div>"
            ],
            "text/plain": [
              "                 datetime  station_antwerp  station_paris  station_london\n",
              "0     2019-05-07 02:00:00              NaN            NaN            23.0\n",
              "1     2019-05-07 03:00:00             50.5           25.0            19.0\n",
              "2     2019-05-07 04:00:00             45.0           27.7            19.0\n",
              "3     2019-05-07 05:00:00              NaN           50.4            16.0\n",
              "4     2019-05-07 06:00:00              NaN           61.9             NaN\n",
              "...                   ...              ...            ...             ...\n",
              "1030  2019-06-20 22:00:00              NaN           21.4             NaN\n",
              "1031  2019-06-20 23:00:00              NaN           24.9             NaN\n",
              "1032  2019-06-21 00:00:00              NaN           26.5             NaN\n",
              "1033  2019-06-21 01:00:00              NaN           21.8             NaN\n",
              "1034  2019-06-21 02:00:00              NaN           20.0             NaN\n",
              "\n",
              "[1035 rows x 4 columns]"
            ]
          },
          "metadata": {},
          "execution_count": 13
        }
      ]
    },
    {
      "cell_type": "code",
      "metadata": {
        "colab": {
          "base_uri": "https://localhost:8080/"
        },
        "id": "kQq5p3EDtYRW",
        "outputId": "8c83995a-9b18-4743-ce33-1f992357c162"
      },
      "source": [
        "mean = air_quality.mean().mean()\n",
        "mean"
      ],
      "execution_count": 15,
      "outputs": [
        {
          "output_type": "execute_result",
          "data": {
            "text/plain": [
              "26.09885833343611"
            ]
          },
          "metadata": {},
          "execution_count": 15
        }
      ]
    },
    {
      "cell_type": "code",
      "metadata": {
        "id": "BvRiF7IRtzyh"
      },
      "source": [
        "# air_quality df 안의 각 값들이 mean보다 큰지 작은지 계산\n",
        "\n",
        "def level(x):\n",
        "  if x >= mean:\n",
        "    result = 'high'\n",
        "  elif x < mean:\n",
        "    result = 'low'\n",
        "  else:\n",
        "    result = x\n",
        "  return result"
      ],
      "execution_count": 16,
      "outputs": []
    },
    {
      "cell_type": "code",
      "metadata": {
        "colab": {
          "base_uri": "https://localhost:8080/",
          "height": 355
        },
        "id": "FUSKZCiZuNKv",
        "outputId": "bc543943-2643-415a-b408-d9cffdb2ffee"
      },
      "source": [
        "air_quality['station_paris_level']=air_quality['station_paris'].apply(level)\n",
        "air_quality.head(10)"
      ],
      "execution_count": 18,
      "outputs": [
        {
          "output_type": "execute_result",
          "data": {
            "text/html": [
              "<div>\n",
              "<style scoped>\n",
              "    .dataframe tbody tr th:only-of-type {\n",
              "        vertical-align: middle;\n",
              "    }\n",
              "\n",
              "    .dataframe tbody tr th {\n",
              "        vertical-align: top;\n",
              "    }\n",
              "\n",
              "    .dataframe thead th {\n",
              "        text-align: right;\n",
              "    }\n",
              "</style>\n",
              "<table border=\"1\" class=\"dataframe\">\n",
              "  <thead>\n",
              "    <tr style=\"text-align: right;\">\n",
              "      <th></th>\n",
              "      <th>datetime</th>\n",
              "      <th>station_antwerp</th>\n",
              "      <th>station_paris</th>\n",
              "      <th>station_london</th>\n",
              "      <th>station_paris_level</th>\n",
              "    </tr>\n",
              "  </thead>\n",
              "  <tbody>\n",
              "    <tr>\n",
              "      <th>0</th>\n",
              "      <td>2019-05-07 02:00:00</td>\n",
              "      <td>NaN</td>\n",
              "      <td>NaN</td>\n",
              "      <td>23.0</td>\n",
              "      <td>NaN</td>\n",
              "    </tr>\n",
              "    <tr>\n",
              "      <th>1</th>\n",
              "      <td>2019-05-07 03:00:00</td>\n",
              "      <td>50.5</td>\n",
              "      <td>25.0</td>\n",
              "      <td>19.0</td>\n",
              "      <td>low</td>\n",
              "    </tr>\n",
              "    <tr>\n",
              "      <th>2</th>\n",
              "      <td>2019-05-07 04:00:00</td>\n",
              "      <td>45.0</td>\n",
              "      <td>27.7</td>\n",
              "      <td>19.0</td>\n",
              "      <td>high</td>\n",
              "    </tr>\n",
              "    <tr>\n",
              "      <th>3</th>\n",
              "      <td>2019-05-07 05:00:00</td>\n",
              "      <td>NaN</td>\n",
              "      <td>50.4</td>\n",
              "      <td>16.0</td>\n",
              "      <td>high</td>\n",
              "    </tr>\n",
              "    <tr>\n",
              "      <th>4</th>\n",
              "      <td>2019-05-07 06:00:00</td>\n",
              "      <td>NaN</td>\n",
              "      <td>61.9</td>\n",
              "      <td>NaN</td>\n",
              "      <td>high</td>\n",
              "    </tr>\n",
              "    <tr>\n",
              "      <th>5</th>\n",
              "      <td>2019-05-07 07:00:00</td>\n",
              "      <td>NaN</td>\n",
              "      <td>72.4</td>\n",
              "      <td>26.0</td>\n",
              "      <td>high</td>\n",
              "    </tr>\n",
              "    <tr>\n",
              "      <th>6</th>\n",
              "      <td>2019-05-07 08:00:00</td>\n",
              "      <td>NaN</td>\n",
              "      <td>77.7</td>\n",
              "      <td>32.0</td>\n",
              "      <td>high</td>\n",
              "    </tr>\n",
              "    <tr>\n",
              "      <th>7</th>\n",
              "      <td>2019-05-07 09:00:00</td>\n",
              "      <td>NaN</td>\n",
              "      <td>67.9</td>\n",
              "      <td>32.0</td>\n",
              "      <td>high</td>\n",
              "    </tr>\n",
              "    <tr>\n",
              "      <th>8</th>\n",
              "      <td>2019-05-07 10:00:00</td>\n",
              "      <td>NaN</td>\n",
              "      <td>56.0</td>\n",
              "      <td>28.0</td>\n",
              "      <td>high</td>\n",
              "    </tr>\n",
              "    <tr>\n",
              "      <th>9</th>\n",
              "      <td>2019-05-07 11:00:00</td>\n",
              "      <td>NaN</td>\n",
              "      <td>34.5</td>\n",
              "      <td>21.0</td>\n",
              "      <td>high</td>\n",
              "    </tr>\n",
              "  </tbody>\n",
              "</table>\n",
              "</div>"
            ],
            "text/plain": [
              "              datetime  station_antwerp  ...  station_london  station_paris_level\n",
              "0  2019-05-07 02:00:00              NaN  ...            23.0                  NaN\n",
              "1  2019-05-07 03:00:00             50.5  ...            19.0                  low\n",
              "2  2019-05-07 04:00:00             45.0  ...            19.0                 high\n",
              "3  2019-05-07 05:00:00              NaN  ...            16.0                 high\n",
              "4  2019-05-07 06:00:00              NaN  ...             NaN                 high\n",
              "5  2019-05-07 07:00:00              NaN  ...            26.0                 high\n",
              "6  2019-05-07 08:00:00              NaN  ...            32.0                 high\n",
              "7  2019-05-07 09:00:00              NaN  ...            32.0                 high\n",
              "8  2019-05-07 10:00:00              NaN  ...            28.0                 high\n",
              "9  2019-05-07 11:00:00              NaN  ...            21.0                 high\n",
              "\n",
              "[10 rows x 5 columns]"
            ]
          },
          "metadata": {},
          "execution_count": 18
        }
      ]
    },
    {
      "cell_type": "code",
      "metadata": {
        "colab": {
          "base_uri": "https://localhost:8080/"
        },
        "id": "OlT2EqN_uRxS",
        "outputId": "ee283561-bffe-48e0-912c-98ef44e003d6"
      },
      "source": [
        "air_quality['station_paris'].apply(lambda x: 'high' if x >=mean else 'low')"
      ],
      "execution_count": 19,
      "outputs": [
        {
          "output_type": "execute_result",
          "data": {
            "text/plain": [
              "0        low\n",
              "1        low\n",
              "2       high\n",
              "3       high\n",
              "4       high\n",
              "        ... \n",
              "1030     low\n",
              "1031     low\n",
              "1032    high\n",
              "1033     low\n",
              "1034     low\n",
              "Name: station_paris, Length: 1035, dtype: object"
            ]
          },
          "metadata": {},
          "execution_count": 19
        }
      ]
    },
    {
      "cell_type": "markdown",
      "metadata": {
        "id": "2pNIp7lluo-R"
      },
      "source": [
        "# Calculate summary statistics"
      ]
    },
    {
      "cell_type": "code",
      "metadata": {
        "colab": {
          "base_uri": "https://localhost:8080/",
          "height": 355
        },
        "id": "3vDxcGgBuyOH",
        "outputId": "02be6035-31a4-4b6d-bf91-79838d322292"
      },
      "source": [
        "titanic = pd.read_csv('https://raw.githubusercontent.com/pandas-dev/pandas/master/doc/data/titanic.csv')\n",
        "titanic.head(10)"
      ],
      "execution_count": 20,
      "outputs": [
        {
          "output_type": "execute_result",
          "data": {
            "text/html": [
              "<div>\n",
              "<style scoped>\n",
              "    .dataframe tbody tr th:only-of-type {\n",
              "        vertical-align: middle;\n",
              "    }\n",
              "\n",
              "    .dataframe tbody tr th {\n",
              "        vertical-align: top;\n",
              "    }\n",
              "\n",
              "    .dataframe thead th {\n",
              "        text-align: right;\n",
              "    }\n",
              "</style>\n",
              "<table border=\"1\" class=\"dataframe\">\n",
              "  <thead>\n",
              "    <tr style=\"text-align: right;\">\n",
              "      <th></th>\n",
              "      <th>PassengerId</th>\n",
              "      <th>Survived</th>\n",
              "      <th>Pclass</th>\n",
              "      <th>Name</th>\n",
              "      <th>Sex</th>\n",
              "      <th>Age</th>\n",
              "      <th>SibSp</th>\n",
              "      <th>Parch</th>\n",
              "      <th>Ticket</th>\n",
              "      <th>Fare</th>\n",
              "      <th>Cabin</th>\n",
              "      <th>Embarked</th>\n",
              "    </tr>\n",
              "  </thead>\n",
              "  <tbody>\n",
              "    <tr>\n",
              "      <th>0</th>\n",
              "      <td>1</td>\n",
              "      <td>0</td>\n",
              "      <td>3</td>\n",
              "      <td>Braund, Mr. Owen Harris</td>\n",
              "      <td>male</td>\n",
              "      <td>22.0</td>\n",
              "      <td>1</td>\n",
              "      <td>0</td>\n",
              "      <td>A/5 21171</td>\n",
              "      <td>7.2500</td>\n",
              "      <td>NaN</td>\n",
              "      <td>S</td>\n",
              "    </tr>\n",
              "    <tr>\n",
              "      <th>1</th>\n",
              "      <td>2</td>\n",
              "      <td>1</td>\n",
              "      <td>1</td>\n",
              "      <td>Cumings, Mrs. John Bradley (Florence Briggs Th...</td>\n",
              "      <td>female</td>\n",
              "      <td>38.0</td>\n",
              "      <td>1</td>\n",
              "      <td>0</td>\n",
              "      <td>PC 17599</td>\n",
              "      <td>71.2833</td>\n",
              "      <td>C85</td>\n",
              "      <td>C</td>\n",
              "    </tr>\n",
              "    <tr>\n",
              "      <th>2</th>\n",
              "      <td>3</td>\n",
              "      <td>1</td>\n",
              "      <td>3</td>\n",
              "      <td>Heikkinen, Miss. Laina</td>\n",
              "      <td>female</td>\n",
              "      <td>26.0</td>\n",
              "      <td>0</td>\n",
              "      <td>0</td>\n",
              "      <td>STON/O2. 3101282</td>\n",
              "      <td>7.9250</td>\n",
              "      <td>NaN</td>\n",
              "      <td>S</td>\n",
              "    </tr>\n",
              "    <tr>\n",
              "      <th>3</th>\n",
              "      <td>4</td>\n",
              "      <td>1</td>\n",
              "      <td>1</td>\n",
              "      <td>Futrelle, Mrs. Jacques Heath (Lily May Peel)</td>\n",
              "      <td>female</td>\n",
              "      <td>35.0</td>\n",
              "      <td>1</td>\n",
              "      <td>0</td>\n",
              "      <td>113803</td>\n",
              "      <td>53.1000</td>\n",
              "      <td>C123</td>\n",
              "      <td>S</td>\n",
              "    </tr>\n",
              "    <tr>\n",
              "      <th>4</th>\n",
              "      <td>5</td>\n",
              "      <td>0</td>\n",
              "      <td>3</td>\n",
              "      <td>Allen, Mr. William Henry</td>\n",
              "      <td>male</td>\n",
              "      <td>35.0</td>\n",
              "      <td>0</td>\n",
              "      <td>0</td>\n",
              "      <td>373450</td>\n",
              "      <td>8.0500</td>\n",
              "      <td>NaN</td>\n",
              "      <td>S</td>\n",
              "    </tr>\n",
              "    <tr>\n",
              "      <th>5</th>\n",
              "      <td>6</td>\n",
              "      <td>0</td>\n",
              "      <td>3</td>\n",
              "      <td>Moran, Mr. James</td>\n",
              "      <td>male</td>\n",
              "      <td>NaN</td>\n",
              "      <td>0</td>\n",
              "      <td>0</td>\n",
              "      <td>330877</td>\n",
              "      <td>8.4583</td>\n",
              "      <td>NaN</td>\n",
              "      <td>Q</td>\n",
              "    </tr>\n",
              "    <tr>\n",
              "      <th>6</th>\n",
              "      <td>7</td>\n",
              "      <td>0</td>\n",
              "      <td>1</td>\n",
              "      <td>McCarthy, Mr. Timothy J</td>\n",
              "      <td>male</td>\n",
              "      <td>54.0</td>\n",
              "      <td>0</td>\n",
              "      <td>0</td>\n",
              "      <td>17463</td>\n",
              "      <td>51.8625</td>\n",
              "      <td>E46</td>\n",
              "      <td>S</td>\n",
              "    </tr>\n",
              "    <tr>\n",
              "      <th>7</th>\n",
              "      <td>8</td>\n",
              "      <td>0</td>\n",
              "      <td>3</td>\n",
              "      <td>Palsson, Master. Gosta Leonard</td>\n",
              "      <td>male</td>\n",
              "      <td>2.0</td>\n",
              "      <td>3</td>\n",
              "      <td>1</td>\n",
              "      <td>349909</td>\n",
              "      <td>21.0750</td>\n",
              "      <td>NaN</td>\n",
              "      <td>S</td>\n",
              "    </tr>\n",
              "    <tr>\n",
              "      <th>8</th>\n",
              "      <td>9</td>\n",
              "      <td>1</td>\n",
              "      <td>3</td>\n",
              "      <td>Johnson, Mrs. Oscar W (Elisabeth Vilhelmina Berg)</td>\n",
              "      <td>female</td>\n",
              "      <td>27.0</td>\n",
              "      <td>0</td>\n",
              "      <td>2</td>\n",
              "      <td>347742</td>\n",
              "      <td>11.1333</td>\n",
              "      <td>NaN</td>\n",
              "      <td>S</td>\n",
              "    </tr>\n",
              "    <tr>\n",
              "      <th>9</th>\n",
              "      <td>10</td>\n",
              "      <td>1</td>\n",
              "      <td>2</td>\n",
              "      <td>Nasser, Mrs. Nicholas (Adele Achem)</td>\n",
              "      <td>female</td>\n",
              "      <td>14.0</td>\n",
              "      <td>1</td>\n",
              "      <td>0</td>\n",
              "      <td>237736</td>\n",
              "      <td>30.0708</td>\n",
              "      <td>NaN</td>\n",
              "      <td>C</td>\n",
              "    </tr>\n",
              "  </tbody>\n",
              "</table>\n",
              "</div>"
            ],
            "text/plain": [
              "   PassengerId  Survived  Pclass  ...     Fare Cabin  Embarked\n",
              "0            1         0       3  ...   7.2500   NaN         S\n",
              "1            2         1       1  ...  71.2833   C85         C\n",
              "2            3         1       3  ...   7.9250   NaN         S\n",
              "3            4         1       1  ...  53.1000  C123         S\n",
              "4            5         0       3  ...   8.0500   NaN         S\n",
              "5            6         0       3  ...   8.4583   NaN         Q\n",
              "6            7         0       1  ...  51.8625   E46         S\n",
              "7            8         0       3  ...  21.0750   NaN         S\n",
              "8            9         1       3  ...  11.1333   NaN         S\n",
              "9           10         1       2  ...  30.0708   NaN         C\n",
              "\n",
              "[10 rows x 12 columns]"
            ]
          },
          "metadata": {},
          "execution_count": 20
        }
      ]
    },
    {
      "cell_type": "code",
      "metadata": {
        "colab": {
          "base_uri": "https://localhost:8080/"
        },
        "id": "NZc7BKqXvR05",
        "outputId": "14b83308-f723-4073-8a27-20a43108a12d"
      },
      "source": [
        "titanic['Age'].mean()"
      ],
      "execution_count": 21,
      "outputs": [
        {
          "output_type": "execute_result",
          "data": {
            "text/plain": [
              "29.69911764705882"
            ]
          },
          "metadata": {},
          "execution_count": 21
        }
      ]
    },
    {
      "cell_type": "code",
      "metadata": {
        "colab": {
          "base_uri": "https://localhost:8080/"
        },
        "id": "EXFD0NwBvWRT",
        "outputId": "7ae6e6d0-05e3-47d7-c928-22ea396ea38c"
      },
      "source": [
        "titanic.mean()"
      ],
      "execution_count": 22,
      "outputs": [
        {
          "output_type": "execute_result",
          "data": {
            "text/plain": [
              "PassengerId    446.000000\n",
              "Survived         0.383838\n",
              "Pclass           2.308642\n",
              "Age             29.699118\n",
              "SibSp            0.523008\n",
              "Parch            0.381594\n",
              "Fare            32.204208\n",
              "dtype: float64"
            ]
          },
          "metadata": {},
          "execution_count": 22
        }
      ]
    },
    {
      "cell_type": "code",
      "metadata": {
        "colab": {
          "base_uri": "https://localhost:8080/"
        },
        "id": "9zZCTgUvvXG8",
        "outputId": "e853fcba-1812-435e-a71c-44f91b56c7c8"
      },
      "source": [
        "titanic[['Age','Fare']].mean()"
      ],
      "execution_count": 23,
      "outputs": [
        {
          "output_type": "execute_result",
          "data": {
            "text/plain": [
              "Age     29.699118\n",
              "Fare    32.204208\n",
              "dtype: float64"
            ]
          },
          "metadata": {},
          "execution_count": 23
        }
      ]
    },
    {
      "cell_type": "code",
      "metadata": {
        "colab": {
          "base_uri": "https://localhost:8080/",
          "height": 294
        },
        "id": "vugsx50evcb9",
        "outputId": "3904062a-d4ce-44fe-de34-9560c9c4d308"
      },
      "source": [
        "titanic.describe()"
      ],
      "execution_count": 24,
      "outputs": [
        {
          "output_type": "execute_result",
          "data": {
            "text/html": [
              "<div>\n",
              "<style scoped>\n",
              "    .dataframe tbody tr th:only-of-type {\n",
              "        vertical-align: middle;\n",
              "    }\n",
              "\n",
              "    .dataframe tbody tr th {\n",
              "        vertical-align: top;\n",
              "    }\n",
              "\n",
              "    .dataframe thead th {\n",
              "        text-align: right;\n",
              "    }\n",
              "</style>\n",
              "<table border=\"1\" class=\"dataframe\">\n",
              "  <thead>\n",
              "    <tr style=\"text-align: right;\">\n",
              "      <th></th>\n",
              "      <th>PassengerId</th>\n",
              "      <th>Survived</th>\n",
              "      <th>Pclass</th>\n",
              "      <th>Age</th>\n",
              "      <th>SibSp</th>\n",
              "      <th>Parch</th>\n",
              "      <th>Fare</th>\n",
              "    </tr>\n",
              "  </thead>\n",
              "  <tbody>\n",
              "    <tr>\n",
              "      <th>count</th>\n",
              "      <td>891.000000</td>\n",
              "      <td>891.000000</td>\n",
              "      <td>891.000000</td>\n",
              "      <td>714.000000</td>\n",
              "      <td>891.000000</td>\n",
              "      <td>891.000000</td>\n",
              "      <td>891.000000</td>\n",
              "    </tr>\n",
              "    <tr>\n",
              "      <th>mean</th>\n",
              "      <td>446.000000</td>\n",
              "      <td>0.383838</td>\n",
              "      <td>2.308642</td>\n",
              "      <td>29.699118</td>\n",
              "      <td>0.523008</td>\n",
              "      <td>0.381594</td>\n",
              "      <td>32.204208</td>\n",
              "    </tr>\n",
              "    <tr>\n",
              "      <th>std</th>\n",
              "      <td>257.353842</td>\n",
              "      <td>0.486592</td>\n",
              "      <td>0.836071</td>\n",
              "      <td>14.526497</td>\n",
              "      <td>1.102743</td>\n",
              "      <td>0.806057</td>\n",
              "      <td>49.693429</td>\n",
              "    </tr>\n",
              "    <tr>\n",
              "      <th>min</th>\n",
              "      <td>1.000000</td>\n",
              "      <td>0.000000</td>\n",
              "      <td>1.000000</td>\n",
              "      <td>0.420000</td>\n",
              "      <td>0.000000</td>\n",
              "      <td>0.000000</td>\n",
              "      <td>0.000000</td>\n",
              "    </tr>\n",
              "    <tr>\n",
              "      <th>25%</th>\n",
              "      <td>223.500000</td>\n",
              "      <td>0.000000</td>\n",
              "      <td>2.000000</td>\n",
              "      <td>20.125000</td>\n",
              "      <td>0.000000</td>\n",
              "      <td>0.000000</td>\n",
              "      <td>7.910400</td>\n",
              "    </tr>\n",
              "    <tr>\n",
              "      <th>50%</th>\n",
              "      <td>446.000000</td>\n",
              "      <td>0.000000</td>\n",
              "      <td>3.000000</td>\n",
              "      <td>28.000000</td>\n",
              "      <td>0.000000</td>\n",
              "      <td>0.000000</td>\n",
              "      <td>14.454200</td>\n",
              "    </tr>\n",
              "    <tr>\n",
              "      <th>75%</th>\n",
              "      <td>668.500000</td>\n",
              "      <td>1.000000</td>\n",
              "      <td>3.000000</td>\n",
              "      <td>38.000000</td>\n",
              "      <td>1.000000</td>\n",
              "      <td>0.000000</td>\n",
              "      <td>31.000000</td>\n",
              "    </tr>\n",
              "    <tr>\n",
              "      <th>max</th>\n",
              "      <td>891.000000</td>\n",
              "      <td>1.000000</td>\n",
              "      <td>3.000000</td>\n",
              "      <td>80.000000</td>\n",
              "      <td>8.000000</td>\n",
              "      <td>6.000000</td>\n",
              "      <td>512.329200</td>\n",
              "    </tr>\n",
              "  </tbody>\n",
              "</table>\n",
              "</div>"
            ],
            "text/plain": [
              "       PassengerId    Survived      Pclass  ...       SibSp       Parch        Fare\n",
              "count   891.000000  891.000000  891.000000  ...  891.000000  891.000000  891.000000\n",
              "mean    446.000000    0.383838    2.308642  ...    0.523008    0.381594   32.204208\n",
              "std     257.353842    0.486592    0.836071  ...    1.102743    0.806057   49.693429\n",
              "min       1.000000    0.000000    1.000000  ...    0.000000    0.000000    0.000000\n",
              "25%     223.500000    0.000000    2.000000  ...    0.000000    0.000000    7.910400\n",
              "50%     446.000000    0.000000    3.000000  ...    0.000000    0.000000   14.454200\n",
              "75%     668.500000    1.000000    3.000000  ...    1.000000    0.000000   31.000000\n",
              "max     891.000000    1.000000    3.000000  ...    8.000000    6.000000  512.329200\n",
              "\n",
              "[8 rows x 7 columns]"
            ]
          },
          "metadata": {},
          "execution_count": 24
        }
      ]
    },
    {
      "cell_type": "code",
      "metadata": {
        "colab": {
          "base_uri": "https://localhost:8080/",
          "height": 141
        },
        "id": "MpZGOZSfvuxn",
        "outputId": "74bf235f-44b0-4424-b71b-062a785528a6"
      },
      "source": [
        "titanic.agg({'Age':['min','max'],'Fare':['min','max','mean']})"
      ],
      "execution_count": 25,
      "outputs": [
        {
          "output_type": "execute_result",
          "data": {
            "text/html": [
              "<div>\n",
              "<style scoped>\n",
              "    .dataframe tbody tr th:only-of-type {\n",
              "        vertical-align: middle;\n",
              "    }\n",
              "\n",
              "    .dataframe tbody tr th {\n",
              "        vertical-align: top;\n",
              "    }\n",
              "\n",
              "    .dataframe thead th {\n",
              "        text-align: right;\n",
              "    }\n",
              "</style>\n",
              "<table border=\"1\" class=\"dataframe\">\n",
              "  <thead>\n",
              "    <tr style=\"text-align: right;\">\n",
              "      <th></th>\n",
              "      <th>Age</th>\n",
              "      <th>Fare</th>\n",
              "    </tr>\n",
              "  </thead>\n",
              "  <tbody>\n",
              "    <tr>\n",
              "      <th>max</th>\n",
              "      <td>80.00</td>\n",
              "      <td>512.329200</td>\n",
              "    </tr>\n",
              "    <tr>\n",
              "      <th>mean</th>\n",
              "      <td>NaN</td>\n",
              "      <td>32.204208</td>\n",
              "    </tr>\n",
              "    <tr>\n",
              "      <th>min</th>\n",
              "      <td>0.42</td>\n",
              "      <td>0.000000</td>\n",
              "    </tr>\n",
              "  </tbody>\n",
              "</table>\n",
              "</div>"
            ],
            "text/plain": [
              "        Age        Fare\n",
              "max   80.00  512.329200\n",
              "mean    NaN   32.204208\n",
              "min    0.42    0.000000"
            ]
          },
          "metadata": {},
          "execution_count": 25
        }
      ]
    },
    {
      "cell_type": "markdown",
      "metadata": {
        "id": "dmvGL2NFv61c"
      },
      "source": [
        "# Grouped by Category\n",
        "SELECT Sex,AVG(Age)    \n",
        "FROM titanic    \n",
        "GROUP BY Sex    "
      ]
    },
    {
      "cell_type": "code",
      "metadata": {
        "colab": {
          "base_uri": "https://localhost:8080/"
        },
        "id": "aWsHWcU-wL6d",
        "outputId": "cb1556e9-f104-40c9-8a21-8a90f30d15c8"
      },
      "source": [
        "titanic.groupby('Sex')['Age'].mean()"
      ],
      "execution_count": 27,
      "outputs": [
        {
          "output_type": "execute_result",
          "data": {
            "text/plain": [
              "Sex\n",
              "female    27.915709\n",
              "male      30.726645\n",
              "Name: Age, dtype: float64"
            ]
          },
          "metadata": {},
          "execution_count": 27
        }
      ]
    },
    {
      "cell_type": "code",
      "metadata": {
        "colab": {
          "base_uri": "https://localhost:8080/"
        },
        "id": "s9tausVUwa7r",
        "outputId": "ea6742d6-9b88-4718-ebd6-004bf54f21fa"
      },
      "source": [
        "titanic.groupby(['Pclass','Sex'])['Fare'].mean()"
      ],
      "execution_count": 29,
      "outputs": [
        {
          "output_type": "execute_result",
          "data": {
            "text/plain": [
              "Pclass  Sex   \n",
              "1       female    106.125798\n",
              "        male       67.226127\n",
              "2       female     21.970121\n",
              "        male       19.741782\n",
              "3       female     16.118810\n",
              "        male       12.661633\n",
              "Name: Fare, dtype: float64"
            ]
          },
          "metadata": {},
          "execution_count": 29
        }
      ]
    },
    {
      "cell_type": "markdown",
      "metadata": {
        "id": "F8Cnhvtew9YQ"
      },
      "source": [
        "# Count number of records by category"
      ]
    },
    {
      "cell_type": "code",
      "metadata": {
        "colab": {
          "base_uri": "https://localhost:8080/"
        },
        "id": "937TwlIZxO_m",
        "outputId": "17213003-b023-4482-a717-0d6f7e5f5cdc"
      },
      "source": [
        "# class마다 승객이 몇명 있는지 확인\n",
        "titanic.groupby('Pclass')['PassengerId'].count()"
      ],
      "execution_count": 32,
      "outputs": [
        {
          "output_type": "execute_result",
          "data": {
            "text/plain": [
              "Pclass\n",
              "1    216\n",
              "2    184\n",
              "3    491\n",
              "Name: PassengerId, dtype: int64"
            ]
          },
          "metadata": {},
          "execution_count": 32
        }
      ]
    },
    {
      "cell_type": "code",
      "metadata": {
        "colab": {
          "base_uri": "https://localhost:8080/"
        },
        "id": "ioDTIDf5xVy6",
        "outputId": "19884095-4457-4466-b2f1-e83fbe645d48"
      },
      "source": [
        "# 위의 식을 더 간단하게 확인할 수 있는 함수: value_counts()\n",
        "titanic['Pclass'].value_counts()"
      ],
      "execution_count": 33,
      "outputs": [
        {
          "output_type": "execute_result",
          "data": {
            "text/plain": [
              "3    491\n",
              "1    216\n",
              "2    184\n",
              "Name: Pclass, dtype: int64"
            ]
          },
          "metadata": {},
          "execution_count": 33
        }
      ]
    },
    {
      "cell_type": "code",
      "metadata": {
        "colab": {
          "base_uri": "https://localhost:8080/"
        },
        "id": "42V2kO3Qxpfe",
        "outputId": "99c40cab-9559-4c61-db22-4e03814e4c0b"
      },
      "source": [
        "titanic.info()"
      ],
      "execution_count": 34,
      "outputs": [
        {
          "output_type": "stream",
          "name": "stdout",
          "text": [
            "<class 'pandas.core.frame.DataFrame'>\n",
            "RangeIndex: 891 entries, 0 to 890\n",
            "Data columns (total 12 columns):\n",
            " #   Column       Non-Null Count  Dtype  \n",
            "---  ------       --------------  -----  \n",
            " 0   PassengerId  891 non-null    int64  \n",
            " 1   Survived     891 non-null    int64  \n",
            " 2   Pclass       891 non-null    int64  \n",
            " 3   Name         891 non-null    object \n",
            " 4   Sex          891 non-null    object \n",
            " 5   Age          714 non-null    float64\n",
            " 6   SibSp        891 non-null    int64  \n",
            " 7   Parch        891 non-null    int64  \n",
            " 8   Ticket       891 non-null    object \n",
            " 9   Fare         891 non-null    float64\n",
            " 10  Cabin        204 non-null    object \n",
            " 11  Embarked     889 non-null    object \n",
            "dtypes: float64(2), int64(5), object(5)\n",
            "memory usage: 83.7+ KB\n"
          ]
        }
      ]
    },
    {
      "cell_type": "code",
      "metadata": {
        "colab": {
          "base_uri": "https://localhost:8080/"
        },
        "id": "1DzgBhiMx6OT",
        "outputId": "c9e935b8-a234-4de3-e267-f350e7054a3d"
      },
      "source": [
        "#연령 데이터에는 null값이 있음\n",
        "#count는 null값을 세주지 않음\n",
        "titanic.groupby('Pclass')['Age'].count()"
      ],
      "execution_count": 35,
      "outputs": [
        {
          "output_type": "execute_result",
          "data": {
            "text/plain": [
              "Pclass\n",
              "1    186\n",
              "2    173\n",
              "3    355\n",
              "Name: Age, dtype: int64"
            ]
          },
          "metadata": {},
          "execution_count": 35
        }
      ]
    },
    {
      "cell_type": "code",
      "metadata": {
        "colab": {
          "base_uri": "https://localhost:8080/"
        },
        "id": "4sW0B4IjyDx4",
        "outputId": "44fd1176-e2c9-407a-d705-8f3139bc85bb"
      },
      "source": [
        "# size의 경우 null값을 세줌\n",
        "titanic.groupby('Pclass')['Age'].size()"
      ],
      "execution_count": 36,
      "outputs": [
        {
          "output_type": "execute_result",
          "data": {
            "text/plain": [
              "Pclass\n",
              "1    216\n",
              "2    184\n",
              "3    491\n",
              "Name: Age, dtype: int64"
            ]
          },
          "metadata": {},
          "execution_count": 36
        }
      ]
    },
    {
      "cell_type": "code",
      "metadata": {
        "colab": {
          "base_uri": "https://localhost:8080/"
        },
        "id": "UAv_9cNhyLEy",
        "outputId": "384f4ab0-4c1b-4612-91b7-44d0ba64344c"
      },
      "source": [
        "titanic['Age'].value_counts()"
      ],
      "execution_count": 37,
      "outputs": [
        {
          "output_type": "execute_result",
          "data": {
            "text/plain": [
              "24.00    30\n",
              "22.00    27\n",
              "18.00    26\n",
              "19.00    25\n",
              "30.00    25\n",
              "         ..\n",
              "55.50     1\n",
              "70.50     1\n",
              "66.00     1\n",
              "23.50     1\n",
              "0.42      1\n",
              "Name: Age, Length: 88, dtype: int64"
            ]
          },
          "metadata": {},
          "execution_count": 37
        }
      ]
    },
    {
      "cell_type": "code",
      "metadata": {
        "colab": {
          "base_uri": "https://localhost:8080/"
        },
        "id": "EDnsHC5Myhmi",
        "outputId": "c27ede4f-5746-4c45-9984-68b0de7edd3d"
      },
      "source": [
        "# value_counts가 null값을 제외하고 카운트 하는 것을 알 수 있음\n",
        "titanic['Age'].value_counts().sum()"
      ],
      "execution_count": 38,
      "outputs": [
        {
          "output_type": "execute_result",
          "data": {
            "text/plain": [
              "714"
            ]
          },
          "metadata": {},
          "execution_count": 38
        }
      ]
    },
    {
      "cell_type": "code",
      "metadata": {
        "colab": {
          "base_uri": "https://localhost:8080/"
        },
        "id": "VBG0YoJtyk9m",
        "outputId": "899b59de-484c-42b0-a713-d3c42e1cafe7"
      },
      "source": [
        "# null값도 카운트할 때는 dropna=False 넣어줌\n",
        "titanic['Age'].value_counts(dropna=False)"
      ],
      "execution_count": 39,
      "outputs": [
        {
          "output_type": "execute_result",
          "data": {
            "text/plain": [
              "NaN      177\n",
              "24.00     30\n",
              "22.00     27\n",
              "18.00     26\n",
              "28.00     25\n",
              "        ... \n",
              "36.50      1\n",
              "55.50      1\n",
              "66.00      1\n",
              "23.50      1\n",
              "0.42       1\n",
              "Name: Age, Length: 89, dtype: int64"
            ]
          },
          "metadata": {},
          "execution_count": 39
        }
      ]
    },
    {
      "cell_type": "code",
      "metadata": {
        "colab": {
          "base_uri": "https://localhost:8080/"
        },
        "id": "p5qVZ2DTyvd2",
        "outputId": "5ebe1979-9d98-4bf3-cb6a-5142e620b71c"
      },
      "source": [
        "titanic['Age'].value_counts(dropna=False).sum()"
      ],
      "execution_count": 40,
      "outputs": [
        {
          "output_type": "execute_result",
          "data": {
            "text/plain": [
              "891"
            ]
          },
          "metadata": {},
          "execution_count": 40
        }
      ]
    },
    {
      "cell_type": "code",
      "metadata": {
        "id": "rEm0sDU3yyJ7"
      },
      "source": [
        ""
      ],
      "execution_count": null,
      "outputs": []
    }
  ]
}