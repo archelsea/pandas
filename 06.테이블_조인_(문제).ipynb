{
  "nbformat": 4,
  "nbformat_minor": 0,
  "metadata": {
    "colab": {
      "name": "✅ Section 6. 테이블 조인 (문제)",
      "provenance": [],
      "collapsed_sections": []
    },
    "kernelspec": {
      "name": "python3",
      "display_name": "Python 3"
    },
    "language_info": {
      "name": "python"
    }
  },
  "cells": [
    {
      "cell_type": "markdown",
      "metadata": {
        "id": "LhhsboexbtXs"
      },
      "source": [
        "# 문제풀이 Overview\n",
        "이번 문제풀이에서는 총 3개의 문제와 1개의 자유주제를 다룹니다.    \n",
        "문제를 본격적으로 풀기 전에 아래 코드를 실행해 pandas 라이브러리를 임포트하고 데이터를 읽어와주세요.\n",
        "\n"
      ]
    },
    {
      "cell_type": "code",
      "metadata": {
        "id": "OMTVbx8vw45d"
      },
      "source": [
        "import pandas as pd"
      ],
      "execution_count": null,
      "outputs": []
    },
    {
      "cell_type": "code",
      "metadata": {
        "id": "ALdwcdTpbwfn"
      },
      "source": [
        "kor_team = pd.read_csv('https://raw.githubusercontent.com/datarian-kr/pandas/main/data/volleyball_olympics2020_20210731/kor_team_rosters.csv')\n",
        "jpn_team = pd.read_csv('https://raw.githubusercontent.com/datarian-kr/pandas/main/data/volleyball_olympics2020_20210731/jpn_team_rosters.csv')\n",
        "set5_play = pd.read_csv('https://raw.githubusercontent.com/datarian-kr/pandas/main/data/volleyball_olympics2020_20210731/jpn-kor_set5_play.csv')"
      ],
      "execution_count": null,
      "outputs": []
    },
    {
      "cell_type": "markdown",
      "metadata": {
        "id": "R1zBt3QTe2DC"
      },
      "source": [
        "# 데이터 설명\n",
        "\n",
        "섹션2 문제풀이에서 다뤘던 2020 도쿄 하계올림픽 여자배구 데이터를 기억하시나요?    \n",
        "한국 팀 프로필 데이터 `kor_team`을 이번 섹션에서 다시 만납니다.    \n",
        "`jpn_team`은 `kor_team`과 동일한 구조의 일본 팀 프로필 데이터입니다. "
      ]
    },
    {
      "cell_type": "markdown",
      "metadata": {
        "id": "spMVDs67CCcs"
      },
      "source": [
        "**컬럼 상세**\n",
        "\n",
        "- player_no: 선수 유니폼 번호 (선수가 아닌 경우 null)\n",
        "- player_name: 이름\n",
        "- shirt_name: 선수 유니폼에 명시된 이름 (선수가 아닌 경우 null)\n",
        "- position: 포지션\n",
        "- hand: 사용하는 손 (선수가 아닌 경우 null)\n",
        "- height: 신장 cm (선수가 아닌 경우 null)\n",
        "- highest_reach_spike: 스파이크 높이 최고 기록 cm (선수가 아닌 경우 null)\n",
        "- highest_reach_block: 블로킹 높이 최고 기록 cm (선수가 아닌 경우 null)\n",
        "- date_of_birth: 선수 생년월일 (선수가 아닌 경우 null)"
      ]
    },
    {
      "cell_type": "markdown",
      "metadata": {
        "id": "-wM7DPn_CTu7"
      },
      "source": [
        "`set5_play`는 2020 도쿄 하계올림픽의 여자배구 경기 중 2021-07-31에 진행된 한일전의 마지막 세트인 5세트의 경기 기록 데이터입니다."
      ]
    },
    {
      "cell_type": "markdown",
      "metadata": {
        "id": "zLukethiEEWc"
      },
      "source": [
        "**컬럼 상세**\n",
        "- rally: 랠리 (양편의 타구가 계속 이어지는 시간의 단위)\n",
        "- point_team: 해당 랠리에서 득점을 한 팀\n",
        "- action_team: 득점을 결정지은 액션을 한 팀\n",
        "- player_no: 득점을 결정지은 액션을 한 선수의 유니폼 번호\n",
        "- action: 득점을 결정지은 액션의 종류\n",
        "- point_error: action의 성공(point) 또는 실패(error)\n",
        "    - 성공(point)일 때, action_team(액션 팀)과 point_team(득점 팀)은 동일합니다.\n",
        "    - 실패(error)일 때, 상대 팀이 득점하게 되므로 action_team(액션 팀)과 point_team(득점 팀)은 서로 다릅니다. "
      ]
    },
    {
      "cell_type": "markdown",
      "metadata": {
        "id": "0IdwcE7IFiF0"
      },
      "source": [
        "**경기 상황에 따른 컬럼 값**\n",
        "- 랠리 176(첫번째 행): 한국 팀(action_team)의 14번 선수(player_no)가 스파이크(action)를 성공(point_error)해서, 한국 팀(point_team)이 득점합니다.\n",
        "- 랠리 177(두번째 행): 한국 팀(action_team)의 11번 선수(player_no)가 서브(action)를 실패(point_error)해서, 일본 팀(point_team)이 득점합니다. "
      ]
    },
    {
      "cell_type": "code",
      "metadata": {
        "colab": {
          "base_uri": "https://localhost:8080/",
          "height": 112
        },
        "id": "qHGMccdyp_zV",
        "outputId": "54bc9074-7a1b-4d7b-8ac3-0855d594f920"
      },
      "source": [
        "set5_play[set5_play['rally'].isin([176, 177])]"
      ],
      "execution_count": null,
      "outputs": [
        {
          "output_type": "execute_result",
          "data": {
            "text/html": [
              "<div>\n",
              "<style scoped>\n",
              "    .dataframe tbody tr th:only-of-type {\n",
              "        vertical-align: middle;\n",
              "    }\n",
              "\n",
              "    .dataframe tbody tr th {\n",
              "        vertical-align: top;\n",
              "    }\n",
              "\n",
              "    .dataframe thead th {\n",
              "        text-align: right;\n",
              "    }\n",
              "</style>\n",
              "<table border=\"1\" class=\"dataframe\">\n",
              "  <thead>\n",
              "    <tr style=\"text-align: right;\">\n",
              "      <th></th>\n",
              "      <th>rally</th>\n",
              "      <th>point_team</th>\n",
              "      <th>action_team</th>\n",
              "      <th>player_no</th>\n",
              "      <th>action</th>\n",
              "      <th>point_error</th>\n",
              "    </tr>\n",
              "  </thead>\n",
              "  <tbody>\n",
              "    <tr>\n",
              "      <th>0</th>\n",
              "      <td>176</td>\n",
              "      <td>kor</td>\n",
              "      <td>kor</td>\n",
              "      <td>14</td>\n",
              "      <td>spike</td>\n",
              "      <td>point</td>\n",
              "    </tr>\n",
              "    <tr>\n",
              "      <th>1</th>\n",
              "      <td>177</td>\n",
              "      <td>jpn</td>\n",
              "      <td>kor</td>\n",
              "      <td>11</td>\n",
              "      <td>serve</td>\n",
              "      <td>error</td>\n",
              "    </tr>\n",
              "  </tbody>\n",
              "</table>\n",
              "</div>"
            ],
            "text/plain": [
              "   rally point_team action_team  player_no action point_error\n",
              "0    176        kor         kor         14  spike       point\n",
              "1    177        jpn         kor         11  serve       error"
            ]
          },
          "metadata": {},
          "execution_count": 3
        }
      ]
    },
    {
      "cell_type": "markdown",
      "metadata": {
        "id": "DDSBefvadFpq"
      },
      "source": [
        "# 데이터 미리보기"
      ]
    },
    {
      "cell_type": "code",
      "metadata": {
        "colab": {
          "base_uri": "https://localhost:8080/",
          "height": 206
        },
        "id": "7mh6yh1Gb5k0",
        "outputId": "76d11ffd-d408-4fe0-fedc-c0739eebf253"
      },
      "source": [
        "jpn_team.head()"
      ],
      "execution_count": null,
      "outputs": [
        {
          "output_type": "execute_result",
          "data": {
            "text/html": [
              "<div>\n",
              "<style scoped>\n",
              "    .dataframe tbody tr th:only-of-type {\n",
              "        vertical-align: middle;\n",
              "    }\n",
              "\n",
              "    .dataframe tbody tr th {\n",
              "        vertical-align: top;\n",
              "    }\n",
              "\n",
              "    .dataframe thead th {\n",
              "        text-align: right;\n",
              "    }\n",
              "</style>\n",
              "<table border=\"1\" class=\"dataframe\">\n",
              "  <thead>\n",
              "    <tr style=\"text-align: right;\">\n",
              "      <th></th>\n",
              "      <th>player_no</th>\n",
              "      <th>player_name</th>\n",
              "      <th>shirt_name</th>\n",
              "      <th>position</th>\n",
              "      <th>hand</th>\n",
              "      <th>height</th>\n",
              "      <th>highest_reach_spike</th>\n",
              "      <th>highest_reach_block</th>\n",
              "      <th>date_of_birth</th>\n",
              "    </tr>\n",
              "  </thead>\n",
              "  <tbody>\n",
              "    <tr>\n",
              "      <th>0</th>\n",
              "      <td>1.0</td>\n",
              "      <td>KUROGO Ai</td>\n",
              "      <td>KUROGO</td>\n",
              "      <td>Outside Hitter</td>\n",
              "      <td>Right</td>\n",
              "      <td>180.0</td>\n",
              "      <td>306.0</td>\n",
              "      <td>295.0</td>\n",
              "      <td>1998-06-14</td>\n",
              "    </tr>\n",
              "    <tr>\n",
              "      <th>1</th>\n",
              "      <td>2.0</td>\n",
              "      <td>KOGA Sarina</td>\n",
              "      <td>KOGA</td>\n",
              "      <td>Outside Hitter</td>\n",
              "      <td>Right</td>\n",
              "      <td>180.0</td>\n",
              "      <td>307.0</td>\n",
              "      <td>290.0</td>\n",
              "      <td>1996-05-21</td>\n",
              "    </tr>\n",
              "    <tr>\n",
              "      <th>2</th>\n",
              "      <td>3.0</td>\n",
              "      <td>TASHIRO Kanami</td>\n",
              "      <td>TASHIRO</td>\n",
              "      <td>Setter</td>\n",
              "      <td>Right</td>\n",
              "      <td>173.0</td>\n",
              "      <td>289.0</td>\n",
              "      <td>273.0</td>\n",
              "      <td>1991-03-25</td>\n",
              "    </tr>\n",
              "    <tr>\n",
              "      <th>3</th>\n",
              "      <td>4.0</td>\n",
              "      <td>ISHIKAWA Mayu</td>\n",
              "      <td>ISHIKAWA</td>\n",
              "      <td>Outside Hitter</td>\n",
              "      <td>Right</td>\n",
              "      <td>173.0</td>\n",
              "      <td>300.0</td>\n",
              "      <td>290.0</td>\n",
              "      <td>2000-05-14</td>\n",
              "    </tr>\n",
              "    <tr>\n",
              "      <th>4</th>\n",
              "      <td>5.0</td>\n",
              "      <td>SHIMAMURA Haruyo</td>\n",
              "      <td>SHIMAMURA</td>\n",
              "      <td>Middle Blocker</td>\n",
              "      <td>Right</td>\n",
              "      <td>182.0</td>\n",
              "      <td>297.0</td>\n",
              "      <td>290.0</td>\n",
              "      <td>1992-03-04</td>\n",
              "    </tr>\n",
              "  </tbody>\n",
              "</table>\n",
              "</div>"
            ],
            "text/plain": [
              "   player_no       player_name  ... highest_reach_block date_of_birth\n",
              "0        1.0         KUROGO Ai  ...               295.0    1998-06-14\n",
              "1        2.0       KOGA Sarina  ...               290.0    1996-05-21\n",
              "2        3.0    TASHIRO Kanami  ...               273.0    1991-03-25\n",
              "3        4.0     ISHIKAWA Mayu  ...               290.0    2000-05-14\n",
              "4        5.0  SHIMAMURA Haruyo  ...               290.0    1992-03-04\n",
              "\n",
              "[5 rows x 9 columns]"
            ]
          },
          "metadata": {},
          "execution_count": 4
        }
      ]
    },
    {
      "cell_type": "code",
      "metadata": {
        "colab": {
          "base_uri": "https://localhost:8080/",
          "height": 206
        },
        "id": "xLvCWQPm4MRk",
        "outputId": "06aeaf1a-73b9-4941-aef5-a5625023af25"
      },
      "source": [
        "kor_team.head()"
      ],
      "execution_count": null,
      "outputs": [
        {
          "output_type": "execute_result",
          "data": {
            "text/html": [
              "<div>\n",
              "<style scoped>\n",
              "    .dataframe tbody tr th:only-of-type {\n",
              "        vertical-align: middle;\n",
              "    }\n",
              "\n",
              "    .dataframe tbody tr th {\n",
              "        vertical-align: top;\n",
              "    }\n",
              "\n",
              "    .dataframe thead th {\n",
              "        text-align: right;\n",
              "    }\n",
              "</style>\n",
              "<table border=\"1\" class=\"dataframe\">\n",
              "  <thead>\n",
              "    <tr style=\"text-align: right;\">\n",
              "      <th></th>\n",
              "      <th>player_no</th>\n",
              "      <th>player_name</th>\n",
              "      <th>shirt_name</th>\n",
              "      <th>position</th>\n",
              "      <th>hand</th>\n",
              "      <th>height</th>\n",
              "      <th>highest_reach_spike</th>\n",
              "      <th>highest_reach_block</th>\n",
              "      <th>date_of_birth</th>\n",
              "    </tr>\n",
              "  </thead>\n",
              "  <tbody>\n",
              "    <tr>\n",
              "      <th>0</th>\n",
              "      <td>1.0</td>\n",
              "      <td>LEE Soyoung</td>\n",
              "      <td>LEE SOYOUNG</td>\n",
              "      <td>Outside Hitter</td>\n",
              "      <td>Right</td>\n",
              "      <td>176.0</td>\n",
              "      <td>270.0</td>\n",
              "      <td>255.0</td>\n",
              "      <td>1994-10-17</td>\n",
              "    </tr>\n",
              "    <tr>\n",
              "      <th>1</th>\n",
              "      <td>3.0</td>\n",
              "      <td>YEUM Hye Seon</td>\n",
              "      <td>YEUM HYE SEON</td>\n",
              "      <td>Setter</td>\n",
              "      <td>Right</td>\n",
              "      <td>176.0</td>\n",
              "      <td>262.0</td>\n",
              "      <td>247.0</td>\n",
              "      <td>1991-02-03</td>\n",
              "    </tr>\n",
              "    <tr>\n",
              "      <th>2</th>\n",
              "      <td>4.0</td>\n",
              "      <td>KIM Heejin</td>\n",
              "      <td>KIM HEEJIN</td>\n",
              "      <td>Opposite</td>\n",
              "      <td>Right</td>\n",
              "      <td>185.0</td>\n",
              "      <td>305.0</td>\n",
              "      <td>290.0</td>\n",
              "      <td>1991-04-29</td>\n",
              "    </tr>\n",
              "    <tr>\n",
              "      <th>3</th>\n",
              "      <td>7.0</td>\n",
              "      <td>AN Hyejin</td>\n",
              "      <td>AN HYEJIN</td>\n",
              "      <td>Setter</td>\n",
              "      <td>Right</td>\n",
              "      <td>175.0</td>\n",
              "      <td>256.0</td>\n",
              "      <td>231.0</td>\n",
              "      <td>1998-02-16</td>\n",
              "    </tr>\n",
              "    <tr>\n",
              "      <th>4</th>\n",
              "      <td>8.0</td>\n",
              "      <td>PARK Eunjin</td>\n",
              "      <td>PARK EUNJIN</td>\n",
              "      <td>Middle Blocker</td>\n",
              "      <td>Right</td>\n",
              "      <td>187.0</td>\n",
              "      <td>296.0</td>\n",
              "      <td>281.0</td>\n",
              "      <td>1999-12-15</td>\n",
              "    </tr>\n",
              "  </tbody>\n",
              "</table>\n",
              "</div>"
            ],
            "text/plain": [
              "   player_no    player_name  ... highest_reach_block date_of_birth\n",
              "0        1.0    LEE Soyoung  ...               255.0    1994-10-17\n",
              "1        3.0  YEUM Hye Seon  ...               247.0    1991-02-03\n",
              "2        4.0     KIM Heejin  ...               290.0    1991-04-29\n",
              "3        7.0      AN Hyejin  ...               231.0    1998-02-16\n",
              "4        8.0    PARK Eunjin  ...               281.0    1999-12-15\n",
              "\n",
              "[5 rows x 9 columns]"
            ]
          },
          "metadata": {},
          "execution_count": 6
        }
      ]
    },
    {
      "cell_type": "code",
      "metadata": {
        "colab": {
          "base_uri": "https://localhost:8080/",
          "height": 206
        },
        "id": "XV-GOZEre9-1",
        "outputId": "b0d0f2b2-b32d-4534-aefe-acdc91196e5d"
      },
      "source": [
        "set5_play.head()"
      ],
      "execution_count": null,
      "outputs": [
        {
          "output_type": "execute_result",
          "data": {
            "text/html": [
              "<div>\n",
              "<style scoped>\n",
              "    .dataframe tbody tr th:only-of-type {\n",
              "        vertical-align: middle;\n",
              "    }\n",
              "\n",
              "    .dataframe tbody tr th {\n",
              "        vertical-align: top;\n",
              "    }\n",
              "\n",
              "    .dataframe thead th {\n",
              "        text-align: right;\n",
              "    }\n",
              "</style>\n",
              "<table border=\"1\" class=\"dataframe\">\n",
              "  <thead>\n",
              "    <tr style=\"text-align: right;\">\n",
              "      <th></th>\n",
              "      <th>rally</th>\n",
              "      <th>point_team</th>\n",
              "      <th>action_team</th>\n",
              "      <th>player_no</th>\n",
              "      <th>action</th>\n",
              "      <th>point_error</th>\n",
              "    </tr>\n",
              "  </thead>\n",
              "  <tbody>\n",
              "    <tr>\n",
              "      <th>0</th>\n",
              "      <td>176</td>\n",
              "      <td>kor</td>\n",
              "      <td>kor</td>\n",
              "      <td>14</td>\n",
              "      <td>spike</td>\n",
              "      <td>point</td>\n",
              "    </tr>\n",
              "    <tr>\n",
              "      <th>1</th>\n",
              "      <td>177</td>\n",
              "      <td>jpn</td>\n",
              "      <td>kor</td>\n",
              "      <td>11</td>\n",
              "      <td>serve</td>\n",
              "      <td>error</td>\n",
              "    </tr>\n",
              "    <tr>\n",
              "      <th>2</th>\n",
              "      <td>178</td>\n",
              "      <td>kor</td>\n",
              "      <td>kor</td>\n",
              "      <td>10</td>\n",
              "      <td>spike</td>\n",
              "      <td>point</td>\n",
              "    </tr>\n",
              "    <tr>\n",
              "      <th>3</th>\n",
              "      <td>179</td>\n",
              "      <td>jpn</td>\n",
              "      <td>jpn</td>\n",
              "      <td>2</td>\n",
              "      <td>spike</td>\n",
              "      <td>point</td>\n",
              "    </tr>\n",
              "    <tr>\n",
              "      <th>4</th>\n",
              "      <td>180</td>\n",
              "      <td>kor</td>\n",
              "      <td>kor</td>\n",
              "      <td>10</td>\n",
              "      <td>spike</td>\n",
              "      <td>point</td>\n",
              "    </tr>\n",
              "  </tbody>\n",
              "</table>\n",
              "</div>"
            ],
            "text/plain": [
              "   rally point_team action_team  player_no action point_error\n",
              "0    176        kor         kor         14  spike       point\n",
              "1    177        jpn         kor         11  serve       error\n",
              "2    178        kor         kor         10  spike       point\n",
              "3    179        jpn         jpn          2  spike       point\n",
              "4    180        kor         kor         10  spike       point"
            ]
          },
          "metadata": {},
          "execution_count": 5
        }
      ]
    },
    {
      "cell_type": "markdown",
      "metadata": {
        "id": "MjbSJMyaIjyn"
      },
      "source": [
        "# Q1. 탐색적 데이터 분석\n",
        "\n",
        "[탐색적 데이터 분석(EDA, Exploratory Data Analysis)](https://en.wikipedia.org/wiki/Exploratory_data_analysis)이란 본격적인 데이터 분석을 시작하기 전에, 그래프나 기초 통계를 이용하여 주어진 자료를 파악하는 과정입니다.\n",
        "\n",
        "**아래의 간단한 질문들에 답하며 EDA를 시작해 볼까요?**\n",
        "- 각 팀에는 포지션 별 선수가 몇 명씩 있나요?\n",
        "- 각 팀 선수들의 신장은 어떻게 되나요? 한국팀의 평균 신장과 일본 팀의 평균 신장을 비교해보는 것도 좋겠네요. \n",
        "- 선수들의 신장이 가장 큰 포지션은 어떤 포지션인가요?"
      ]
    },
    {
      "cell_type": "code",
      "metadata": {
        "id": "tpnEDfsOJdw-",
        "colab": {
          "base_uri": "https://localhost:8080/",
          "height": 300
        },
        "outputId": "bbf530cb-fbfd-43e3-c6a1-da4b2224959f"
      },
      "source": [
        "# Answer: 한국팀의 평균 신장은 182cm, 일본 팀의 평균 신장은 177cm \n",
        "kor_team.describe()"
      ],
      "execution_count": null,
      "outputs": [
        {
          "output_type": "execute_result",
          "data": {
            "text/html": [
              "<div>\n",
              "<style scoped>\n",
              "    .dataframe tbody tr th:only-of-type {\n",
              "        vertical-align: middle;\n",
              "    }\n",
              "\n",
              "    .dataframe tbody tr th {\n",
              "        vertical-align: top;\n",
              "    }\n",
              "\n",
              "    .dataframe thead th {\n",
              "        text-align: right;\n",
              "    }\n",
              "</style>\n",
              "<table border=\"1\" class=\"dataframe\">\n",
              "  <thead>\n",
              "    <tr style=\"text-align: right;\">\n",
              "      <th></th>\n",
              "      <th>player_no</th>\n",
              "      <th>height</th>\n",
              "      <th>highest_reach_spike</th>\n",
              "      <th>highest_reach_block</th>\n",
              "    </tr>\n",
              "  </thead>\n",
              "  <tbody>\n",
              "    <tr>\n",
              "      <th>count</th>\n",
              "      <td>12.000000</td>\n",
              "      <td>12.000000</td>\n",
              "      <td>12.000000</td>\n",
              "      <td>12.000000</td>\n",
              "    </tr>\n",
              "    <tr>\n",
              "      <th>mean</th>\n",
              "      <td>9.583333</td>\n",
              "      <td>182.333333</td>\n",
              "      <td>284.000000</td>\n",
              "      <td>268.583333</td>\n",
              "    </tr>\n",
              "    <tr>\n",
              "      <th>std</th>\n",
              "      <td>5.401319</td>\n",
              "      <td>6.919450</td>\n",
              "      <td>17.740554</td>\n",
              "      <td>20.011171</td>\n",
              "    </tr>\n",
              "    <tr>\n",
              "      <th>min</th>\n",
              "      <td>1.000000</td>\n",
              "      <td>170.000000</td>\n",
              "      <td>256.000000</td>\n",
              "      <td>231.000000</td>\n",
              "    </tr>\n",
              "    <tr>\n",
              "      <th>25%</th>\n",
              "      <td>6.250000</td>\n",
              "      <td>176.000000</td>\n",
              "      <td>269.250000</td>\n",
              "      <td>254.250000</td>\n",
              "    </tr>\n",
              "    <tr>\n",
              "      <th>50%</th>\n",
              "      <td>9.500000</td>\n",
              "      <td>183.500000</td>\n",
              "      <td>287.000000</td>\n",
              "      <td>272.000000</td>\n",
              "    </tr>\n",
              "    <tr>\n",
              "      <th>75%</th>\n",
              "      <td>13.250000</td>\n",
              "      <td>187.250000</td>\n",
              "      <td>296.500000</td>\n",
              "      <td>281.500000</td>\n",
              "    </tr>\n",
              "    <tr>\n",
              "      <th>max</th>\n",
              "      <td>19.000000</td>\n",
              "      <td>192.000000</td>\n",
              "      <td>310.000000</td>\n",
              "      <td>300.000000</td>\n",
              "    </tr>\n",
              "  </tbody>\n",
              "</table>\n",
              "</div>"
            ],
            "text/plain": [
              "       player_no      height  highest_reach_spike  highest_reach_block\n",
              "count  12.000000   12.000000            12.000000            12.000000\n",
              "mean    9.583333  182.333333           284.000000           268.583333\n",
              "std     5.401319    6.919450            17.740554            20.011171\n",
              "min     1.000000  170.000000           256.000000           231.000000\n",
              "25%     6.250000  176.000000           269.250000           254.250000\n",
              "50%     9.500000  183.500000           287.000000           272.000000\n",
              "75%    13.250000  187.250000           296.500000           281.500000\n",
              "max    19.000000  192.000000           310.000000           300.000000"
            ]
          },
          "metadata": {},
          "execution_count": 7
        }
      ]
    },
    {
      "cell_type": "code",
      "metadata": {
        "colab": {
          "base_uri": "https://localhost:8080/",
          "height": 300
        },
        "id": "Y3I7J2Gw4hRC",
        "outputId": "4583e1ee-fbf9-4a41-b921-920079a65a7f"
      },
      "source": [
        "jpn_team.describe()"
      ],
      "execution_count": null,
      "outputs": [
        {
          "output_type": "execute_result",
          "data": {
            "text/html": [
              "<div>\n",
              "<style scoped>\n",
              "    .dataframe tbody tr th:only-of-type {\n",
              "        vertical-align: middle;\n",
              "    }\n",
              "\n",
              "    .dataframe tbody tr th {\n",
              "        vertical-align: top;\n",
              "    }\n",
              "\n",
              "    .dataframe thead th {\n",
              "        text-align: right;\n",
              "    }\n",
              "</style>\n",
              "<table border=\"1\" class=\"dataframe\">\n",
              "  <thead>\n",
              "    <tr style=\"text-align: right;\">\n",
              "      <th></th>\n",
              "      <th>player_no</th>\n",
              "      <th>height</th>\n",
              "      <th>highest_reach_spike</th>\n",
              "      <th>highest_reach_block</th>\n",
              "    </tr>\n",
              "  </thead>\n",
              "  <tbody>\n",
              "    <tr>\n",
              "      <th>count</th>\n",
              "      <td>12.000000</td>\n",
              "      <td>12.000000</td>\n",
              "      <td>12.000000</td>\n",
              "      <td>12.000000</td>\n",
              "    </tr>\n",
              "    <tr>\n",
              "      <th>mean</th>\n",
              "      <td>7.833333</td>\n",
              "      <td>177.333333</td>\n",
              "      <td>298.166667</td>\n",
              "      <td>286.416667</td>\n",
              "    </tr>\n",
              "    <tr>\n",
              "      <th>std</th>\n",
              "      <td>5.339958</td>\n",
              "      <td>6.020168</td>\n",
              "      <td>8.778417</td>\n",
              "      <td>7.427937</td>\n",
              "    </tr>\n",
              "    <tr>\n",
              "      <th>min</th>\n",
              "      <td>1.000000</td>\n",
              "      <td>164.000000</td>\n",
              "      <td>285.000000</td>\n",
              "      <td>273.000000</td>\n",
              "    </tr>\n",
              "    <tr>\n",
              "      <th>25%</th>\n",
              "      <td>3.750000</td>\n",
              "      <td>173.000000</td>\n",
              "      <td>291.250000</td>\n",
              "      <td>283.750000</td>\n",
              "    </tr>\n",
              "    <tr>\n",
              "      <th>50%</th>\n",
              "      <td>7.000000</td>\n",
              "      <td>178.500000</td>\n",
              "      <td>298.500000</td>\n",
              "      <td>288.000000</td>\n",
              "    </tr>\n",
              "    <tr>\n",
              "      <th>75%</th>\n",
              "      <td>11.250000</td>\n",
              "      <td>180.500000</td>\n",
              "      <td>305.250000</td>\n",
              "      <td>290.000000</td>\n",
              "    </tr>\n",
              "    <tr>\n",
              "      <th>max</th>\n",
              "      <td>18.000000</td>\n",
              "      <td>186.000000</td>\n",
              "      <td>310.000000</td>\n",
              "      <td>297.000000</td>\n",
              "    </tr>\n",
              "  </tbody>\n",
              "</table>\n",
              "</div>"
            ],
            "text/plain": [
              "       player_no      height  highest_reach_spike  highest_reach_block\n",
              "count  12.000000   12.000000            12.000000            12.000000\n",
              "mean    7.833333  177.333333           298.166667           286.416667\n",
              "std     5.339958    6.020168             8.778417             7.427937\n",
              "min     1.000000  164.000000           285.000000           273.000000\n",
              "25%     3.750000  173.000000           291.250000           283.750000\n",
              "50%     7.000000  178.500000           298.500000           288.000000\n",
              "75%    11.250000  180.500000           305.250000           290.000000\n",
              "max    18.000000  186.000000           310.000000           297.000000"
            ]
          },
          "metadata": {},
          "execution_count": 8
        }
      ]
    },
    {
      "cell_type": "code",
      "metadata": {
        "colab": {
          "base_uri": "https://localhost:8080/"
        },
        "id": "4-9k1s-b47CM",
        "outputId": "78f5f7ea-039a-4300-cf51-d9491805252b"
      },
      "source": [
        "# 각 팀에는 포지션 별 선수가 몇 명씩 있나요?\n",
        "# Answer 1. groupby - nunique\n",
        "kor_team.groupby('position')['player_name'].nunique()"
      ],
      "execution_count": null,
      "outputs": [
        {
          "output_type": "execute_result",
          "data": {
            "text/plain": [
              "position\n",
              "Assistant Coach    2\n",
              "Head Coach         1\n",
              "Libero             1\n",
              "Middle Blocker     3\n",
              "Opposite           2\n",
              "Outside Hitter     4\n",
              "Setter             2\n",
              "Name: player_name, dtype: int64"
            ]
          },
          "metadata": {},
          "execution_count": 13
        }
      ]
    },
    {
      "cell_type": "code",
      "metadata": {
        "colab": {
          "base_uri": "https://localhost:8080/"
        },
        "id": "FcSs53v36Epn",
        "outputId": "6aa82842-f222-4943-a84f-cadcaa4d1855"
      },
      "source": [
        "jpn_team.groupby('position')['player_name'].nunique()"
      ],
      "execution_count": null,
      "outputs": [
        {
          "output_type": "execute_result",
          "data": {
            "text/plain": [
              "position\n",
              "Assistant Coach    2\n",
              "Head Coach         1\n",
              "Libero             1\n",
              "Middle Blocker     4\n",
              "Outside Hitter     5\n",
              "Setter             2\n",
              "Name: player_name, dtype: int64"
            ]
          },
          "metadata": {},
          "execution_count": 14
        }
      ]
    },
    {
      "cell_type": "code",
      "metadata": {
        "colab": {
          "base_uri": "https://localhost:8080/"
        },
        "id": "u8cKMZvc5bGp",
        "outputId": "fc4d437d-ce56-4021-a950-d4265cbb505b"
      },
      "source": [
        "# Answer 2. value_counts\n",
        "kor_team['position'].value_counts()"
      ],
      "execution_count": null,
      "outputs": [
        {
          "output_type": "execute_result",
          "data": {
            "text/plain": [
              "Outside Hitter     4\n",
              "Middle Blocker     3\n",
              "Setter             2\n",
              "Assistant Coach    2\n",
              "Opposite           2\n",
              "Libero             1\n",
              "Head Coach         1\n",
              "Name: position, dtype: int64"
            ]
          },
          "metadata": {},
          "execution_count": 11
        }
      ]
    },
    {
      "cell_type": "code",
      "metadata": {
        "colab": {
          "base_uri": "https://localhost:8080/"
        },
        "id": "LhknQqh56Nm_",
        "outputId": "70ccb68c-3b38-4c58-ec7e-91bcb722c16f"
      },
      "source": [
        "jpn_team['position'].value_counts()"
      ],
      "execution_count": null,
      "outputs": [
        {
          "output_type": "execute_result",
          "data": {
            "text/plain": [
              "Outside Hitter     5\n",
              "Middle Blocker     4\n",
              "Assistant Coach    2\n",
              "Setter             2\n",
              "Libero             1\n",
              "Head Coach         1\n",
              "Name: position, dtype: int64"
            ]
          },
          "metadata": {},
          "execution_count": 15
        }
      ]
    },
    {
      "cell_type": "code",
      "metadata": {
        "colab": {
          "base_uri": "https://localhost:8080/"
        },
        "id": "SE-Y8xdS6Wlb",
        "outputId": "deb2860c-9bfa-4fd1-b04c-003027c0f7ce"
      },
      "source": [
        "# 선수들의 신장이 가장 큰 포지션은 어떤 포지션인가? 가장 큰 선수가 있는 포지션은 한국과 일본 모두 미들블로커이며 평균 신장이 가장 큰 포지션도 미들블로크이다\n",
        "kr_max = kor_team.groupby('position')['height'].max()\n",
        "kr_mean = kor_team.groupby('position')['height'].mean()\n",
        "print(kr_max)\n",
        "print(kr_mean)"
      ],
      "execution_count": null,
      "outputs": [
        {
          "output_type": "stream",
          "name": "stdout",
          "text": [
            "position\n",
            "Assistant Coach      NaN\n",
            "Head Coach           NaN\n",
            "Libero             170.0\n",
            "Middle Blocker     190.0\n",
            "Opposite           185.0\n",
            "Outside Hitter     192.0\n",
            "Setter             176.0\n",
            "Name: height, dtype: float64\n",
            "position\n",
            "Assistant Coach           NaN\n",
            "Head Coach                NaN\n",
            "Libero             170.000000\n",
            "Middle Blocker     188.333333\n",
            "Opposite           182.500000\n",
            "Outside Hitter     184.250000\n",
            "Setter             175.500000\n",
            "Name: height, dtype: float64\n"
          ]
        }
      ]
    },
    {
      "cell_type": "code",
      "metadata": {
        "colab": {
          "base_uri": "https://localhost:8080/"
        },
        "id": "ImiSO7QA6s9e",
        "outputId": "dc55da3d-e5ee-4540-828b-a36112a8b114"
      },
      "source": [
        "jp_max = jpn_team.groupby('position')['height'].max()\n",
        "jp_mean = jpn_team.groupby('position')['height'].mean()\n",
        "print(jp_max)\n",
        "print(jp_mean)"
      ],
      "execution_count": null,
      "outputs": [
        {
          "output_type": "stream",
          "name": "stdout",
          "text": [
            "position\n",
            "Assistant Coach      NaN\n",
            "Head Coach           NaN\n",
            "Libero             164.0\n",
            "Middle Blocker     186.0\n",
            "Outside Hitter     180.0\n",
            "Setter             176.0\n",
            "Name: height, dtype: float64\n",
            "position\n",
            "Assistant Coach       NaN\n",
            "Head Coach            NaN\n",
            "Libero             164.00\n",
            "Middle Blocker     182.25\n",
            "Outside Hitter     177.20\n",
            "Setter             174.50\n",
            "Name: height, dtype: float64\n"
          ]
        }
      ]
    },
    {
      "cell_type": "markdown",
      "metadata": {
        "id": "uZBCJeMAdyI9"
      },
      "source": [
        "# Q2. 두 팀의 프로필 데이터를 합쳐 하나의 테이블로 만들기 \n",
        "한국 팀과 일본 팀의 프로필 데이터가 각각의 테이블로 나눠져 있습니다.    \n",
        "이 두 테이블을 하나로 합쳐서 새로운 테이블 `team_rosters`를 생성해 주세요.    \n",
        "다음과 같이 각 선수의 소속 팀을 알 수 있도록 만들어 주세요.    \n",
        "\n",
        "team | player_no | player_name\n",
        "-|-|-\n",
        "kor | 1 | LEE Soyoung\n",
        "jpn | 1 | KUROGO Ai\t\n",
        "\n",
        "<br> \n",
        "\n",
        "- Step 1. 두 테이블을 위아래로 이어 붙여 `team_rosters` 변수에 저장. 이 과정에서 각 팀명 'kor', 'jpn'을 인덱스로 추가해 주세요.\n",
        "- Step 2. 팀 명을 나타내는 인덱스를 컬럼으로 만들기 `Hint. reset_index(level=0)`\n",
        "- Step 3. 그 컬럼의 이름을 'team'으로 변경\n",
        "\n",
        "`Tip. 각 스텝이 끝날 때마다 head(), tail(), sample()을 사용해 데이터를 확인해 가면서 진행하면 잘 하고 있는지를 알 수 있어요!` \n"
      ]
    },
    {
      "cell_type": "code",
      "metadata": {
        "id": "vzZeUTdRQgbE",
        "colab": {
          "base_uri": "https://localhost:8080/",
          "height": 206
        },
        "outputId": "4f698349-6b14-4089-fb37-7e7873ff85ae"
      },
      "source": [
        "# step 1\n",
        "team_rosters = pd.concat([kor_team,jpn_team],axis=0,keys=['kor','jpn'])\n",
        "team_rosters.head()"
      ],
      "execution_count": null,
      "outputs": [
        {
          "output_type": "execute_result",
          "data": {
            "text/html": [
              "<div>\n",
              "<style scoped>\n",
              "    .dataframe tbody tr th:only-of-type {\n",
              "        vertical-align: middle;\n",
              "    }\n",
              "\n",
              "    .dataframe tbody tr th {\n",
              "        vertical-align: top;\n",
              "    }\n",
              "\n",
              "    .dataframe thead th {\n",
              "        text-align: right;\n",
              "    }\n",
              "</style>\n",
              "<table border=\"1\" class=\"dataframe\">\n",
              "  <thead>\n",
              "    <tr style=\"text-align: right;\">\n",
              "      <th></th>\n",
              "      <th></th>\n",
              "      <th>player_no</th>\n",
              "      <th>player_name</th>\n",
              "      <th>shirt_name</th>\n",
              "      <th>position</th>\n",
              "      <th>hand</th>\n",
              "      <th>height</th>\n",
              "      <th>highest_reach_spike</th>\n",
              "      <th>highest_reach_block</th>\n",
              "      <th>date_of_birth</th>\n",
              "    </tr>\n",
              "  </thead>\n",
              "  <tbody>\n",
              "    <tr>\n",
              "      <th rowspan=\"5\" valign=\"top\">kor</th>\n",
              "      <th>0</th>\n",
              "      <td>1.0</td>\n",
              "      <td>LEE Soyoung</td>\n",
              "      <td>LEE SOYOUNG</td>\n",
              "      <td>Outside Hitter</td>\n",
              "      <td>Right</td>\n",
              "      <td>176.0</td>\n",
              "      <td>270.0</td>\n",
              "      <td>255.0</td>\n",
              "      <td>1994-10-17</td>\n",
              "    </tr>\n",
              "    <tr>\n",
              "      <th>1</th>\n",
              "      <td>3.0</td>\n",
              "      <td>YEUM Hye Seon</td>\n",
              "      <td>YEUM HYE SEON</td>\n",
              "      <td>Setter</td>\n",
              "      <td>Right</td>\n",
              "      <td>176.0</td>\n",
              "      <td>262.0</td>\n",
              "      <td>247.0</td>\n",
              "      <td>1991-02-03</td>\n",
              "    </tr>\n",
              "    <tr>\n",
              "      <th>2</th>\n",
              "      <td>4.0</td>\n",
              "      <td>KIM Heejin</td>\n",
              "      <td>KIM HEEJIN</td>\n",
              "      <td>Opposite</td>\n",
              "      <td>Right</td>\n",
              "      <td>185.0</td>\n",
              "      <td>305.0</td>\n",
              "      <td>290.0</td>\n",
              "      <td>1991-04-29</td>\n",
              "    </tr>\n",
              "    <tr>\n",
              "      <th>3</th>\n",
              "      <td>7.0</td>\n",
              "      <td>AN Hyejin</td>\n",
              "      <td>AN HYEJIN</td>\n",
              "      <td>Setter</td>\n",
              "      <td>Right</td>\n",
              "      <td>175.0</td>\n",
              "      <td>256.0</td>\n",
              "      <td>231.0</td>\n",
              "      <td>1998-02-16</td>\n",
              "    </tr>\n",
              "    <tr>\n",
              "      <th>4</th>\n",
              "      <td>8.0</td>\n",
              "      <td>PARK Eunjin</td>\n",
              "      <td>PARK EUNJIN</td>\n",
              "      <td>Middle Blocker</td>\n",
              "      <td>Right</td>\n",
              "      <td>187.0</td>\n",
              "      <td>296.0</td>\n",
              "      <td>281.0</td>\n",
              "      <td>1999-12-15</td>\n",
              "    </tr>\n",
              "  </tbody>\n",
              "</table>\n",
              "</div>"
            ],
            "text/plain": [
              "       player_no    player_name  ... highest_reach_block date_of_birth\n",
              "kor 0        1.0    LEE Soyoung  ...               255.0    1994-10-17\n",
              "    1        3.0  YEUM Hye Seon  ...               247.0    1991-02-03\n",
              "    2        4.0     KIM Heejin  ...               290.0    1991-04-29\n",
              "    3        7.0      AN Hyejin  ...               231.0    1998-02-16\n",
              "    4        8.0    PARK Eunjin  ...               281.0    1999-12-15\n",
              "\n",
              "[5 rows x 9 columns]"
            ]
          },
          "metadata": {},
          "execution_count": 25
        }
      ]
    },
    {
      "cell_type": "code",
      "metadata": {
        "id": "6HovKxsbRVuK",
        "colab": {
          "base_uri": "https://localhost:8080/",
          "height": 206
        },
        "outputId": "8bac8678-626f-4406-a050-76721f20848c"
      },
      "source": [
        "# step 2 \n",
        "team_rosters = team_rosters.reset_index(level=0)\n",
        "team_rosters.head()"
      ],
      "execution_count": null,
      "outputs": [
        {
          "output_type": "execute_result",
          "data": {
            "text/html": [
              "<div>\n",
              "<style scoped>\n",
              "    .dataframe tbody tr th:only-of-type {\n",
              "        vertical-align: middle;\n",
              "    }\n",
              "\n",
              "    .dataframe tbody tr th {\n",
              "        vertical-align: top;\n",
              "    }\n",
              "\n",
              "    .dataframe thead th {\n",
              "        text-align: right;\n",
              "    }\n",
              "</style>\n",
              "<table border=\"1\" class=\"dataframe\">\n",
              "  <thead>\n",
              "    <tr style=\"text-align: right;\">\n",
              "      <th></th>\n",
              "      <th>level_0</th>\n",
              "      <th>player_no</th>\n",
              "      <th>player_name</th>\n",
              "      <th>shirt_name</th>\n",
              "      <th>position</th>\n",
              "      <th>hand</th>\n",
              "      <th>height</th>\n",
              "      <th>highest_reach_spike</th>\n",
              "      <th>highest_reach_block</th>\n",
              "      <th>date_of_birth</th>\n",
              "    </tr>\n",
              "  </thead>\n",
              "  <tbody>\n",
              "    <tr>\n",
              "      <th>0</th>\n",
              "      <td>kor</td>\n",
              "      <td>1.0</td>\n",
              "      <td>LEE Soyoung</td>\n",
              "      <td>LEE SOYOUNG</td>\n",
              "      <td>Outside Hitter</td>\n",
              "      <td>Right</td>\n",
              "      <td>176.0</td>\n",
              "      <td>270.0</td>\n",
              "      <td>255.0</td>\n",
              "      <td>1994-10-17</td>\n",
              "    </tr>\n",
              "    <tr>\n",
              "      <th>1</th>\n",
              "      <td>kor</td>\n",
              "      <td>3.0</td>\n",
              "      <td>YEUM Hye Seon</td>\n",
              "      <td>YEUM HYE SEON</td>\n",
              "      <td>Setter</td>\n",
              "      <td>Right</td>\n",
              "      <td>176.0</td>\n",
              "      <td>262.0</td>\n",
              "      <td>247.0</td>\n",
              "      <td>1991-02-03</td>\n",
              "    </tr>\n",
              "    <tr>\n",
              "      <th>2</th>\n",
              "      <td>kor</td>\n",
              "      <td>4.0</td>\n",
              "      <td>KIM Heejin</td>\n",
              "      <td>KIM HEEJIN</td>\n",
              "      <td>Opposite</td>\n",
              "      <td>Right</td>\n",
              "      <td>185.0</td>\n",
              "      <td>305.0</td>\n",
              "      <td>290.0</td>\n",
              "      <td>1991-04-29</td>\n",
              "    </tr>\n",
              "    <tr>\n",
              "      <th>3</th>\n",
              "      <td>kor</td>\n",
              "      <td>7.0</td>\n",
              "      <td>AN Hyejin</td>\n",
              "      <td>AN HYEJIN</td>\n",
              "      <td>Setter</td>\n",
              "      <td>Right</td>\n",
              "      <td>175.0</td>\n",
              "      <td>256.0</td>\n",
              "      <td>231.0</td>\n",
              "      <td>1998-02-16</td>\n",
              "    </tr>\n",
              "    <tr>\n",
              "      <th>4</th>\n",
              "      <td>kor</td>\n",
              "      <td>8.0</td>\n",
              "      <td>PARK Eunjin</td>\n",
              "      <td>PARK EUNJIN</td>\n",
              "      <td>Middle Blocker</td>\n",
              "      <td>Right</td>\n",
              "      <td>187.0</td>\n",
              "      <td>296.0</td>\n",
              "      <td>281.0</td>\n",
              "      <td>1999-12-15</td>\n",
              "    </tr>\n",
              "  </tbody>\n",
              "</table>\n",
              "</div>"
            ],
            "text/plain": [
              "  level_0  player_no  ... highest_reach_block date_of_birth\n",
              "0     kor        1.0  ...               255.0    1994-10-17\n",
              "1     kor        3.0  ...               247.0    1991-02-03\n",
              "2     kor        4.0  ...               290.0    1991-04-29\n",
              "3     kor        7.0  ...               231.0    1998-02-16\n",
              "4     kor        8.0  ...               281.0    1999-12-15\n",
              "\n",
              "[5 rows x 10 columns]"
            ]
          },
          "metadata": {},
          "execution_count": 26
        }
      ]
    },
    {
      "cell_type": "code",
      "metadata": {
        "id": "v8elb3EYRwBw",
        "colab": {
          "base_uri": "https://localhost:8080/",
          "height": 206
        },
        "outputId": "ead5b572-146b-4040-b30e-e6326bc30f69"
      },
      "source": [
        "# step 3\n",
        "team_rosters = team_rosters.rename(columns={'level_0':'team'})\n",
        "team_rosters.head()"
      ],
      "execution_count": null,
      "outputs": [
        {
          "output_type": "execute_result",
          "data": {
            "text/html": [
              "<div>\n",
              "<style scoped>\n",
              "    .dataframe tbody tr th:only-of-type {\n",
              "        vertical-align: middle;\n",
              "    }\n",
              "\n",
              "    .dataframe tbody tr th {\n",
              "        vertical-align: top;\n",
              "    }\n",
              "\n",
              "    .dataframe thead th {\n",
              "        text-align: right;\n",
              "    }\n",
              "</style>\n",
              "<table border=\"1\" class=\"dataframe\">\n",
              "  <thead>\n",
              "    <tr style=\"text-align: right;\">\n",
              "      <th></th>\n",
              "      <th>team</th>\n",
              "      <th>player_no</th>\n",
              "      <th>player_name</th>\n",
              "      <th>shirt_name</th>\n",
              "      <th>position</th>\n",
              "      <th>hand</th>\n",
              "      <th>height</th>\n",
              "      <th>highest_reach_spike</th>\n",
              "      <th>highest_reach_block</th>\n",
              "      <th>date_of_birth</th>\n",
              "    </tr>\n",
              "  </thead>\n",
              "  <tbody>\n",
              "    <tr>\n",
              "      <th>0</th>\n",
              "      <td>kor</td>\n",
              "      <td>1.0</td>\n",
              "      <td>LEE Soyoung</td>\n",
              "      <td>LEE SOYOUNG</td>\n",
              "      <td>Outside Hitter</td>\n",
              "      <td>Right</td>\n",
              "      <td>176.0</td>\n",
              "      <td>270.0</td>\n",
              "      <td>255.0</td>\n",
              "      <td>1994-10-17</td>\n",
              "    </tr>\n",
              "    <tr>\n",
              "      <th>1</th>\n",
              "      <td>kor</td>\n",
              "      <td>3.0</td>\n",
              "      <td>YEUM Hye Seon</td>\n",
              "      <td>YEUM HYE SEON</td>\n",
              "      <td>Setter</td>\n",
              "      <td>Right</td>\n",
              "      <td>176.0</td>\n",
              "      <td>262.0</td>\n",
              "      <td>247.0</td>\n",
              "      <td>1991-02-03</td>\n",
              "    </tr>\n",
              "    <tr>\n",
              "      <th>2</th>\n",
              "      <td>kor</td>\n",
              "      <td>4.0</td>\n",
              "      <td>KIM Heejin</td>\n",
              "      <td>KIM HEEJIN</td>\n",
              "      <td>Opposite</td>\n",
              "      <td>Right</td>\n",
              "      <td>185.0</td>\n",
              "      <td>305.0</td>\n",
              "      <td>290.0</td>\n",
              "      <td>1991-04-29</td>\n",
              "    </tr>\n",
              "    <tr>\n",
              "      <th>3</th>\n",
              "      <td>kor</td>\n",
              "      <td>7.0</td>\n",
              "      <td>AN Hyejin</td>\n",
              "      <td>AN HYEJIN</td>\n",
              "      <td>Setter</td>\n",
              "      <td>Right</td>\n",
              "      <td>175.0</td>\n",
              "      <td>256.0</td>\n",
              "      <td>231.0</td>\n",
              "      <td>1998-02-16</td>\n",
              "    </tr>\n",
              "    <tr>\n",
              "      <th>4</th>\n",
              "      <td>kor</td>\n",
              "      <td>8.0</td>\n",
              "      <td>PARK Eunjin</td>\n",
              "      <td>PARK EUNJIN</td>\n",
              "      <td>Middle Blocker</td>\n",
              "      <td>Right</td>\n",
              "      <td>187.0</td>\n",
              "      <td>296.0</td>\n",
              "      <td>281.0</td>\n",
              "      <td>1999-12-15</td>\n",
              "    </tr>\n",
              "  </tbody>\n",
              "</table>\n",
              "</div>"
            ],
            "text/plain": [
              "  team  player_no  ... highest_reach_block date_of_birth\n",
              "0  kor        1.0  ...               255.0    1994-10-17\n",
              "1  kor        3.0  ...               247.0    1991-02-03\n",
              "2  kor        4.0  ...               290.0    1991-04-29\n",
              "3  kor        7.0  ...               231.0    1998-02-16\n",
              "4  kor        8.0  ...               281.0    1999-12-15\n",
              "\n",
              "[5 rows x 10 columns]"
            ]
          },
          "metadata": {},
          "execution_count": 27
        }
      ]
    },
    {
      "cell_type": "markdown",
      "metadata": {
        "id": "mHNLOnerfu8f"
      },
      "source": [
        "# Q3. 액션별 득점 선수 이름 찾기\n",
        "각 액션으로 어느 팀의 어느 선수가 몇 개의 랠리에서 득점했는지 알아 봅시다.    \n",
        "Q2를 풀면서 만든 `team_rosters` 테이블을 활용해 선수들의 이름을 찾아 불러 주세요!    \n",
        " \n",
        "- Step 1.  `set5_play` 테이블에서 액션이 성공(point)한 데이터만 가져와 `points` 테이블 생성\n",
        "- Step 2. `points`를 사용해 득점으로 이어진 액션 종류에 어떤 것들이 있는지 알아보기\n",
        "- Step 3. `points`를 사용해 액션, 팀, 선수 번호별 득점 랠리 개수를 구해 `points_player` 테이블 생성\n",
        "    - Step 3 Output 예시   \n",
        "\n",
        "action | action_team | player_no | rally\n",
        "-|-|-|-\n",
        "block | jpn | 11 | 1\n",
        "spike | kor | 10 | 4\n",
        "\n",
        "- Step 4. `points_player`에 선수 이름 컬럼 `player_name`을 추가하기 (해당 컬럼은 `team_rosters` 테이블에서 가져와 주세요.) \n",
        "    - Step 4 Output 예시   \n",
        "\n",
        "action | action_team | player_no | rally | player_name\n",
        "-|-|-|-|-\n",
        "block | jpn | 11 | 1 | ARAKI Erika (c)\n",
        "spike | kor | 10 | 4 | KIM Yeon Koung (c)"
      ]
    },
    {
      "cell_type": "code",
      "metadata": {
        "id": "NUs-WNn8USFW",
        "colab": {
          "base_uri": "https://localhost:8080/",
          "height": 175
        },
        "outputId": "d37b7870-aca4-492d-efa6-3bb72ddfa53a"
      },
      "source": [
        "# step 1\n",
        "points = set5_play[set5_play['point_error']=='point']\n",
        "points.head(4)"
      ],
      "execution_count": null,
      "outputs": [
        {
          "output_type": "execute_result",
          "data": {
            "text/html": [
              "<div>\n",
              "<style scoped>\n",
              "    .dataframe tbody tr th:only-of-type {\n",
              "        vertical-align: middle;\n",
              "    }\n",
              "\n",
              "    .dataframe tbody tr th {\n",
              "        vertical-align: top;\n",
              "    }\n",
              "\n",
              "    .dataframe thead th {\n",
              "        text-align: right;\n",
              "    }\n",
              "</style>\n",
              "<table border=\"1\" class=\"dataframe\">\n",
              "  <thead>\n",
              "    <tr style=\"text-align: right;\">\n",
              "      <th></th>\n",
              "      <th>rally</th>\n",
              "      <th>point_team</th>\n",
              "      <th>action_team</th>\n",
              "      <th>player_no</th>\n",
              "      <th>action</th>\n",
              "      <th>point_error</th>\n",
              "    </tr>\n",
              "  </thead>\n",
              "  <tbody>\n",
              "    <tr>\n",
              "      <th>0</th>\n",
              "      <td>176</td>\n",
              "      <td>kor</td>\n",
              "      <td>kor</td>\n",
              "      <td>14</td>\n",
              "      <td>spike</td>\n",
              "      <td>point</td>\n",
              "    </tr>\n",
              "    <tr>\n",
              "      <th>2</th>\n",
              "      <td>178</td>\n",
              "      <td>kor</td>\n",
              "      <td>kor</td>\n",
              "      <td>10</td>\n",
              "      <td>spike</td>\n",
              "      <td>point</td>\n",
              "    </tr>\n",
              "    <tr>\n",
              "      <th>3</th>\n",
              "      <td>179</td>\n",
              "      <td>jpn</td>\n",
              "      <td>jpn</td>\n",
              "      <td>2</td>\n",
              "      <td>spike</td>\n",
              "      <td>point</td>\n",
              "    </tr>\n",
              "    <tr>\n",
              "      <th>4</th>\n",
              "      <td>180</td>\n",
              "      <td>kor</td>\n",
              "      <td>kor</td>\n",
              "      <td>10</td>\n",
              "      <td>spike</td>\n",
              "      <td>point</td>\n",
              "    </tr>\n",
              "  </tbody>\n",
              "</table>\n",
              "</div>"
            ],
            "text/plain": [
              "   rally point_team action_team  player_no action point_error\n",
              "0    176        kor         kor         14  spike       point\n",
              "2    178        kor         kor         10  spike       point\n",
              "3    179        jpn         jpn          2  spike       point\n",
              "4    180        kor         kor         10  spike       point"
            ]
          },
          "metadata": {},
          "execution_count": 33
        }
      ]
    },
    {
      "cell_type": "code",
      "metadata": {
        "id": "BXeRE38ziz6F",
        "colab": {
          "base_uri": "https://localhost:8080/"
        },
        "outputId": "22f17763-6bad-4410-a56b-6ad48a4fae86"
      },
      "source": [
        "# step 2:  points를 사용해 득점으로 이어진 액션 종류에는 spike와 block이 있음\n",
        "points['action'].unique()"
      ],
      "execution_count": null,
      "outputs": [
        {
          "output_type": "execute_result",
          "data": {
            "text/plain": [
              "array(['spike', 'block'], dtype=object)"
            ]
          },
          "metadata": {},
          "execution_count": 29
        }
      ]
    },
    {
      "cell_type": "code",
      "metadata": {
        "id": "cu6kaxaqFKFF",
        "colab": {
          "base_uri": "https://localhost:8080/",
          "height": 362
        },
        "outputId": "fd6d78aa-ac86-4ec4-c23c-2c5dee9d882f"
      },
      "source": [
        "# step 3 points를 사용해 / 액션, 팀, 선수 번호 별 - groupby / 득점 랠리 개수 (sum rally) 를 구해 / points_player 테이블 생성\n",
        "points_player = points.groupby(['action','action_team','player_no'])['rally'].nunique().reset_index()\n",
        "points_player"
      ],
      "execution_count": null,
      "outputs": [
        {
          "output_type": "execute_result",
          "data": {
            "text/html": [
              "<div>\n",
              "<style scoped>\n",
              "    .dataframe tbody tr th:only-of-type {\n",
              "        vertical-align: middle;\n",
              "    }\n",
              "\n",
              "    .dataframe tbody tr th {\n",
              "        vertical-align: top;\n",
              "    }\n",
              "\n",
              "    .dataframe thead th {\n",
              "        text-align: right;\n",
              "    }\n",
              "</style>\n",
              "<table border=\"1\" class=\"dataframe\">\n",
              "  <thead>\n",
              "    <tr style=\"text-align: right;\">\n",
              "      <th></th>\n",
              "      <th>action</th>\n",
              "      <th>action_team</th>\n",
              "      <th>player_no</th>\n",
              "      <th>rally</th>\n",
              "    </tr>\n",
              "  </thead>\n",
              "  <tbody>\n",
              "    <tr>\n",
              "      <th>0</th>\n",
              "      <td>block</td>\n",
              "      <td>jpn</td>\n",
              "      <td>11</td>\n",
              "      <td>1</td>\n",
              "    </tr>\n",
              "    <tr>\n",
              "      <th>1</th>\n",
              "      <td>block</td>\n",
              "      <td>kor</td>\n",
              "      <td>4</td>\n",
              "      <td>2</td>\n",
              "    </tr>\n",
              "    <tr>\n",
              "      <th>2</th>\n",
              "      <td>block</td>\n",
              "      <td>kor</td>\n",
              "      <td>10</td>\n",
              "      <td>1</td>\n",
              "    </tr>\n",
              "    <tr>\n",
              "      <th>3</th>\n",
              "      <td>spike</td>\n",
              "      <td>jpn</td>\n",
              "      <td>2</td>\n",
              "      <td>4</td>\n",
              "    </tr>\n",
              "    <tr>\n",
              "      <th>4</th>\n",
              "      <td>spike</td>\n",
              "      <td>jpn</td>\n",
              "      <td>4</td>\n",
              "      <td>3</td>\n",
              "    </tr>\n",
              "    <tr>\n",
              "      <th>5</th>\n",
              "      <td>spike</td>\n",
              "      <td>jpn</td>\n",
              "      <td>5</td>\n",
              "      <td>2</td>\n",
              "    </tr>\n",
              "    <tr>\n",
              "      <th>6</th>\n",
              "      <td>spike</td>\n",
              "      <td>jpn</td>\n",
              "      <td>11</td>\n",
              "      <td>1</td>\n",
              "    </tr>\n",
              "    <tr>\n",
              "      <th>7</th>\n",
              "      <td>spike</td>\n",
              "      <td>kor</td>\n",
              "      <td>10</td>\n",
              "      <td>4</td>\n",
              "    </tr>\n",
              "    <tr>\n",
              "      <th>8</th>\n",
              "      <td>spike</td>\n",
              "      <td>kor</td>\n",
              "      <td>13</td>\n",
              "      <td>5</td>\n",
              "    </tr>\n",
              "    <tr>\n",
              "      <th>9</th>\n",
              "      <td>spike</td>\n",
              "      <td>kor</td>\n",
              "      <td>14</td>\n",
              "      <td>1</td>\n",
              "    </tr>\n",
              "  </tbody>\n",
              "</table>\n",
              "</div>"
            ],
            "text/plain": [
              "  action action_team  player_no  rally\n",
              "0  block         jpn         11      1\n",
              "1  block         kor          4      2\n",
              "2  block         kor         10      1\n",
              "3  spike         jpn          2      4\n",
              "4  spike         jpn          4      3\n",
              "5  spike         jpn          5      2\n",
              "6  spike         jpn         11      1\n",
              "7  spike         kor         10      4\n",
              "8  spike         kor         13      5\n",
              "9  spike         kor         14      1"
            ]
          },
          "metadata": {},
          "execution_count": 37
        }
      ]
    },
    {
      "cell_type": "code",
      "metadata": {
        "id": "-YV_OJUshqkd",
        "colab": {
          "base_uri": "https://localhost:8080/",
          "height": 488
        },
        "outputId": "f6260431-045f-4714-e8bd-1f96ec11ff5c"
      },
      "source": [
        "# step 4.  points_player에 선수 이름 컬럼 player_name을 추가하기 (해당 컬럼은 team_rosters 테이블에서 가져와 주세요.)\n",
        "player_name = team_rosters[['player_no','player_name']]\n",
        "points_player = points_player.merge(player_name, how = 'left', on='player_no')\n",
        "points_player"
      ],
      "execution_count": null,
      "outputs": [
        {
          "output_type": "execute_result",
          "data": {
            "text/html": [
              "<div>\n",
              "<style scoped>\n",
              "    .dataframe tbody tr th:only-of-type {\n",
              "        vertical-align: middle;\n",
              "    }\n",
              "\n",
              "    .dataframe tbody tr th {\n",
              "        vertical-align: top;\n",
              "    }\n",
              "\n",
              "    .dataframe thead th {\n",
              "        text-align: right;\n",
              "    }\n",
              "</style>\n",
              "<table border=\"1\" class=\"dataframe\">\n",
              "  <thead>\n",
              "    <tr style=\"text-align: right;\">\n",
              "      <th></th>\n",
              "      <th>action</th>\n",
              "      <th>action_team</th>\n",
              "      <th>player_no</th>\n",
              "      <th>rally</th>\n",
              "      <th>player_name</th>\n",
              "    </tr>\n",
              "  </thead>\n",
              "  <tbody>\n",
              "    <tr>\n",
              "      <th>0</th>\n",
              "      <td>block</td>\n",
              "      <td>jpn</td>\n",
              "      <td>11</td>\n",
              "      <td>1</td>\n",
              "      <td>KIM Su Ji</td>\n",
              "    </tr>\n",
              "    <tr>\n",
              "      <th>1</th>\n",
              "      <td>block</td>\n",
              "      <td>jpn</td>\n",
              "      <td>11</td>\n",
              "      <td>1</td>\n",
              "      <td>ARAKI Erika (c)</td>\n",
              "    </tr>\n",
              "    <tr>\n",
              "      <th>2</th>\n",
              "      <td>block</td>\n",
              "      <td>kor</td>\n",
              "      <td>4</td>\n",
              "      <td>2</td>\n",
              "      <td>KIM Heejin</td>\n",
              "    </tr>\n",
              "    <tr>\n",
              "      <th>3</th>\n",
              "      <td>block</td>\n",
              "      <td>kor</td>\n",
              "      <td>4</td>\n",
              "      <td>2</td>\n",
              "      <td>ISHIKAWA Mayu</td>\n",
              "    </tr>\n",
              "    <tr>\n",
              "      <th>4</th>\n",
              "      <td>block</td>\n",
              "      <td>kor</td>\n",
              "      <td>10</td>\n",
              "      <td>1</td>\n",
              "      <td>KIM Yeon Koung (c)</td>\n",
              "    </tr>\n",
              "    <tr>\n",
              "      <th>5</th>\n",
              "      <td>spike</td>\n",
              "      <td>jpn</td>\n",
              "      <td>2</td>\n",
              "      <td>4</td>\n",
              "      <td>KOGA Sarina</td>\n",
              "    </tr>\n",
              "    <tr>\n",
              "      <th>6</th>\n",
              "      <td>spike</td>\n",
              "      <td>jpn</td>\n",
              "      <td>4</td>\n",
              "      <td>3</td>\n",
              "      <td>KIM Heejin</td>\n",
              "    </tr>\n",
              "    <tr>\n",
              "      <th>7</th>\n",
              "      <td>spike</td>\n",
              "      <td>jpn</td>\n",
              "      <td>4</td>\n",
              "      <td>3</td>\n",
              "      <td>ISHIKAWA Mayu</td>\n",
              "    </tr>\n",
              "    <tr>\n",
              "      <th>8</th>\n",
              "      <td>spike</td>\n",
              "      <td>jpn</td>\n",
              "      <td>5</td>\n",
              "      <td>2</td>\n",
              "      <td>SHIMAMURA Haruyo</td>\n",
              "    </tr>\n",
              "    <tr>\n",
              "      <th>9</th>\n",
              "      <td>spike</td>\n",
              "      <td>jpn</td>\n",
              "      <td>11</td>\n",
              "      <td>1</td>\n",
              "      <td>KIM Su Ji</td>\n",
              "    </tr>\n",
              "    <tr>\n",
              "      <th>10</th>\n",
              "      <td>spike</td>\n",
              "      <td>jpn</td>\n",
              "      <td>11</td>\n",
              "      <td>1</td>\n",
              "      <td>ARAKI Erika (c)</td>\n",
              "    </tr>\n",
              "    <tr>\n",
              "      <th>11</th>\n",
              "      <td>spike</td>\n",
              "      <td>kor</td>\n",
              "      <td>10</td>\n",
              "      <td>4</td>\n",
              "      <td>KIM Yeon Koung (c)</td>\n",
              "    </tr>\n",
              "    <tr>\n",
              "      <th>12</th>\n",
              "      <td>spike</td>\n",
              "      <td>kor</td>\n",
              "      <td>13</td>\n",
              "      <td>5</td>\n",
              "      <td>PARK Jeongah</td>\n",
              "    </tr>\n",
              "    <tr>\n",
              "      <th>13</th>\n",
              "      <td>spike</td>\n",
              "      <td>kor</td>\n",
              "      <td>14</td>\n",
              "      <td>1</td>\n",
              "      <td>YANG Hyo Jin</td>\n",
              "    </tr>\n",
              "  </tbody>\n",
              "</table>\n",
              "</div>"
            ],
            "text/plain": [
              "   action action_team  player_no  rally         player_name\n",
              "0   block         jpn         11      1           KIM Su Ji\n",
              "1   block         jpn         11      1     ARAKI Erika (c)\n",
              "2   block         kor          4      2          KIM Heejin\n",
              "3   block         kor          4      2       ISHIKAWA Mayu\n",
              "4   block         kor         10      1  KIM Yeon Koung (c)\n",
              "5   spike         jpn          2      4         KOGA Sarina\n",
              "6   spike         jpn          4      3          KIM Heejin\n",
              "7   spike         jpn          4      3       ISHIKAWA Mayu\n",
              "8   spike         jpn          5      2    SHIMAMURA Haruyo\n",
              "9   spike         jpn         11      1           KIM Su Ji\n",
              "10  spike         jpn         11      1     ARAKI Erika (c)\n",
              "11  spike         kor         10      4  KIM Yeon Koung (c)\n",
              "12  spike         kor         13      5        PARK Jeongah\n",
              "13  spike         kor         14      1        YANG Hyo Jin"
            ]
          },
          "metadata": {},
          "execution_count": 38
        }
      ]
    },
    {
      "cell_type": "code",
      "metadata": {
        "colab": {
          "base_uri": "https://localhost:8080/",
          "height": 488
        },
        "id": "PX1cvR32Agg8",
        "outputId": "4f2c3fb7-b2d5-4d8d-a3fb-4334a6fd6654"
      },
      "source": [
        "points_player.sort_values(['action', 'rally'], ascending=False)"
      ],
      "execution_count": null,
      "outputs": [
        {
          "output_type": "execute_result",
          "data": {
            "text/html": [
              "<div>\n",
              "<style scoped>\n",
              "    .dataframe tbody tr th:only-of-type {\n",
              "        vertical-align: middle;\n",
              "    }\n",
              "\n",
              "    .dataframe tbody tr th {\n",
              "        vertical-align: top;\n",
              "    }\n",
              "\n",
              "    .dataframe thead th {\n",
              "        text-align: right;\n",
              "    }\n",
              "</style>\n",
              "<table border=\"1\" class=\"dataframe\">\n",
              "  <thead>\n",
              "    <tr style=\"text-align: right;\">\n",
              "      <th></th>\n",
              "      <th>action</th>\n",
              "      <th>action_team</th>\n",
              "      <th>player_no</th>\n",
              "      <th>rally</th>\n",
              "      <th>player_name</th>\n",
              "    </tr>\n",
              "  </thead>\n",
              "  <tbody>\n",
              "    <tr>\n",
              "      <th>12</th>\n",
              "      <td>spike</td>\n",
              "      <td>kor</td>\n",
              "      <td>13</td>\n",
              "      <td>5</td>\n",
              "      <td>PARK Jeongah</td>\n",
              "    </tr>\n",
              "    <tr>\n",
              "      <th>5</th>\n",
              "      <td>spike</td>\n",
              "      <td>jpn</td>\n",
              "      <td>2</td>\n",
              "      <td>4</td>\n",
              "      <td>KOGA Sarina</td>\n",
              "    </tr>\n",
              "    <tr>\n",
              "      <th>11</th>\n",
              "      <td>spike</td>\n",
              "      <td>kor</td>\n",
              "      <td>10</td>\n",
              "      <td>4</td>\n",
              "      <td>KIM Yeon Koung (c)</td>\n",
              "    </tr>\n",
              "    <tr>\n",
              "      <th>6</th>\n",
              "      <td>spike</td>\n",
              "      <td>jpn</td>\n",
              "      <td>4</td>\n",
              "      <td>3</td>\n",
              "      <td>KIM Heejin</td>\n",
              "    </tr>\n",
              "    <tr>\n",
              "      <th>7</th>\n",
              "      <td>spike</td>\n",
              "      <td>jpn</td>\n",
              "      <td>4</td>\n",
              "      <td>3</td>\n",
              "      <td>ISHIKAWA Mayu</td>\n",
              "    </tr>\n",
              "    <tr>\n",
              "      <th>8</th>\n",
              "      <td>spike</td>\n",
              "      <td>jpn</td>\n",
              "      <td>5</td>\n",
              "      <td>2</td>\n",
              "      <td>SHIMAMURA Haruyo</td>\n",
              "    </tr>\n",
              "    <tr>\n",
              "      <th>9</th>\n",
              "      <td>spike</td>\n",
              "      <td>jpn</td>\n",
              "      <td>11</td>\n",
              "      <td>1</td>\n",
              "      <td>KIM Su Ji</td>\n",
              "    </tr>\n",
              "    <tr>\n",
              "      <th>10</th>\n",
              "      <td>spike</td>\n",
              "      <td>jpn</td>\n",
              "      <td>11</td>\n",
              "      <td>1</td>\n",
              "      <td>ARAKI Erika (c)</td>\n",
              "    </tr>\n",
              "    <tr>\n",
              "      <th>13</th>\n",
              "      <td>spike</td>\n",
              "      <td>kor</td>\n",
              "      <td>14</td>\n",
              "      <td>1</td>\n",
              "      <td>YANG Hyo Jin</td>\n",
              "    </tr>\n",
              "    <tr>\n",
              "      <th>2</th>\n",
              "      <td>block</td>\n",
              "      <td>kor</td>\n",
              "      <td>4</td>\n",
              "      <td>2</td>\n",
              "      <td>KIM Heejin</td>\n",
              "    </tr>\n",
              "    <tr>\n",
              "      <th>3</th>\n",
              "      <td>block</td>\n",
              "      <td>kor</td>\n",
              "      <td>4</td>\n",
              "      <td>2</td>\n",
              "      <td>ISHIKAWA Mayu</td>\n",
              "    </tr>\n",
              "    <tr>\n",
              "      <th>0</th>\n",
              "      <td>block</td>\n",
              "      <td>jpn</td>\n",
              "      <td>11</td>\n",
              "      <td>1</td>\n",
              "      <td>KIM Su Ji</td>\n",
              "    </tr>\n",
              "    <tr>\n",
              "      <th>1</th>\n",
              "      <td>block</td>\n",
              "      <td>jpn</td>\n",
              "      <td>11</td>\n",
              "      <td>1</td>\n",
              "      <td>ARAKI Erika (c)</td>\n",
              "    </tr>\n",
              "    <tr>\n",
              "      <th>4</th>\n",
              "      <td>block</td>\n",
              "      <td>kor</td>\n",
              "      <td>10</td>\n",
              "      <td>1</td>\n",
              "      <td>KIM Yeon Koung (c)</td>\n",
              "    </tr>\n",
              "  </tbody>\n",
              "</table>\n",
              "</div>"
            ],
            "text/plain": [
              "   action action_team  player_no  rally         player_name\n",
              "12  spike         kor         13      5        PARK Jeongah\n",
              "5   spike         jpn          2      4         KOGA Sarina\n",
              "11  spike         kor         10      4  KIM Yeon Koung (c)\n",
              "6   spike         jpn          4      3          KIM Heejin\n",
              "7   spike         jpn          4      3       ISHIKAWA Mayu\n",
              "8   spike         jpn          5      2    SHIMAMURA Haruyo\n",
              "9   spike         jpn         11      1           KIM Su Ji\n",
              "10  spike         jpn         11      1     ARAKI Erika (c)\n",
              "13  spike         kor         14      1        YANG Hyo Jin\n",
              "2   block         kor          4      2          KIM Heejin\n",
              "3   block         kor          4      2       ISHIKAWA Mayu\n",
              "0   block         jpn         11      1           KIM Su Ji\n",
              "1   block         jpn         11      1     ARAKI Erika (c)\n",
              "4   block         kor         10      1  KIM Yeon Koung (c)"
            ]
          },
          "metadata": {},
          "execution_count": 39
        }
      ]
    },
    {
      "cell_type": "markdown",
      "metadata": {
        "id": "U2cEZu-MtMAZ"
      },
      "source": [
        "### 질문\n",
        "* 질문: 득점으로 이어진 액션 종류에는 어떤 것들이 있나요? 각 액션으로 가장 많은 랠리에서 득점을 낸 선수의 이름은 무엇인가요?\n",
        "* 답변: spike 와 block이 있으며 spike에서는 박정아 선수가 5번의 랠리, block에서는 김희진 선수가 2번의 랠리로 득점을 했다"
      ]
    },
    {
      "cell_type": "markdown",
      "metadata": {
        "id": "5k6b94HwQMUs"
      },
      "source": [
        "# Q4. 추가 분석"
      ]
    },
    {
      "cell_type": "code",
      "metadata": {
        "id": "y-Zla8y28HDU"
      },
      "source": [
        "# 여러분들의 분석 아이디어를 들려주세요!"
      ],
      "execution_count": null,
      "outputs": []
    },
    {
      "cell_type": "markdown",
      "metadata": {
        "id": "s4sU7uOFWDCM"
      },
      "source": [
        "# 수고하셨습니다!\n",
        "섹션 7에서 만나요!"
      ]
    }
  ]
}