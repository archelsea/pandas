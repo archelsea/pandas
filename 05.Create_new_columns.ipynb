{
  "nbformat": 4,
  "nbformat_minor": 0,
  "metadata": {
    "colab": {
      "name": "05.Create new columns.ipynb",
      "provenance": [],
      "collapsed_sections": [],
      "authorship_tag": "ABX9TyOWD3Yw8zHZHHgGkI5tq4ci",
      "include_colab_link": true
    },
    "kernelspec": {
      "name": "python3",
      "display_name": "Python 3"
    },
    "language_info": {
      "name": "python"
    }
  },
  "cells": [
    {
      "cell_type": "markdown",
      "metadata": {
        "id": "view-in-github",
        "colab_type": "text"
      },
      "source": [
        "<a href=\"https://colab.research.google.com/github/archelsea/pandas/blob/main/05.Create_new_columns.ipynb\" target=\"_parent\"><img src=\"https://colab.research.google.com/assets/colab-badge.svg\" alt=\"Open In Colab\"/></a>"
      ]
    },
    {
      "cell_type": "code",
      "metadata": {
        "id": "of8NDNGrSQwa"
      },
      "source": [
        "import pandas as pd"
      ],
      "execution_count": 1,
      "outputs": []
    },
    {
      "cell_type": "code",
      "metadata": {
        "colab": {
          "base_uri": "https://localhost:8080/",
          "height": 110
        },
        "id": "BOpv2htFShRz",
        "outputId": "aaa452e5-1cb9-4bbd-ef6a-82720bb96d3a"
      },
      "source": [
        "air_quality = pd.read_csv('https://raw.githubusercontent.com/pandas-dev/pandas/master/doc/data/air_quality_no2.csv')\n",
        "air_quality.head(2)"
      ],
      "execution_count": 2,
      "outputs": [
        {
          "output_type": "execute_result",
          "data": {
            "text/html": [
              "<div>\n",
              "<style scoped>\n",
              "    .dataframe tbody tr th:only-of-type {\n",
              "        vertical-align: middle;\n",
              "    }\n",
              "\n",
              "    .dataframe tbody tr th {\n",
              "        vertical-align: top;\n",
              "    }\n",
              "\n",
              "    .dataframe thead th {\n",
              "        text-align: right;\n",
              "    }\n",
              "</style>\n",
              "<table border=\"1\" class=\"dataframe\">\n",
              "  <thead>\n",
              "    <tr style=\"text-align: right;\">\n",
              "      <th></th>\n",
              "      <th>datetime</th>\n",
              "      <th>station_antwerp</th>\n",
              "      <th>station_paris</th>\n",
              "      <th>station_london</th>\n",
              "    </tr>\n",
              "  </thead>\n",
              "  <tbody>\n",
              "    <tr>\n",
              "      <th>0</th>\n",
              "      <td>2019-05-07 02:00:00</td>\n",
              "      <td>NaN</td>\n",
              "      <td>NaN</td>\n",
              "      <td>23.0</td>\n",
              "    </tr>\n",
              "    <tr>\n",
              "      <th>1</th>\n",
              "      <td>2019-05-07 03:00:00</td>\n",
              "      <td>50.5</td>\n",
              "      <td>25.0</td>\n",
              "      <td>19.0</td>\n",
              "    </tr>\n",
              "  </tbody>\n",
              "</table>\n",
              "</div>"
            ],
            "text/plain": [
              "              datetime  station_antwerp  station_paris  station_london\n",
              "0  2019-05-07 02:00:00              NaN            NaN            23.0\n",
              "1  2019-05-07 03:00:00             50.5           25.0            19.0"
            ]
          },
          "metadata": {},
          "execution_count": 2
        }
      ]
    },
    {
      "cell_type": "markdown",
      "metadata": {
        "id": "-_UpXNHLSpPx"
      },
      "source": [
        "# 기존 컬럼에 숫자 곱하기"
      ]
    },
    {
      "cell_type": "code",
      "metadata": {
        "id": "XCnkQWxySr6_"
      },
      "source": [
        "air_quality['london_mg_per_cubic']=air_quality['station_london'] * 1.882"
      ],
      "execution_count": 4,
      "outputs": []
    },
    {
      "cell_type": "code",
      "metadata": {
        "colab": {
          "base_uri": "https://localhost:8080/",
          "height": 110
        },
        "id": "aTa7Ral4SwXY",
        "outputId": "0bf92523-695c-466e-d6e1-227391d1ce7e"
      },
      "source": [
        "air_quality.head(2)"
      ],
      "execution_count": 5,
      "outputs": [
        {
          "output_type": "execute_result",
          "data": {
            "text/html": [
              "<div>\n",
              "<style scoped>\n",
              "    .dataframe tbody tr th:only-of-type {\n",
              "        vertical-align: middle;\n",
              "    }\n",
              "\n",
              "    .dataframe tbody tr th {\n",
              "        vertical-align: top;\n",
              "    }\n",
              "\n",
              "    .dataframe thead th {\n",
              "        text-align: right;\n",
              "    }\n",
              "</style>\n",
              "<table border=\"1\" class=\"dataframe\">\n",
              "  <thead>\n",
              "    <tr style=\"text-align: right;\">\n",
              "      <th></th>\n",
              "      <th>datetime</th>\n",
              "      <th>station_antwerp</th>\n",
              "      <th>station_paris</th>\n",
              "      <th>station_london</th>\n",
              "      <th>london_mg_per_cubic</th>\n",
              "    </tr>\n",
              "  </thead>\n",
              "  <tbody>\n",
              "    <tr>\n",
              "      <th>0</th>\n",
              "      <td>2019-05-07 02:00:00</td>\n",
              "      <td>NaN</td>\n",
              "      <td>NaN</td>\n",
              "      <td>23.0</td>\n",
              "      <td>43.286</td>\n",
              "    </tr>\n",
              "    <tr>\n",
              "      <th>1</th>\n",
              "      <td>2019-05-07 03:00:00</td>\n",
              "      <td>50.5</td>\n",
              "      <td>25.0</td>\n",
              "      <td>19.0</td>\n",
              "      <td>35.758</td>\n",
              "    </tr>\n",
              "  </tbody>\n",
              "</table>\n",
              "</div>"
            ],
            "text/plain": [
              "              datetime  station_antwerp  ...  station_london  london_mg_per_cubic\n",
              "0  2019-05-07 02:00:00              NaN  ...            23.0               43.286\n",
              "1  2019-05-07 03:00:00             50.5  ...            19.0               35.758\n",
              "\n",
              "[2 rows x 5 columns]"
            ]
          },
          "metadata": {},
          "execution_count": 5
        }
      ]
    },
    {
      "cell_type": "code",
      "metadata": {
        "colab": {
          "base_uri": "https://localhost:8080/",
          "height": 414
        },
        "id": "tVD8uz0hTEdZ",
        "outputId": "9d4fa617-f53c-4b40-b63b-b5b58b33489d"
      },
      "source": [
        "air_quality['test'] = 1.882\n",
        "air_quality"
      ],
      "execution_count": 6,
      "outputs": [
        {
          "output_type": "execute_result",
          "data": {
            "text/html": [
              "<div>\n",
              "<style scoped>\n",
              "    .dataframe tbody tr th:only-of-type {\n",
              "        vertical-align: middle;\n",
              "    }\n",
              "\n",
              "    .dataframe tbody tr th {\n",
              "        vertical-align: top;\n",
              "    }\n",
              "\n",
              "    .dataframe thead th {\n",
              "        text-align: right;\n",
              "    }\n",
              "</style>\n",
              "<table border=\"1\" class=\"dataframe\">\n",
              "  <thead>\n",
              "    <tr style=\"text-align: right;\">\n",
              "      <th></th>\n",
              "      <th>datetime</th>\n",
              "      <th>station_antwerp</th>\n",
              "      <th>station_paris</th>\n",
              "      <th>station_london</th>\n",
              "      <th>london_mg_per_cubic</th>\n",
              "      <th>test</th>\n",
              "    </tr>\n",
              "  </thead>\n",
              "  <tbody>\n",
              "    <tr>\n",
              "      <th>0</th>\n",
              "      <td>2019-05-07 02:00:00</td>\n",
              "      <td>NaN</td>\n",
              "      <td>NaN</td>\n",
              "      <td>23.0</td>\n",
              "      <td>43.286</td>\n",
              "      <td>1.882</td>\n",
              "    </tr>\n",
              "    <tr>\n",
              "      <th>1</th>\n",
              "      <td>2019-05-07 03:00:00</td>\n",
              "      <td>50.5</td>\n",
              "      <td>25.0</td>\n",
              "      <td>19.0</td>\n",
              "      <td>35.758</td>\n",
              "      <td>1.882</td>\n",
              "    </tr>\n",
              "    <tr>\n",
              "      <th>2</th>\n",
              "      <td>2019-05-07 04:00:00</td>\n",
              "      <td>45.0</td>\n",
              "      <td>27.7</td>\n",
              "      <td>19.0</td>\n",
              "      <td>35.758</td>\n",
              "      <td>1.882</td>\n",
              "    </tr>\n",
              "    <tr>\n",
              "      <th>3</th>\n",
              "      <td>2019-05-07 05:00:00</td>\n",
              "      <td>NaN</td>\n",
              "      <td>50.4</td>\n",
              "      <td>16.0</td>\n",
              "      <td>30.112</td>\n",
              "      <td>1.882</td>\n",
              "    </tr>\n",
              "    <tr>\n",
              "      <th>4</th>\n",
              "      <td>2019-05-07 06:00:00</td>\n",
              "      <td>NaN</td>\n",
              "      <td>61.9</td>\n",
              "      <td>NaN</td>\n",
              "      <td>NaN</td>\n",
              "      <td>1.882</td>\n",
              "    </tr>\n",
              "    <tr>\n",
              "      <th>...</th>\n",
              "      <td>...</td>\n",
              "      <td>...</td>\n",
              "      <td>...</td>\n",
              "      <td>...</td>\n",
              "      <td>...</td>\n",
              "      <td>...</td>\n",
              "    </tr>\n",
              "    <tr>\n",
              "      <th>1030</th>\n",
              "      <td>2019-06-20 22:00:00</td>\n",
              "      <td>NaN</td>\n",
              "      <td>21.4</td>\n",
              "      <td>NaN</td>\n",
              "      <td>NaN</td>\n",
              "      <td>1.882</td>\n",
              "    </tr>\n",
              "    <tr>\n",
              "      <th>1031</th>\n",
              "      <td>2019-06-20 23:00:00</td>\n",
              "      <td>NaN</td>\n",
              "      <td>24.9</td>\n",
              "      <td>NaN</td>\n",
              "      <td>NaN</td>\n",
              "      <td>1.882</td>\n",
              "    </tr>\n",
              "    <tr>\n",
              "      <th>1032</th>\n",
              "      <td>2019-06-21 00:00:00</td>\n",
              "      <td>NaN</td>\n",
              "      <td>26.5</td>\n",
              "      <td>NaN</td>\n",
              "      <td>NaN</td>\n",
              "      <td>1.882</td>\n",
              "    </tr>\n",
              "    <tr>\n",
              "      <th>1033</th>\n",
              "      <td>2019-06-21 01:00:00</td>\n",
              "      <td>NaN</td>\n",
              "      <td>21.8</td>\n",
              "      <td>NaN</td>\n",
              "      <td>NaN</td>\n",
              "      <td>1.882</td>\n",
              "    </tr>\n",
              "    <tr>\n",
              "      <th>1034</th>\n",
              "      <td>2019-06-21 02:00:00</td>\n",
              "      <td>NaN</td>\n",
              "      <td>20.0</td>\n",
              "      <td>NaN</td>\n",
              "      <td>NaN</td>\n",
              "      <td>1.882</td>\n",
              "    </tr>\n",
              "  </tbody>\n",
              "</table>\n",
              "<p>1035 rows × 6 columns</p>\n",
              "</div>"
            ],
            "text/plain": [
              "                 datetime  station_antwerp  ...  london_mg_per_cubic   test\n",
              "0     2019-05-07 02:00:00              NaN  ...               43.286  1.882\n",
              "1     2019-05-07 03:00:00             50.5  ...               35.758  1.882\n",
              "2     2019-05-07 04:00:00             45.0  ...               35.758  1.882\n",
              "3     2019-05-07 05:00:00              NaN  ...               30.112  1.882\n",
              "4     2019-05-07 06:00:00              NaN  ...                  NaN  1.882\n",
              "...                   ...              ...  ...                  ...    ...\n",
              "1030  2019-06-20 22:00:00              NaN  ...                  NaN  1.882\n",
              "1031  2019-06-20 23:00:00              NaN  ...                  NaN  1.882\n",
              "1032  2019-06-21 00:00:00              NaN  ...                  NaN  1.882\n",
              "1033  2019-06-21 01:00:00              NaN  ...                  NaN  1.882\n",
              "1034  2019-06-21 02:00:00              NaN  ...                  NaN  1.882\n",
              "\n",
              "[1035 rows x 6 columns]"
            ]
          },
          "metadata": {},
          "execution_count": 6
        }
      ]
    },
    {
      "cell_type": "markdown",
      "metadata": {
        "id": "jmLXdfpFTLyV"
      },
      "source": [
        "### element_wise 기능이 좋은 점은?\n",
        "\n",
        "아래와 같이 복잡한 작업을 위와 같이 쉽게 처리해주기 때문!\n",
        "\n"
      ]
    },
    {
      "cell_type": "code",
      "metadata": {
        "colab": {
          "base_uri": "https://localhost:8080/"
        },
        "id": "bxJjL0A8TYMT",
        "outputId": "426da5ca-e179-470e-a9e5-bacd339bfd92"
      },
      "source": [
        "a = [1,2,3,4]\n",
        "a"
      ],
      "execution_count": 7,
      "outputs": [
        {
          "output_type": "execute_result",
          "data": {
            "text/plain": [
              "[1, 2, 3, 4]"
            ]
          },
          "metadata": {},
          "execution_count": 7
        }
      ]
    },
    {
      "cell_type": "code",
      "metadata": {
        "colab": {
          "base_uri": "https://localhost:8080/"
        },
        "id": "OCjQRfhXTaKR",
        "outputId": "3d3b5bfa-91d1-428b-e8c4-dc584afa8ce5"
      },
      "source": [
        "a*2"
      ],
      "execution_count": 8,
      "outputs": [
        {
          "output_type": "execute_result",
          "data": {
            "text/plain": [
              "[1, 2, 3, 4, 1, 2, 3, 4]"
            ]
          },
          "metadata": {},
          "execution_count": 8
        }
      ]
    },
    {
      "cell_type": "code",
      "metadata": {
        "id": "7Hmaa_fTTb6e"
      },
      "source": [
        "b = []\n",
        "\n",
        "for i in a:\n",
        "  b.append(i*2)"
      ],
      "execution_count": 9,
      "outputs": []
    },
    {
      "cell_type": "code",
      "metadata": {
        "colab": {
          "base_uri": "https://localhost:8080/"
        },
        "id": "dJrhS025TiN7",
        "outputId": "e6bcadc8-d734-45cc-944d-a94decf6d309"
      },
      "source": [
        "b"
      ],
      "execution_count": 10,
      "outputs": [
        {
          "output_type": "execute_result",
          "data": {
            "text/plain": [
              "[2, 4, 6, 8]"
            ]
          },
          "metadata": {},
          "execution_count": 10
        }
      ]
    },
    {
      "cell_type": "markdown",
      "metadata": {
        "id": "EeXrVLsJTirc"
      },
      "source": [
        "# 컬럼끼리 연산하기"
      ]
    },
    {
      "cell_type": "code",
      "metadata": {
        "colab": {
          "base_uri": "https://localhost:8080/",
          "height": 414
        },
        "id": "zOLXT7VPT3Kc",
        "outputId": "23547fa2-f6cc-4702-a74d-855524cd3a37"
      },
      "source": [
        "air_quality['ratio_paris_antwerp'] = air_quality['station_paris'] / air_quality['station_antwerp']\n",
        "air_quality"
      ],
      "execution_count": 11,
      "outputs": [
        {
          "output_type": "execute_result",
          "data": {
            "text/html": [
              "<div>\n",
              "<style scoped>\n",
              "    .dataframe tbody tr th:only-of-type {\n",
              "        vertical-align: middle;\n",
              "    }\n",
              "\n",
              "    .dataframe tbody tr th {\n",
              "        vertical-align: top;\n",
              "    }\n",
              "\n",
              "    .dataframe thead th {\n",
              "        text-align: right;\n",
              "    }\n",
              "</style>\n",
              "<table border=\"1\" class=\"dataframe\">\n",
              "  <thead>\n",
              "    <tr style=\"text-align: right;\">\n",
              "      <th></th>\n",
              "      <th>datetime</th>\n",
              "      <th>station_antwerp</th>\n",
              "      <th>station_paris</th>\n",
              "      <th>station_london</th>\n",
              "      <th>london_mg_per_cubic</th>\n",
              "      <th>test</th>\n",
              "      <th>ratio_paris_antwerp</th>\n",
              "    </tr>\n",
              "  </thead>\n",
              "  <tbody>\n",
              "    <tr>\n",
              "      <th>0</th>\n",
              "      <td>2019-05-07 02:00:00</td>\n",
              "      <td>NaN</td>\n",
              "      <td>NaN</td>\n",
              "      <td>23.0</td>\n",
              "      <td>43.286</td>\n",
              "      <td>1.882</td>\n",
              "      <td>NaN</td>\n",
              "    </tr>\n",
              "    <tr>\n",
              "      <th>1</th>\n",
              "      <td>2019-05-07 03:00:00</td>\n",
              "      <td>50.5</td>\n",
              "      <td>25.0</td>\n",
              "      <td>19.0</td>\n",
              "      <td>35.758</td>\n",
              "      <td>1.882</td>\n",
              "      <td>0.495050</td>\n",
              "    </tr>\n",
              "    <tr>\n",
              "      <th>2</th>\n",
              "      <td>2019-05-07 04:00:00</td>\n",
              "      <td>45.0</td>\n",
              "      <td>27.7</td>\n",
              "      <td>19.0</td>\n",
              "      <td>35.758</td>\n",
              "      <td>1.882</td>\n",
              "      <td>0.615556</td>\n",
              "    </tr>\n",
              "    <tr>\n",
              "      <th>3</th>\n",
              "      <td>2019-05-07 05:00:00</td>\n",
              "      <td>NaN</td>\n",
              "      <td>50.4</td>\n",
              "      <td>16.0</td>\n",
              "      <td>30.112</td>\n",
              "      <td>1.882</td>\n",
              "      <td>NaN</td>\n",
              "    </tr>\n",
              "    <tr>\n",
              "      <th>4</th>\n",
              "      <td>2019-05-07 06:00:00</td>\n",
              "      <td>NaN</td>\n",
              "      <td>61.9</td>\n",
              "      <td>NaN</td>\n",
              "      <td>NaN</td>\n",
              "      <td>1.882</td>\n",
              "      <td>NaN</td>\n",
              "    </tr>\n",
              "    <tr>\n",
              "      <th>...</th>\n",
              "      <td>...</td>\n",
              "      <td>...</td>\n",
              "      <td>...</td>\n",
              "      <td>...</td>\n",
              "      <td>...</td>\n",
              "      <td>...</td>\n",
              "      <td>...</td>\n",
              "    </tr>\n",
              "    <tr>\n",
              "      <th>1030</th>\n",
              "      <td>2019-06-20 22:00:00</td>\n",
              "      <td>NaN</td>\n",
              "      <td>21.4</td>\n",
              "      <td>NaN</td>\n",
              "      <td>NaN</td>\n",
              "      <td>1.882</td>\n",
              "      <td>NaN</td>\n",
              "    </tr>\n",
              "    <tr>\n",
              "      <th>1031</th>\n",
              "      <td>2019-06-20 23:00:00</td>\n",
              "      <td>NaN</td>\n",
              "      <td>24.9</td>\n",
              "      <td>NaN</td>\n",
              "      <td>NaN</td>\n",
              "      <td>1.882</td>\n",
              "      <td>NaN</td>\n",
              "    </tr>\n",
              "    <tr>\n",
              "      <th>1032</th>\n",
              "      <td>2019-06-21 00:00:00</td>\n",
              "      <td>NaN</td>\n",
              "      <td>26.5</td>\n",
              "      <td>NaN</td>\n",
              "      <td>NaN</td>\n",
              "      <td>1.882</td>\n",
              "      <td>NaN</td>\n",
              "    </tr>\n",
              "    <tr>\n",
              "      <th>1033</th>\n",
              "      <td>2019-06-21 01:00:00</td>\n",
              "      <td>NaN</td>\n",
              "      <td>21.8</td>\n",
              "      <td>NaN</td>\n",
              "      <td>NaN</td>\n",
              "      <td>1.882</td>\n",
              "      <td>NaN</td>\n",
              "    </tr>\n",
              "    <tr>\n",
              "      <th>1034</th>\n",
              "      <td>2019-06-21 02:00:00</td>\n",
              "      <td>NaN</td>\n",
              "      <td>20.0</td>\n",
              "      <td>NaN</td>\n",
              "      <td>NaN</td>\n",
              "      <td>1.882</td>\n",
              "      <td>NaN</td>\n",
              "    </tr>\n",
              "  </tbody>\n",
              "</table>\n",
              "<p>1035 rows × 7 columns</p>\n",
              "</div>"
            ],
            "text/plain": [
              "                 datetime  station_antwerp  ...   test  ratio_paris_antwerp\n",
              "0     2019-05-07 02:00:00              NaN  ...  1.882                  NaN\n",
              "1     2019-05-07 03:00:00             50.5  ...  1.882             0.495050\n",
              "2     2019-05-07 04:00:00             45.0  ...  1.882             0.615556\n",
              "3     2019-05-07 05:00:00              NaN  ...  1.882                  NaN\n",
              "4     2019-05-07 06:00:00              NaN  ...  1.882                  NaN\n",
              "...                   ...              ...  ...    ...                  ...\n",
              "1030  2019-06-20 22:00:00              NaN  ...  1.882                  NaN\n",
              "1031  2019-06-20 23:00:00              NaN  ...  1.882                  NaN\n",
              "1032  2019-06-21 00:00:00              NaN  ...  1.882                  NaN\n",
              "1033  2019-06-21 01:00:00              NaN  ...  1.882                  NaN\n",
              "1034  2019-06-21 02:00:00              NaN  ...  1.882                  NaN\n",
              "\n",
              "[1035 rows x 7 columns]"
            ]
          },
          "metadata": {},
          "execution_count": 11
        }
      ]
    },
    {
      "cell_type": "markdown",
      "metadata": {
        "id": "FWIthghqURUA"
      },
      "source": [
        "# 컬럼 이름 수정"
      ]
    },
    {
      "cell_type": "code",
      "metadata": {
        "colab": {
          "base_uri": "https://localhost:8080/",
          "height": 414
        },
        "id": "LuRDGjtnUdod",
        "outputId": "60daa9e7-4c10-4955-cba5-2eefaa71e819"
      },
      "source": [
        "# air_quality.rename(columns={'station_london':'FR04014'})  이렇게만 하면 air_quality 프레임 자체가 바뀐 것은 아니기 때문에 덮어 씌우거나 새로운 df를 지칭해줘야 함\n",
        "air_quality_renamed = air_quality.rename(columns={'station_london':'FR04014'})\n",
        "air_quality_renamed"
      ],
      "execution_count": 17,
      "outputs": [
        {
          "output_type": "execute_result",
          "data": {
            "text/html": [
              "<div>\n",
              "<style scoped>\n",
              "    .dataframe tbody tr th:only-of-type {\n",
              "        vertical-align: middle;\n",
              "    }\n",
              "\n",
              "    .dataframe tbody tr th {\n",
              "        vertical-align: top;\n",
              "    }\n",
              "\n",
              "    .dataframe thead th {\n",
              "        text-align: right;\n",
              "    }\n",
              "</style>\n",
              "<table border=\"1\" class=\"dataframe\">\n",
              "  <thead>\n",
              "    <tr style=\"text-align: right;\">\n",
              "      <th></th>\n",
              "      <th>datetime</th>\n",
              "      <th>station_antwerp</th>\n",
              "      <th>station_paris</th>\n",
              "      <th>FR04014</th>\n",
              "      <th>london_mg_per_cubic</th>\n",
              "      <th>test</th>\n",
              "      <th>ratio_paris_antwerp</th>\n",
              "    </tr>\n",
              "  </thead>\n",
              "  <tbody>\n",
              "    <tr>\n",
              "      <th>0</th>\n",
              "      <td>2019-05-07 02:00:00</td>\n",
              "      <td>NaN</td>\n",
              "      <td>NaN</td>\n",
              "      <td>23.0</td>\n",
              "      <td>43.286</td>\n",
              "      <td>1.882</td>\n",
              "      <td>NaN</td>\n",
              "    </tr>\n",
              "    <tr>\n",
              "      <th>1</th>\n",
              "      <td>2019-05-07 03:00:00</td>\n",
              "      <td>50.5</td>\n",
              "      <td>25.0</td>\n",
              "      <td>19.0</td>\n",
              "      <td>35.758</td>\n",
              "      <td>1.882</td>\n",
              "      <td>0.495050</td>\n",
              "    </tr>\n",
              "    <tr>\n",
              "      <th>2</th>\n",
              "      <td>2019-05-07 04:00:00</td>\n",
              "      <td>45.0</td>\n",
              "      <td>27.7</td>\n",
              "      <td>19.0</td>\n",
              "      <td>35.758</td>\n",
              "      <td>1.882</td>\n",
              "      <td>0.615556</td>\n",
              "    </tr>\n",
              "    <tr>\n",
              "      <th>3</th>\n",
              "      <td>2019-05-07 05:00:00</td>\n",
              "      <td>NaN</td>\n",
              "      <td>50.4</td>\n",
              "      <td>16.0</td>\n",
              "      <td>30.112</td>\n",
              "      <td>1.882</td>\n",
              "      <td>NaN</td>\n",
              "    </tr>\n",
              "    <tr>\n",
              "      <th>4</th>\n",
              "      <td>2019-05-07 06:00:00</td>\n",
              "      <td>NaN</td>\n",
              "      <td>61.9</td>\n",
              "      <td>NaN</td>\n",
              "      <td>NaN</td>\n",
              "      <td>1.882</td>\n",
              "      <td>NaN</td>\n",
              "    </tr>\n",
              "    <tr>\n",
              "      <th>...</th>\n",
              "      <td>...</td>\n",
              "      <td>...</td>\n",
              "      <td>...</td>\n",
              "      <td>...</td>\n",
              "      <td>...</td>\n",
              "      <td>...</td>\n",
              "      <td>...</td>\n",
              "    </tr>\n",
              "    <tr>\n",
              "      <th>1030</th>\n",
              "      <td>2019-06-20 22:00:00</td>\n",
              "      <td>NaN</td>\n",
              "      <td>21.4</td>\n",
              "      <td>NaN</td>\n",
              "      <td>NaN</td>\n",
              "      <td>1.882</td>\n",
              "      <td>NaN</td>\n",
              "    </tr>\n",
              "    <tr>\n",
              "      <th>1031</th>\n",
              "      <td>2019-06-20 23:00:00</td>\n",
              "      <td>NaN</td>\n",
              "      <td>24.9</td>\n",
              "      <td>NaN</td>\n",
              "      <td>NaN</td>\n",
              "      <td>1.882</td>\n",
              "      <td>NaN</td>\n",
              "    </tr>\n",
              "    <tr>\n",
              "      <th>1032</th>\n",
              "      <td>2019-06-21 00:00:00</td>\n",
              "      <td>NaN</td>\n",
              "      <td>26.5</td>\n",
              "      <td>NaN</td>\n",
              "      <td>NaN</td>\n",
              "      <td>1.882</td>\n",
              "      <td>NaN</td>\n",
              "    </tr>\n",
              "    <tr>\n",
              "      <th>1033</th>\n",
              "      <td>2019-06-21 01:00:00</td>\n",
              "      <td>NaN</td>\n",
              "      <td>21.8</td>\n",
              "      <td>NaN</td>\n",
              "      <td>NaN</td>\n",
              "      <td>1.882</td>\n",
              "      <td>NaN</td>\n",
              "    </tr>\n",
              "    <tr>\n",
              "      <th>1034</th>\n",
              "      <td>2019-06-21 02:00:00</td>\n",
              "      <td>NaN</td>\n",
              "      <td>20.0</td>\n",
              "      <td>NaN</td>\n",
              "      <td>NaN</td>\n",
              "      <td>1.882</td>\n",
              "      <td>NaN</td>\n",
              "    </tr>\n",
              "  </tbody>\n",
              "</table>\n",
              "<p>1035 rows × 7 columns</p>\n",
              "</div>"
            ],
            "text/plain": [
              "                 datetime  station_antwerp  ...   test  ratio_paris_antwerp\n",
              "0     2019-05-07 02:00:00              NaN  ...  1.882                  NaN\n",
              "1     2019-05-07 03:00:00             50.5  ...  1.882             0.495050\n",
              "2     2019-05-07 04:00:00             45.0  ...  1.882             0.615556\n",
              "3     2019-05-07 05:00:00              NaN  ...  1.882                  NaN\n",
              "4     2019-05-07 06:00:00              NaN  ...  1.882                  NaN\n",
              "...                   ...              ...  ...    ...                  ...\n",
              "1030  2019-06-20 22:00:00              NaN  ...  1.882                  NaN\n",
              "1031  2019-06-20 23:00:00              NaN  ...  1.882                  NaN\n",
              "1032  2019-06-21 00:00:00              NaN  ...  1.882                  NaN\n",
              "1033  2019-06-21 01:00:00              NaN  ...  1.882                  NaN\n",
              "1034  2019-06-21 02:00:00              NaN  ...  1.882                  NaN\n",
              "\n",
              "[1035 rows x 7 columns]"
            ]
          },
          "metadata": {},
          "execution_count": 17
        }
      ]
    },
    {
      "cell_type": "code",
      "metadata": {
        "colab": {
          "base_uri": "https://localhost:8080/",
          "height": 414
        },
        "id": "IcOAUkXbUkkb",
        "outputId": "cdc3d538-b316-43eb-e49a-0660a6ca7ebf"
      },
      "source": [
        "air_quality_renamed_upper = air_quality.rename(columns=str.upper) # columns을 전부 대문자로 바꿔줌, 소문자로 바꾸고 싶으면 lower\n",
        "air_quality_renamed_upper"
      ],
      "execution_count": 21,
      "outputs": [
        {
          "output_type": "execute_result",
          "data": {
            "text/html": [
              "<div>\n",
              "<style scoped>\n",
              "    .dataframe tbody tr th:only-of-type {\n",
              "        vertical-align: middle;\n",
              "    }\n",
              "\n",
              "    .dataframe tbody tr th {\n",
              "        vertical-align: top;\n",
              "    }\n",
              "\n",
              "    .dataframe thead th {\n",
              "        text-align: right;\n",
              "    }\n",
              "</style>\n",
              "<table border=\"1\" class=\"dataframe\">\n",
              "  <thead>\n",
              "    <tr style=\"text-align: right;\">\n",
              "      <th></th>\n",
              "      <th>DATETIME</th>\n",
              "      <th>STATION_ANTWERP</th>\n",
              "      <th>STATION_PARIS</th>\n",
              "      <th>STATION_LONDON</th>\n",
              "      <th>LONDON_MG_PER_CUBIC</th>\n",
              "      <th>TEST</th>\n",
              "      <th>RATIO_PARIS_ANTWERP</th>\n",
              "    </tr>\n",
              "  </thead>\n",
              "  <tbody>\n",
              "    <tr>\n",
              "      <th>0</th>\n",
              "      <td>2019-05-07 02:00:00</td>\n",
              "      <td>NaN</td>\n",
              "      <td>NaN</td>\n",
              "      <td>23.0</td>\n",
              "      <td>43.286</td>\n",
              "      <td>1.882</td>\n",
              "      <td>NaN</td>\n",
              "    </tr>\n",
              "    <tr>\n",
              "      <th>1</th>\n",
              "      <td>2019-05-07 03:00:00</td>\n",
              "      <td>50.5</td>\n",
              "      <td>25.0</td>\n",
              "      <td>19.0</td>\n",
              "      <td>35.758</td>\n",
              "      <td>1.882</td>\n",
              "      <td>0.495050</td>\n",
              "    </tr>\n",
              "    <tr>\n",
              "      <th>2</th>\n",
              "      <td>2019-05-07 04:00:00</td>\n",
              "      <td>45.0</td>\n",
              "      <td>27.7</td>\n",
              "      <td>19.0</td>\n",
              "      <td>35.758</td>\n",
              "      <td>1.882</td>\n",
              "      <td>0.615556</td>\n",
              "    </tr>\n",
              "    <tr>\n",
              "      <th>3</th>\n",
              "      <td>2019-05-07 05:00:00</td>\n",
              "      <td>NaN</td>\n",
              "      <td>50.4</td>\n",
              "      <td>16.0</td>\n",
              "      <td>30.112</td>\n",
              "      <td>1.882</td>\n",
              "      <td>NaN</td>\n",
              "    </tr>\n",
              "    <tr>\n",
              "      <th>4</th>\n",
              "      <td>2019-05-07 06:00:00</td>\n",
              "      <td>NaN</td>\n",
              "      <td>61.9</td>\n",
              "      <td>NaN</td>\n",
              "      <td>NaN</td>\n",
              "      <td>1.882</td>\n",
              "      <td>NaN</td>\n",
              "    </tr>\n",
              "    <tr>\n",
              "      <th>...</th>\n",
              "      <td>...</td>\n",
              "      <td>...</td>\n",
              "      <td>...</td>\n",
              "      <td>...</td>\n",
              "      <td>...</td>\n",
              "      <td>...</td>\n",
              "      <td>...</td>\n",
              "    </tr>\n",
              "    <tr>\n",
              "      <th>1030</th>\n",
              "      <td>2019-06-20 22:00:00</td>\n",
              "      <td>NaN</td>\n",
              "      <td>21.4</td>\n",
              "      <td>NaN</td>\n",
              "      <td>NaN</td>\n",
              "      <td>1.882</td>\n",
              "      <td>NaN</td>\n",
              "    </tr>\n",
              "    <tr>\n",
              "      <th>1031</th>\n",
              "      <td>2019-06-20 23:00:00</td>\n",
              "      <td>NaN</td>\n",
              "      <td>24.9</td>\n",
              "      <td>NaN</td>\n",
              "      <td>NaN</td>\n",
              "      <td>1.882</td>\n",
              "      <td>NaN</td>\n",
              "    </tr>\n",
              "    <tr>\n",
              "      <th>1032</th>\n",
              "      <td>2019-06-21 00:00:00</td>\n",
              "      <td>NaN</td>\n",
              "      <td>26.5</td>\n",
              "      <td>NaN</td>\n",
              "      <td>NaN</td>\n",
              "      <td>1.882</td>\n",
              "      <td>NaN</td>\n",
              "    </tr>\n",
              "    <tr>\n",
              "      <th>1033</th>\n",
              "      <td>2019-06-21 01:00:00</td>\n",
              "      <td>NaN</td>\n",
              "      <td>21.8</td>\n",
              "      <td>NaN</td>\n",
              "      <td>NaN</td>\n",
              "      <td>1.882</td>\n",
              "      <td>NaN</td>\n",
              "    </tr>\n",
              "    <tr>\n",
              "      <th>1034</th>\n",
              "      <td>2019-06-21 02:00:00</td>\n",
              "      <td>NaN</td>\n",
              "      <td>20.0</td>\n",
              "      <td>NaN</td>\n",
              "      <td>NaN</td>\n",
              "      <td>1.882</td>\n",
              "      <td>NaN</td>\n",
              "    </tr>\n",
              "  </tbody>\n",
              "</table>\n",
              "<p>1035 rows × 7 columns</p>\n",
              "</div>"
            ],
            "text/plain": [
              "                 DATETIME  STATION_ANTWERP  ...   TEST  RATIO_PARIS_ANTWERP\n",
              "0     2019-05-07 02:00:00              NaN  ...  1.882                  NaN\n",
              "1     2019-05-07 03:00:00             50.5  ...  1.882             0.495050\n",
              "2     2019-05-07 04:00:00             45.0  ...  1.882             0.615556\n",
              "3     2019-05-07 05:00:00              NaN  ...  1.882                  NaN\n",
              "4     2019-05-07 06:00:00              NaN  ...  1.882                  NaN\n",
              "...                   ...              ...  ...    ...                  ...\n",
              "1030  2019-06-20 22:00:00              NaN  ...  1.882                  NaN\n",
              "1031  2019-06-20 23:00:00              NaN  ...  1.882                  NaN\n",
              "1032  2019-06-21 00:00:00              NaN  ...  1.882                  NaN\n",
              "1033  2019-06-21 01:00:00              NaN  ...  1.882                  NaN\n",
              "1034  2019-06-21 02:00:00              NaN  ...  1.882                  NaN\n",
              "\n",
              "[1035 rows x 7 columns]"
            ]
          },
          "metadata": {},
          "execution_count": 21
        }
      ]
    },
    {
      "cell_type": "markdown",
      "metadata": {
        "id": "5c3lLXw9VFRC"
      },
      "source": [
        "# 특정 컬럼 삭제하기"
      ]
    },
    {
      "cell_type": "code",
      "metadata": {
        "colab": {
          "base_uri": "https://localhost:8080/",
          "height": 110
        },
        "id": "U48sOCtzV6u9",
        "outputId": "7c7d0071-2229-4762-e79a-a8a9c3cb23b6"
      },
      "source": [
        "df = air_quality.drop(['station_antwerp','station_london'],axis=1)\n",
        "df.head(2)"
      ],
      "execution_count": 23,
      "outputs": [
        {
          "output_type": "execute_result",
          "data": {
            "text/html": [
              "<div>\n",
              "<style scoped>\n",
              "    .dataframe tbody tr th:only-of-type {\n",
              "        vertical-align: middle;\n",
              "    }\n",
              "\n",
              "    .dataframe tbody tr th {\n",
              "        vertical-align: top;\n",
              "    }\n",
              "\n",
              "    .dataframe thead th {\n",
              "        text-align: right;\n",
              "    }\n",
              "</style>\n",
              "<table border=\"1\" class=\"dataframe\">\n",
              "  <thead>\n",
              "    <tr style=\"text-align: right;\">\n",
              "      <th></th>\n",
              "      <th>datetime</th>\n",
              "      <th>station_paris</th>\n",
              "      <th>london_mg_per_cubic</th>\n",
              "      <th>test</th>\n",
              "      <th>ratio_paris_antwerp</th>\n",
              "    </tr>\n",
              "  </thead>\n",
              "  <tbody>\n",
              "    <tr>\n",
              "      <th>0</th>\n",
              "      <td>2019-05-07 02:00:00</td>\n",
              "      <td>NaN</td>\n",
              "      <td>43.286</td>\n",
              "      <td>1.882</td>\n",
              "      <td>NaN</td>\n",
              "    </tr>\n",
              "    <tr>\n",
              "      <th>1</th>\n",
              "      <td>2019-05-07 03:00:00</td>\n",
              "      <td>25.0</td>\n",
              "      <td>35.758</td>\n",
              "      <td>1.882</td>\n",
              "      <td>0.49505</td>\n",
              "    </tr>\n",
              "  </tbody>\n",
              "</table>\n",
              "</div>"
            ],
            "text/plain": [
              "              datetime  station_paris  ...   test  ratio_paris_antwerp\n",
              "0  2019-05-07 02:00:00            NaN  ...  1.882                  NaN\n",
              "1  2019-05-07 03:00:00           25.0  ...  1.882              0.49505\n",
              "\n",
              "[2 rows x 5 columns]"
            ]
          },
          "metadata": {},
          "execution_count": 23
        }
      ]
    },
    {
      "cell_type": "markdown",
      "metadata": {
        "id": "59NT8SkBWUJ1"
      },
      "source": [
        "# 특정 로우 삭제하기"
      ]
    },
    {
      "cell_type": "code",
      "metadata": {
        "colab": {
          "base_uri": "https://localhost:8080/"
        },
        "id": "tLbTpn7WWaM5",
        "outputId": "16a9103f-c966-411a-aec2-24b5d5b554ec"
      },
      "source": [
        "air_quality.shape"
      ],
      "execution_count": 25,
      "outputs": [
        {
          "output_type": "execute_result",
          "data": {
            "text/plain": [
              "(1035, 7)"
            ]
          },
          "metadata": {},
          "execution_count": 25
        }
      ]
    },
    {
      "cell_type": "code",
      "metadata": {
        "id": "f3ZpzSASWb0v"
      },
      "source": [
        "df = air_quality.drop([0,1],axis=0) # 0,1인덱스를 가지는 것을 삭제하고 싶음, axis=0은 default니까 써도되고 안써도 됨 "
      ],
      "execution_count": 26,
      "outputs": []
    },
    {
      "cell_type": "code",
      "metadata": {
        "colab": {
          "base_uri": "https://localhost:8080/",
          "height": 414
        },
        "id": "Vo0U83SBWu6D",
        "outputId": "81c8d11e-438b-4d21-d8b8-f9d76fd3a169"
      },
      "source": [
        "df"
      ],
      "execution_count": 27,
      "outputs": [
        {
          "output_type": "execute_result",
          "data": {
            "text/html": [
              "<div>\n",
              "<style scoped>\n",
              "    .dataframe tbody tr th:only-of-type {\n",
              "        vertical-align: middle;\n",
              "    }\n",
              "\n",
              "    .dataframe tbody tr th {\n",
              "        vertical-align: top;\n",
              "    }\n",
              "\n",
              "    .dataframe thead th {\n",
              "        text-align: right;\n",
              "    }\n",
              "</style>\n",
              "<table border=\"1\" class=\"dataframe\">\n",
              "  <thead>\n",
              "    <tr style=\"text-align: right;\">\n",
              "      <th></th>\n",
              "      <th>datetime</th>\n",
              "      <th>station_antwerp</th>\n",
              "      <th>station_paris</th>\n",
              "      <th>station_london</th>\n",
              "      <th>london_mg_per_cubic</th>\n",
              "      <th>test</th>\n",
              "      <th>ratio_paris_antwerp</th>\n",
              "    </tr>\n",
              "  </thead>\n",
              "  <tbody>\n",
              "    <tr>\n",
              "      <th>2</th>\n",
              "      <td>2019-05-07 04:00:00</td>\n",
              "      <td>45.0</td>\n",
              "      <td>27.7</td>\n",
              "      <td>19.0</td>\n",
              "      <td>35.758</td>\n",
              "      <td>1.882</td>\n",
              "      <td>0.615556</td>\n",
              "    </tr>\n",
              "    <tr>\n",
              "      <th>3</th>\n",
              "      <td>2019-05-07 05:00:00</td>\n",
              "      <td>NaN</td>\n",
              "      <td>50.4</td>\n",
              "      <td>16.0</td>\n",
              "      <td>30.112</td>\n",
              "      <td>1.882</td>\n",
              "      <td>NaN</td>\n",
              "    </tr>\n",
              "    <tr>\n",
              "      <th>4</th>\n",
              "      <td>2019-05-07 06:00:00</td>\n",
              "      <td>NaN</td>\n",
              "      <td>61.9</td>\n",
              "      <td>NaN</td>\n",
              "      <td>NaN</td>\n",
              "      <td>1.882</td>\n",
              "      <td>NaN</td>\n",
              "    </tr>\n",
              "    <tr>\n",
              "      <th>5</th>\n",
              "      <td>2019-05-07 07:00:00</td>\n",
              "      <td>NaN</td>\n",
              "      <td>72.4</td>\n",
              "      <td>26.0</td>\n",
              "      <td>48.932</td>\n",
              "      <td>1.882</td>\n",
              "      <td>NaN</td>\n",
              "    </tr>\n",
              "    <tr>\n",
              "      <th>6</th>\n",
              "      <td>2019-05-07 08:00:00</td>\n",
              "      <td>NaN</td>\n",
              "      <td>77.7</td>\n",
              "      <td>32.0</td>\n",
              "      <td>60.224</td>\n",
              "      <td>1.882</td>\n",
              "      <td>NaN</td>\n",
              "    </tr>\n",
              "    <tr>\n",
              "      <th>...</th>\n",
              "      <td>...</td>\n",
              "      <td>...</td>\n",
              "      <td>...</td>\n",
              "      <td>...</td>\n",
              "      <td>...</td>\n",
              "      <td>...</td>\n",
              "      <td>...</td>\n",
              "    </tr>\n",
              "    <tr>\n",
              "      <th>1030</th>\n",
              "      <td>2019-06-20 22:00:00</td>\n",
              "      <td>NaN</td>\n",
              "      <td>21.4</td>\n",
              "      <td>NaN</td>\n",
              "      <td>NaN</td>\n",
              "      <td>1.882</td>\n",
              "      <td>NaN</td>\n",
              "    </tr>\n",
              "    <tr>\n",
              "      <th>1031</th>\n",
              "      <td>2019-06-20 23:00:00</td>\n",
              "      <td>NaN</td>\n",
              "      <td>24.9</td>\n",
              "      <td>NaN</td>\n",
              "      <td>NaN</td>\n",
              "      <td>1.882</td>\n",
              "      <td>NaN</td>\n",
              "    </tr>\n",
              "    <tr>\n",
              "      <th>1032</th>\n",
              "      <td>2019-06-21 00:00:00</td>\n",
              "      <td>NaN</td>\n",
              "      <td>26.5</td>\n",
              "      <td>NaN</td>\n",
              "      <td>NaN</td>\n",
              "      <td>1.882</td>\n",
              "      <td>NaN</td>\n",
              "    </tr>\n",
              "    <tr>\n",
              "      <th>1033</th>\n",
              "      <td>2019-06-21 01:00:00</td>\n",
              "      <td>NaN</td>\n",
              "      <td>21.8</td>\n",
              "      <td>NaN</td>\n",
              "      <td>NaN</td>\n",
              "      <td>1.882</td>\n",
              "      <td>NaN</td>\n",
              "    </tr>\n",
              "    <tr>\n",
              "      <th>1034</th>\n",
              "      <td>2019-06-21 02:00:00</td>\n",
              "      <td>NaN</td>\n",
              "      <td>20.0</td>\n",
              "      <td>NaN</td>\n",
              "      <td>NaN</td>\n",
              "      <td>1.882</td>\n",
              "      <td>NaN</td>\n",
              "    </tr>\n",
              "  </tbody>\n",
              "</table>\n",
              "<p>1033 rows × 7 columns</p>\n",
              "</div>"
            ],
            "text/plain": [
              "                 datetime  station_antwerp  ...   test  ratio_paris_antwerp\n",
              "2     2019-05-07 04:00:00             45.0  ...  1.882             0.615556\n",
              "3     2019-05-07 05:00:00              NaN  ...  1.882                  NaN\n",
              "4     2019-05-07 06:00:00              NaN  ...  1.882                  NaN\n",
              "5     2019-05-07 07:00:00              NaN  ...  1.882                  NaN\n",
              "6     2019-05-07 08:00:00              NaN  ...  1.882                  NaN\n",
              "...                   ...              ...  ...    ...                  ...\n",
              "1030  2019-06-20 22:00:00              NaN  ...  1.882                  NaN\n",
              "1031  2019-06-20 23:00:00              NaN  ...  1.882                  NaN\n",
              "1032  2019-06-21 00:00:00              NaN  ...  1.882                  NaN\n",
              "1033  2019-06-21 01:00:00              NaN  ...  1.882                  NaN\n",
              "1034  2019-06-21 02:00:00              NaN  ...  1.882                  NaN\n",
              "\n",
              "[1033 rows x 7 columns]"
            ]
          },
          "metadata": {},
          "execution_count": 27
        }
      ]
    },
    {
      "cell_type": "markdown",
      "metadata": {
        "id": "b1g-TGnhWwgP"
      },
      "source": [
        "# 중복 데이터 삭제하기"
      ]
    },
    {
      "cell_type": "code",
      "metadata": {
        "id": "i1DBBKsvW02F"
      },
      "source": [
        "df = air_quality.drop_duplicates()\n"
      ],
      "execution_count": 28,
      "outputs": []
    },
    {
      "cell_type": "code",
      "metadata": {
        "colab": {
          "base_uri": "https://localhost:8080/",
          "height": 141
        },
        "id": "dcT6Z9paW9X1",
        "outputId": "7ba6ebea-7da4-4ea5-9cce-c40ccd58e9ce"
      },
      "source": [
        "df_1 = pd.DataFrame({'one':[1,2,1], 'two':[0,0,0]})\n",
        "df_1"
      ],
      "execution_count": 29,
      "outputs": [
        {
          "output_type": "execute_result",
          "data": {
            "text/html": [
              "<div>\n",
              "<style scoped>\n",
              "    .dataframe tbody tr th:only-of-type {\n",
              "        vertical-align: middle;\n",
              "    }\n",
              "\n",
              "    .dataframe tbody tr th {\n",
              "        vertical-align: top;\n",
              "    }\n",
              "\n",
              "    .dataframe thead th {\n",
              "        text-align: right;\n",
              "    }\n",
              "</style>\n",
              "<table border=\"1\" class=\"dataframe\">\n",
              "  <thead>\n",
              "    <tr style=\"text-align: right;\">\n",
              "      <th></th>\n",
              "      <th>one</th>\n",
              "      <th>two</th>\n",
              "    </tr>\n",
              "  </thead>\n",
              "  <tbody>\n",
              "    <tr>\n",
              "      <th>0</th>\n",
              "      <td>1</td>\n",
              "      <td>0</td>\n",
              "    </tr>\n",
              "    <tr>\n",
              "      <th>1</th>\n",
              "      <td>2</td>\n",
              "      <td>0</td>\n",
              "    </tr>\n",
              "    <tr>\n",
              "      <th>2</th>\n",
              "      <td>1</td>\n",
              "      <td>0</td>\n",
              "    </tr>\n",
              "  </tbody>\n",
              "</table>\n",
              "</div>"
            ],
            "text/plain": [
              "   one  two\n",
              "0    1    0\n",
              "1    2    0\n",
              "2    1    0"
            ]
          },
          "metadata": {},
          "execution_count": 29
        }
      ]
    },
    {
      "cell_type": "code",
      "metadata": {
        "colab": {
          "base_uri": "https://localhost:8080/",
          "height": 110
        },
        "id": "U-4WJ1dgXN5K",
        "outputId": "c0798904-b345-41c1-f134-40bcfb593ffa"
      },
      "source": [
        "df_1.drop_duplicates()"
      ],
      "execution_count": 30,
      "outputs": [
        {
          "output_type": "execute_result",
          "data": {
            "text/html": [
              "<div>\n",
              "<style scoped>\n",
              "    .dataframe tbody tr th:only-of-type {\n",
              "        vertical-align: middle;\n",
              "    }\n",
              "\n",
              "    .dataframe tbody tr th {\n",
              "        vertical-align: top;\n",
              "    }\n",
              "\n",
              "    .dataframe thead th {\n",
              "        text-align: right;\n",
              "    }\n",
              "</style>\n",
              "<table border=\"1\" class=\"dataframe\">\n",
              "  <thead>\n",
              "    <tr style=\"text-align: right;\">\n",
              "      <th></th>\n",
              "      <th>one</th>\n",
              "      <th>two</th>\n",
              "    </tr>\n",
              "  </thead>\n",
              "  <tbody>\n",
              "    <tr>\n",
              "      <th>0</th>\n",
              "      <td>1</td>\n",
              "      <td>0</td>\n",
              "    </tr>\n",
              "    <tr>\n",
              "      <th>1</th>\n",
              "      <td>2</td>\n",
              "      <td>0</td>\n",
              "    </tr>\n",
              "  </tbody>\n",
              "</table>\n",
              "</div>"
            ],
            "text/plain": [
              "   one  two\n",
              "0    1    0\n",
              "1    2    0"
            ]
          },
          "metadata": {},
          "execution_count": 30
        }
      ]
    },
    {
      "cell_type": "code",
      "metadata": {
        "id": "gqxH6IeYXS0O"
      },
      "source": [
        ""
      ],
      "execution_count": null,
      "outputs": []
    }
  ]
}