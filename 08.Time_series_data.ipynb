{
  "nbformat": 4,
  "nbformat_minor": 0,
  "metadata": {
    "colab": {
      "name": "08.Time series data.ipynb",
      "provenance": [],
      "authorship_tag": "ABX9TyNQzgF40qARphVDX5Edj3Ra"
    },
    "kernelspec": {
      "name": "python3",
      "display_name": "Python 3"
    },
    "language_info": {
      "name": "python"
    }
  },
  "cells": [
    {
      "cell_type": "code",
      "metadata": {
        "id": "3tT8cvMrDJgc"
      },
      "source": [
        "import pandas as pd\n",
        "import matplotlib.pyplot as plt"
      ],
      "execution_count": 2,
      "outputs": []
    },
    {
      "cell_type": "code",
      "metadata": {
        "colab": {
          "base_uri": "https://localhost:8080/",
          "height": 110
        },
        "id": "45u4dfu8DNQP",
        "outputId": "d49d6935-8a38-4c98-82a5-404756957e0f"
      },
      "source": [
        "air_quality = pd.read_csv('https://raw.githubusercontent.com/pandas-dev/pandas/master/doc/data/air_quality_no2_long.csv')\n",
        "# air_quality = pd.read_csv('https://raw.githubusercontent.com/pandas-dev/pandas/master/doc/data/air_quality_no2_long.csv',parse_dates=['date.utc'])\n",
        "air_quality = air_quality.rename(columns={'date.utc':'datetime'})\n",
        "air_quality.head(2)"
      ],
      "execution_count": 3,
      "outputs": [
        {
          "output_type": "execute_result",
          "data": {
            "text/html": [
              "<div>\n",
              "<style scoped>\n",
              "    .dataframe tbody tr th:only-of-type {\n",
              "        vertical-align: middle;\n",
              "    }\n",
              "\n",
              "    .dataframe tbody tr th {\n",
              "        vertical-align: top;\n",
              "    }\n",
              "\n",
              "    .dataframe thead th {\n",
              "        text-align: right;\n",
              "    }\n",
              "</style>\n",
              "<table border=\"1\" class=\"dataframe\">\n",
              "  <thead>\n",
              "    <tr style=\"text-align: right;\">\n",
              "      <th></th>\n",
              "      <th>city</th>\n",
              "      <th>country</th>\n",
              "      <th>datetime</th>\n",
              "      <th>location</th>\n",
              "      <th>parameter</th>\n",
              "      <th>value</th>\n",
              "      <th>unit</th>\n",
              "    </tr>\n",
              "  </thead>\n",
              "  <tbody>\n",
              "    <tr>\n",
              "      <th>0</th>\n",
              "      <td>Paris</td>\n",
              "      <td>FR</td>\n",
              "      <td>2019-06-21 00:00:00+00:00</td>\n",
              "      <td>FR04014</td>\n",
              "      <td>no2</td>\n",
              "      <td>20.0</td>\n",
              "      <td>µg/m³</td>\n",
              "    </tr>\n",
              "    <tr>\n",
              "      <th>1</th>\n",
              "      <td>Paris</td>\n",
              "      <td>FR</td>\n",
              "      <td>2019-06-20 23:00:00+00:00</td>\n",
              "      <td>FR04014</td>\n",
              "      <td>no2</td>\n",
              "      <td>21.8</td>\n",
              "      <td>µg/m³</td>\n",
              "    </tr>\n",
              "  </tbody>\n",
              "</table>\n",
              "</div>"
            ],
            "text/plain": [
              "    city country                   datetime location parameter  value   unit\n",
              "0  Paris      FR  2019-06-21 00:00:00+00:00  FR04014       no2   20.0  µg/m³\n",
              "1  Paris      FR  2019-06-20 23:00:00+00:00  FR04014       no2   21.8  µg/m³"
            ]
          },
          "metadata": {},
          "execution_count": 3
        }
      ]
    },
    {
      "cell_type": "code",
      "metadata": {
        "colab": {
          "base_uri": "https://localhost:8080/"
        },
        "id": "lpJ-I-5LDgNu",
        "outputId": "1a00c11a-da54-4799-8938-cf2a4111be49"
      },
      "source": [
        "air_quality.info()"
      ],
      "execution_count": 4,
      "outputs": [
        {
          "output_type": "stream",
          "name": "stdout",
          "text": [
            "<class 'pandas.core.frame.DataFrame'>\n",
            "RangeIndex: 2068 entries, 0 to 2067\n",
            "Data columns (total 7 columns):\n",
            " #   Column     Non-Null Count  Dtype  \n",
            "---  ------     --------------  -----  \n",
            " 0   city       2068 non-null   object \n",
            " 1   country    2068 non-null   object \n",
            " 2   datetime   2068 non-null   object \n",
            " 3   location   2068 non-null   object \n",
            " 4   parameter  2068 non-null   object \n",
            " 5   value      2068 non-null   float64\n",
            " 6   unit       2068 non-null   object \n",
            "dtypes: float64(1), object(6)\n",
            "memory usage: 113.2+ KB\n"
          ]
        }
      ]
    },
    {
      "cell_type": "code",
      "metadata": {
        "id": "LsjAKjywDs5J"
      },
      "source": [
        "# object 타입을 datetime으로 바꿔줌\n",
        "# csv 불러올 때 parse_dates = True로 받아와도 됨\n",
        "air_quality['datetime']=pd.to_datetime(air_quality['datetime'])"
      ],
      "execution_count": 6,
      "outputs": []
    },
    {
      "cell_type": "markdown",
      "metadata": {
        "id": "KD7roU-0DzS8"
      },
      "source": [
        "# 날짜/시간 연산"
      ]
    },
    {
      "cell_type": "markdown",
      "metadata": {
        "id": "O7hOHgICElmp"
      },
      "source": [
        "Timedelta: 시간     \n",
        "Timestamp: 시각 (시점)"
      ]
    },
    {
      "cell_type": "code",
      "metadata": {
        "colab": {
          "base_uri": "https://localhost:8080/"
        },
        "id": "PCzc1zt9EX_h",
        "outputId": "5b04aed6-2476-4f63-87f3-786a9f908203"
      },
      "source": [
        "print(air_quality['datetime'].max())\n",
        "print(air_quality['datetime'].min())"
      ],
      "execution_count": 9,
      "outputs": [
        {
          "output_type": "stream",
          "name": "stdout",
          "text": [
            "2019-06-21 00:00:00+00:00\n",
            "2019-05-07 01:00:00+00:00\n"
          ]
        }
      ]
    },
    {
      "cell_type": "code",
      "metadata": {
        "colab": {
          "base_uri": "https://localhost:8080/"
        },
        "id": "-uMJVMclEaVb",
        "outputId": "1f9c2d7c-b5c5-4452-a68d-ed10a051046f"
      },
      "source": [
        "air_quality['datetime'].max()-air_quality['datetime'].min()"
      ],
      "execution_count": 10,
      "outputs": [
        {
          "output_type": "execute_result",
          "data": {
            "text/plain": [
              "Timedelta('44 days 23:00:00')"
            ]
          },
          "metadata": {},
          "execution_count": 10
        }
      ]
    },
    {
      "cell_type": "markdown",
      "metadata": {
        "id": "EvRVE5xiFC0u"
      },
      "source": [
        "# Timestamp에서 원하는 데이터 추출"
      ]
    },
    {
      "cell_type": "code",
      "metadata": {
        "colab": {
          "base_uri": "https://localhost:8080/",
          "height": 110
        },
        "id": "c9Nr6OweFnyt",
        "outputId": "6fdee064-f5a6-437c-c33b-807d0396af71"
      },
      "source": [
        "air_quality['month'] = air_quality['datetime'].dt.month\n",
        "air_quality[['month','datetime']].head(2)"
      ],
      "execution_count": 12,
      "outputs": [
        {
          "output_type": "execute_result",
          "data": {
            "text/html": [
              "<div>\n",
              "<style scoped>\n",
              "    .dataframe tbody tr th:only-of-type {\n",
              "        vertical-align: middle;\n",
              "    }\n",
              "\n",
              "    .dataframe tbody tr th {\n",
              "        vertical-align: top;\n",
              "    }\n",
              "\n",
              "    .dataframe thead th {\n",
              "        text-align: right;\n",
              "    }\n",
              "</style>\n",
              "<table border=\"1\" class=\"dataframe\">\n",
              "  <thead>\n",
              "    <tr style=\"text-align: right;\">\n",
              "      <th></th>\n",
              "      <th>month</th>\n",
              "      <th>datetime</th>\n",
              "    </tr>\n",
              "  </thead>\n",
              "  <tbody>\n",
              "    <tr>\n",
              "      <th>0</th>\n",
              "      <td>6</td>\n",
              "      <td>2019-06-21 00:00:00+00:00</td>\n",
              "    </tr>\n",
              "    <tr>\n",
              "      <th>1</th>\n",
              "      <td>6</td>\n",
              "      <td>2019-06-20 23:00:00+00:00</td>\n",
              "    </tr>\n",
              "  </tbody>\n",
              "</table>\n",
              "</div>"
            ],
            "text/plain": [
              "   month                  datetime\n",
              "0      6 2019-06-21 00:00:00+00:00\n",
              "1      6 2019-06-20 23:00:00+00:00"
            ]
          },
          "metadata": {},
          "execution_count": 12
        }
      ]
    },
    {
      "cell_type": "code",
      "metadata": {
        "colab": {
          "base_uri": "https://localhost:8080/"
        },
        "id": "9g7o-OE6FvJG",
        "outputId": "19348bbe-44f5-4c3d-a7dd-1819f2f543cf"
      },
      "source": [
        "air_quality['year'] = air_quality['datetime'].dt.year\n",
        "air_quality['weekofyear'] = air_quality['datetime'].dt.weekofyear\n",
        "air_quality['quarter'] = air_quality['datetime'].dt.quarter\n",
        "air_quality['hour'] = air_quality['datetime'].dt.hour\n",
        "air_quality['weekday'] = air_quality['datetime'].dt.weekday"
      ],
      "execution_count": 13,
      "outputs": [
        {
          "output_type": "stream",
          "name": "stderr",
          "text": [
            "/usr/local/lib/python3.7/dist-packages/ipykernel_launcher.py:2: FutureWarning: Series.dt.weekofyear and Series.dt.week have been deprecated.  Please use Series.dt.isocalendar().week instead.\n",
            "  \n"
          ]
        }
      ]
    },
    {
      "cell_type": "code",
      "metadata": {
        "colab": {
          "base_uri": "https://localhost:8080/",
          "height": 110
        },
        "id": "EjW53jNNGQOE",
        "outputId": "cc655fe0-bb61-4426-c1ca-7ec14d59c1eb"
      },
      "source": [
        "air_quality[['datetime','year','month','weekofyear','quarter','hour','weekday']].head(2)"
      ],
      "execution_count": 14,
      "outputs": [
        {
          "output_type": "execute_result",
          "data": {
            "text/html": [
              "<div>\n",
              "<style scoped>\n",
              "    .dataframe tbody tr th:only-of-type {\n",
              "        vertical-align: middle;\n",
              "    }\n",
              "\n",
              "    .dataframe tbody tr th {\n",
              "        vertical-align: top;\n",
              "    }\n",
              "\n",
              "    .dataframe thead th {\n",
              "        text-align: right;\n",
              "    }\n",
              "</style>\n",
              "<table border=\"1\" class=\"dataframe\">\n",
              "  <thead>\n",
              "    <tr style=\"text-align: right;\">\n",
              "      <th></th>\n",
              "      <th>datetime</th>\n",
              "      <th>year</th>\n",
              "      <th>month</th>\n",
              "      <th>weekofyear</th>\n",
              "      <th>quarter</th>\n",
              "      <th>hour</th>\n",
              "      <th>weekday</th>\n",
              "    </tr>\n",
              "  </thead>\n",
              "  <tbody>\n",
              "    <tr>\n",
              "      <th>0</th>\n",
              "      <td>2019-06-21 00:00:00+00:00</td>\n",
              "      <td>2019</td>\n",
              "      <td>6</td>\n",
              "      <td>25</td>\n",
              "      <td>2</td>\n",
              "      <td>0</td>\n",
              "      <td>4</td>\n",
              "    </tr>\n",
              "    <tr>\n",
              "      <th>1</th>\n",
              "      <td>2019-06-20 23:00:00+00:00</td>\n",
              "      <td>2019</td>\n",
              "      <td>6</td>\n",
              "      <td>25</td>\n",
              "      <td>2</td>\n",
              "      <td>23</td>\n",
              "      <td>3</td>\n",
              "    </tr>\n",
              "  </tbody>\n",
              "</table>\n",
              "</div>"
            ],
            "text/plain": [
              "                   datetime  year  month  weekofyear  quarter  hour  weekday\n",
              "0 2019-06-21 00:00:00+00:00  2019      6          25        2     0        4\n",
              "1 2019-06-20 23:00:00+00:00  2019      6          25        2    23        3"
            ]
          },
          "metadata": {},
          "execution_count": 14
        }
      ]
    },
    {
      "cell_type": "code",
      "metadata": {
        "colab": {
          "base_uri": "https://localhost:8080/",
          "height": 414
        },
        "id": "3D92HISFGiG9",
        "outputId": "79fa7edc-b6b1-4934-d2c4-ed0d838997a9"
      },
      "source": [
        "air_quality"
      ],
      "execution_count": 15,
      "outputs": [
        {
          "output_type": "execute_result",
          "data": {
            "text/html": [
              "<div>\n",
              "<style scoped>\n",
              "    .dataframe tbody tr th:only-of-type {\n",
              "        vertical-align: middle;\n",
              "    }\n",
              "\n",
              "    .dataframe tbody tr th {\n",
              "        vertical-align: top;\n",
              "    }\n",
              "\n",
              "    .dataframe thead th {\n",
              "        text-align: right;\n",
              "    }\n",
              "</style>\n",
              "<table border=\"1\" class=\"dataframe\">\n",
              "  <thead>\n",
              "    <tr style=\"text-align: right;\">\n",
              "      <th></th>\n",
              "      <th>city</th>\n",
              "      <th>country</th>\n",
              "      <th>datetime</th>\n",
              "      <th>location</th>\n",
              "      <th>parameter</th>\n",
              "      <th>value</th>\n",
              "      <th>unit</th>\n",
              "      <th>month</th>\n",
              "      <th>year</th>\n",
              "      <th>weekofyear</th>\n",
              "      <th>quarter</th>\n",
              "      <th>hour</th>\n",
              "      <th>weekday</th>\n",
              "    </tr>\n",
              "  </thead>\n",
              "  <tbody>\n",
              "    <tr>\n",
              "      <th>0</th>\n",
              "      <td>Paris</td>\n",
              "      <td>FR</td>\n",
              "      <td>2019-06-21 00:00:00+00:00</td>\n",
              "      <td>FR04014</td>\n",
              "      <td>no2</td>\n",
              "      <td>20.0</td>\n",
              "      <td>µg/m³</td>\n",
              "      <td>6</td>\n",
              "      <td>2019</td>\n",
              "      <td>25</td>\n",
              "      <td>2</td>\n",
              "      <td>0</td>\n",
              "      <td>4</td>\n",
              "    </tr>\n",
              "    <tr>\n",
              "      <th>1</th>\n",
              "      <td>Paris</td>\n",
              "      <td>FR</td>\n",
              "      <td>2019-06-20 23:00:00+00:00</td>\n",
              "      <td>FR04014</td>\n",
              "      <td>no2</td>\n",
              "      <td>21.8</td>\n",
              "      <td>µg/m³</td>\n",
              "      <td>6</td>\n",
              "      <td>2019</td>\n",
              "      <td>25</td>\n",
              "      <td>2</td>\n",
              "      <td>23</td>\n",
              "      <td>3</td>\n",
              "    </tr>\n",
              "    <tr>\n",
              "      <th>2</th>\n",
              "      <td>Paris</td>\n",
              "      <td>FR</td>\n",
              "      <td>2019-06-20 22:00:00+00:00</td>\n",
              "      <td>FR04014</td>\n",
              "      <td>no2</td>\n",
              "      <td>26.5</td>\n",
              "      <td>µg/m³</td>\n",
              "      <td>6</td>\n",
              "      <td>2019</td>\n",
              "      <td>25</td>\n",
              "      <td>2</td>\n",
              "      <td>22</td>\n",
              "      <td>3</td>\n",
              "    </tr>\n",
              "    <tr>\n",
              "      <th>3</th>\n",
              "      <td>Paris</td>\n",
              "      <td>FR</td>\n",
              "      <td>2019-06-20 21:00:00+00:00</td>\n",
              "      <td>FR04014</td>\n",
              "      <td>no2</td>\n",
              "      <td>24.9</td>\n",
              "      <td>µg/m³</td>\n",
              "      <td>6</td>\n",
              "      <td>2019</td>\n",
              "      <td>25</td>\n",
              "      <td>2</td>\n",
              "      <td>21</td>\n",
              "      <td>3</td>\n",
              "    </tr>\n",
              "    <tr>\n",
              "      <th>4</th>\n",
              "      <td>Paris</td>\n",
              "      <td>FR</td>\n",
              "      <td>2019-06-20 20:00:00+00:00</td>\n",
              "      <td>FR04014</td>\n",
              "      <td>no2</td>\n",
              "      <td>21.4</td>\n",
              "      <td>µg/m³</td>\n",
              "      <td>6</td>\n",
              "      <td>2019</td>\n",
              "      <td>25</td>\n",
              "      <td>2</td>\n",
              "      <td>20</td>\n",
              "      <td>3</td>\n",
              "    </tr>\n",
              "    <tr>\n",
              "      <th>...</th>\n",
              "      <td>...</td>\n",
              "      <td>...</td>\n",
              "      <td>...</td>\n",
              "      <td>...</td>\n",
              "      <td>...</td>\n",
              "      <td>...</td>\n",
              "      <td>...</td>\n",
              "      <td>...</td>\n",
              "      <td>...</td>\n",
              "      <td>...</td>\n",
              "      <td>...</td>\n",
              "      <td>...</td>\n",
              "      <td>...</td>\n",
              "    </tr>\n",
              "    <tr>\n",
              "      <th>2063</th>\n",
              "      <td>London</td>\n",
              "      <td>GB</td>\n",
              "      <td>2019-05-07 06:00:00+00:00</td>\n",
              "      <td>London Westminster</td>\n",
              "      <td>no2</td>\n",
              "      <td>26.0</td>\n",
              "      <td>µg/m³</td>\n",
              "      <td>5</td>\n",
              "      <td>2019</td>\n",
              "      <td>19</td>\n",
              "      <td>2</td>\n",
              "      <td>6</td>\n",
              "      <td>1</td>\n",
              "    </tr>\n",
              "    <tr>\n",
              "      <th>2064</th>\n",
              "      <td>London</td>\n",
              "      <td>GB</td>\n",
              "      <td>2019-05-07 04:00:00+00:00</td>\n",
              "      <td>London Westminster</td>\n",
              "      <td>no2</td>\n",
              "      <td>16.0</td>\n",
              "      <td>µg/m³</td>\n",
              "      <td>5</td>\n",
              "      <td>2019</td>\n",
              "      <td>19</td>\n",
              "      <td>2</td>\n",
              "      <td>4</td>\n",
              "      <td>1</td>\n",
              "    </tr>\n",
              "    <tr>\n",
              "      <th>2065</th>\n",
              "      <td>London</td>\n",
              "      <td>GB</td>\n",
              "      <td>2019-05-07 03:00:00+00:00</td>\n",
              "      <td>London Westminster</td>\n",
              "      <td>no2</td>\n",
              "      <td>19.0</td>\n",
              "      <td>µg/m³</td>\n",
              "      <td>5</td>\n",
              "      <td>2019</td>\n",
              "      <td>19</td>\n",
              "      <td>2</td>\n",
              "      <td>3</td>\n",
              "      <td>1</td>\n",
              "    </tr>\n",
              "    <tr>\n",
              "      <th>2066</th>\n",
              "      <td>London</td>\n",
              "      <td>GB</td>\n",
              "      <td>2019-05-07 02:00:00+00:00</td>\n",
              "      <td>London Westminster</td>\n",
              "      <td>no2</td>\n",
              "      <td>19.0</td>\n",
              "      <td>µg/m³</td>\n",
              "      <td>5</td>\n",
              "      <td>2019</td>\n",
              "      <td>19</td>\n",
              "      <td>2</td>\n",
              "      <td>2</td>\n",
              "      <td>1</td>\n",
              "    </tr>\n",
              "    <tr>\n",
              "      <th>2067</th>\n",
              "      <td>London</td>\n",
              "      <td>GB</td>\n",
              "      <td>2019-05-07 01:00:00+00:00</td>\n",
              "      <td>London Westminster</td>\n",
              "      <td>no2</td>\n",
              "      <td>23.0</td>\n",
              "      <td>µg/m³</td>\n",
              "      <td>5</td>\n",
              "      <td>2019</td>\n",
              "      <td>19</td>\n",
              "      <td>2</td>\n",
              "      <td>1</td>\n",
              "      <td>1</td>\n",
              "    </tr>\n",
              "  </tbody>\n",
              "</table>\n",
              "<p>2068 rows × 13 columns</p>\n",
              "</div>"
            ],
            "text/plain": [
              "        city country                  datetime  ... quarter hour  weekday\n",
              "0      Paris      FR 2019-06-21 00:00:00+00:00  ...       2    0        4\n",
              "1      Paris      FR 2019-06-20 23:00:00+00:00  ...       2   23        3\n",
              "2      Paris      FR 2019-06-20 22:00:00+00:00  ...       2   22        3\n",
              "3      Paris      FR 2019-06-20 21:00:00+00:00  ...       2   21        3\n",
              "4      Paris      FR 2019-06-20 20:00:00+00:00  ...       2   20        3\n",
              "...      ...     ...                       ...  ...     ...  ...      ...\n",
              "2063  London      GB 2019-05-07 06:00:00+00:00  ...       2    6        1\n",
              "2064  London      GB 2019-05-07 04:00:00+00:00  ...       2    4        1\n",
              "2065  London      GB 2019-05-07 03:00:00+00:00  ...       2    3        1\n",
              "2066  London      GB 2019-05-07 02:00:00+00:00  ...       2    2        1\n",
              "2067  London      GB 2019-05-07 01:00:00+00:00  ...       2    1        1\n",
              "\n",
              "[2068 rows x 13 columns]"
            ]
          },
          "metadata": {},
          "execution_count": 15
        }
      ]
    },
    {
      "cell_type": "code",
      "metadata": {
        "colab": {
          "base_uri": "https://localhost:8080/"
        },
        "id": "OTtE3ow5Gkkp",
        "outputId": "3668aba6-ceb2-4f45-dc50-4189bd79cab3"
      },
      "source": [
        "# 요일별 평균 보고싶을때\n",
        "\n",
        "air_quality.groupby(['weekday','location'])['value'].mean()"
      ],
      "execution_count": 16,
      "outputs": [
        {
          "output_type": "execute_result",
          "data": {
            "text/plain": [
              "weekday  location          \n",
              "0        BETR801               27.875000\n",
              "         FR04014               24.856250\n",
              "         London Westminster    23.969697\n",
              "1        BETR801               22.214286\n",
              "         FR04014               30.999359\n",
              "         London Westminster    24.885714\n",
              "2        BETR801               21.125000\n",
              "         FR04014               29.165753\n",
              "         London Westminster    23.460432\n",
              "3        BETR801               27.500000\n",
              "         FR04014               28.600690\n",
              "         London Westminster    24.780142\n",
              "4        BETR801               28.400000\n",
              "         FR04014               31.617986\n",
              "         London Westminster    26.446809\n",
              "5        BETR801               33.500000\n",
              "         FR04014               25.266154\n",
              "         London Westminster    24.977612\n",
              "6        BETR801               21.896552\n",
              "         FR04014               23.274306\n",
              "         London Westminster    24.859155\n",
              "Name: value, dtype: float64"
            ]
          },
          "metadata": {},
          "execution_count": 16
        }
      ]
    },
    {
      "cell_type": "code",
      "metadata": {
        "colab": {
          "base_uri": "https://localhost:8080/"
        },
        "id": "LriRNnVOGxJh",
        "outputId": "e9680c8e-1b81-45c5-c142-06dbb393c23a"
      },
      "source": [
        "#시간대 변화에 따른 변화 보고싶을 때\n",
        "air_quality.groupby('hour')['value'].mean()"
      ],
      "execution_count": 17,
      "outputs": [
        {
          "output_type": "execute_result",
          "data": {
            "text/plain": [
              "hour\n",
              "0     27.955294\n",
              "1     26.125688\n",
              "2     23.558511\n",
              "3     23.242683\n",
              "4     22.979518\n",
              "5     27.070732\n",
              "6     30.635632\n",
              "7     31.346591\n",
              "8     29.138636\n",
              "9     26.071591\n",
              "10    22.602326\n",
              "11    21.275294\n",
              "12    21.029762\n",
              "13    21.008235\n",
              "14    21.737647\n",
              "15    23.840000\n",
              "16    24.972619\n",
              "17    26.691667\n",
              "18    27.089412\n",
              "19    28.143529\n",
              "20    29.372941\n",
              "21    30.973256\n",
              "22    32.451282\n",
              "23    31.189412\n",
              "Name: value, dtype: float64"
            ]
          },
          "metadata": {},
          "execution_count": 17
        }
      ]
    },
    {
      "cell_type": "code",
      "metadata": {
        "colab": {
          "base_uri": "https://localhost:8080/",
          "height": 296
        },
        "id": "xTkhbSguG1yi",
        "outputId": "79c15073-b27d-41bb-93a8-6a2c713cb64f"
      },
      "source": [
        "fig,axs = plt.subplots(figsize=(12,4))\n",
        "air_quality.groupby('hour')['value'].mean().plot(kind='bar',ax=axs,rot=0)  # rot : x축 숫자 세워줌\n",
        "axs.set_xlabel('Hours of the day')"
      ],
      "execution_count": 21,
      "outputs": [
        {
          "output_type": "execute_result",
          "data": {
            "text/plain": [
              "Text(0.5, 0, 'Hours of the day')"
            ]
          },
          "metadata": {},
          "execution_count": 21
        },
        {
          "output_type": "display_data",
          "data": {
            "image/png": "[encoded data removed]",
            "text/plain": [
              "<Figure size 864x288 with 1 Axes>"
            ]
          },
          "metadata": {
            "needs_background": "light"
          }
        }
      ]
    },
    {
      "cell_type": "markdown",
      "metadata": {
        "id": "0ZLHyrSXG40u"
      },
      "source": [
        "# Datetime as Index"
      ]
    },
    {
      "cell_type": "code",
      "metadata": {
        "colab": {
          "base_uri": "https://localhost:8080/"
        },
        "id": "KKcK7GGXH1L9",
        "outputId": "233e1824-31b1-405e-bdee-d540b84228fa"
      },
      "source": [
        "no2 = air_quality.pivot(index='datetime',columns='location',values='value')\n",
        "no2.info()"
      ],
      "execution_count": 23,
      "outputs": [
        {
          "output_type": "stream",
          "name": "stdout",
          "text": [
            "<class 'pandas.core.frame.DataFrame'>\n",
            "DatetimeIndex: 1033 entries, 2019-05-07 01:00:00+00:00 to 2019-06-21 00:00:00+00:00\n",
            "Data columns (total 3 columns):\n",
            " #   Column              Non-Null Count  Dtype  \n",
            "---  ------              --------------  -----  \n",
            " 0   BETR801             95 non-null     float64\n",
            " 1   FR04014             1004 non-null   float64\n",
            " 2   London Westminster  969 non-null    float64\n",
            "dtypes: float64(3)\n",
            "memory usage: 32.3 KB\n"
          ]
        }
      ]
    },
    {
      "cell_type": "code",
      "metadata": {
        "colab": {
          "base_uri": "https://localhost:8080/"
        },
        "id": "zPGTlmfGH-y6",
        "outputId": "92c4511b-7b48-47a7-b8d3-7cb6b9027ef0"
      },
      "source": [
        "no2.index"
      ],
      "execution_count": 24,
      "outputs": [
        {
          "output_type": "execute_result",
          "data": {
            "text/plain": [
              "DatetimeIndex(['2019-05-07 01:00:00+00:00', '2019-05-07 02:00:00+00:00',\n",
              "               '2019-05-07 03:00:00+00:00', '2019-05-07 04:00:00+00:00',\n",
              "               '2019-05-07 05:00:00+00:00', '2019-05-07 06:00:00+00:00',\n",
              "               '2019-05-07 07:00:00+00:00', '2019-05-07 08:00:00+00:00',\n",
              "               '2019-05-07 09:00:00+00:00', '2019-05-07 10:00:00+00:00',\n",
              "               ...\n",
              "               '2019-06-20 15:00:00+00:00', '2019-06-20 16:00:00+00:00',\n",
              "               '2019-06-20 17:00:00+00:00', '2019-06-20 18:00:00+00:00',\n",
              "               '2019-06-20 19:00:00+00:00', '2019-06-20 20:00:00+00:00',\n",
              "               '2019-06-20 21:00:00+00:00', '2019-06-20 22:00:00+00:00',\n",
              "               '2019-06-20 23:00:00+00:00', '2019-06-21 00:00:00+00:00'],\n",
              "              dtype='datetime64[ns, UTC]', name='datetime', length=1033, freq=None)"
            ]
          },
          "metadata": {},
          "execution_count": 24
        }
      ]
    },
    {
      "cell_type": "code",
      "metadata": {
        "colab": {
          "base_uri": "https://localhost:8080/"
        },
        "id": "I6hZlygUIGI4",
        "outputId": "ca1ed39c-047c-41fd-cf30-5154f3ac2c16"
      },
      "source": [
        "no2.index.year"
      ],
      "execution_count": 26,
      "outputs": [
        {
          "output_type": "execute_result",
          "data": {
            "text/plain": [
              "Int64Index([2019, 2019, 2019, 2019, 2019, 2019, 2019, 2019, 2019, 2019,\n",
              "            ...\n",
              "            2019, 2019, 2019, 2019, 2019, 2019, 2019, 2019, 2019, 2019],\n",
              "           dtype='int64', name='datetime', length=1033)"
            ]
          },
          "metadata": {},
          "execution_count": 26
        }
      ]
    },
    {
      "cell_type": "code",
      "metadata": {
        "colab": {
          "base_uri": "https://localhost:8080/"
        },
        "id": "wNYtfO5_IITv",
        "outputId": "ea4c8a8f-eb4e-49a7-9aca-29e448885cca"
      },
      "source": [
        "no2.index.weekday"
      ],
      "execution_count": 27,
      "outputs": [
        {
          "output_type": "execute_result",
          "data": {
            "text/plain": [
              "Int64Index([1, 1, 1, 1, 1, 1, 1, 1, 1, 1,\n",
              "            ...\n",
              "            3, 3, 3, 3, 3, 3, 3, 3, 3, 4],\n",
              "           dtype='int64', name='datetime', length=1033)"
            ]
          },
          "metadata": {},
          "execution_count": 27
        }
      ]
    },
    {
      "cell_type": "code",
      "metadata": {
        "colab": {
          "base_uri": "https://localhost:8080/",
          "height": 141
        },
        "id": "n9j_AtAmILko",
        "outputId": "3f972946-71e9-40a2-c454-07ecfb9bd283"
      },
      "source": [
        "air_quality[0:3]"
      ],
      "execution_count": 28,
      "outputs": [
        {
          "output_type": "execute_result",
          "data": {
            "text/html": [
              "<div>\n",
              "<style scoped>\n",
              "    .dataframe tbody tr th:only-of-type {\n",
              "        vertical-align: middle;\n",
              "    }\n",
              "\n",
              "    .dataframe tbody tr th {\n",
              "        vertical-align: top;\n",
              "    }\n",
              "\n",
              "    .dataframe thead th {\n",
              "        text-align: right;\n",
              "    }\n",
              "</style>\n",
              "<table border=\"1\" class=\"dataframe\">\n",
              "  <thead>\n",
              "    <tr style=\"text-align: right;\">\n",
              "      <th></th>\n",
              "      <th>city</th>\n",
              "      <th>country</th>\n",
              "      <th>datetime</th>\n",
              "      <th>location</th>\n",
              "      <th>parameter</th>\n",
              "      <th>value</th>\n",
              "      <th>unit</th>\n",
              "      <th>month</th>\n",
              "      <th>year</th>\n",
              "      <th>weekofyear</th>\n",
              "      <th>quarter</th>\n",
              "      <th>hour</th>\n",
              "      <th>weekday</th>\n",
              "    </tr>\n",
              "  </thead>\n",
              "  <tbody>\n",
              "    <tr>\n",
              "      <th>0</th>\n",
              "      <td>Paris</td>\n",
              "      <td>FR</td>\n",
              "      <td>2019-06-21 00:00:00+00:00</td>\n",
              "      <td>FR04014</td>\n",
              "      <td>no2</td>\n",
              "      <td>20.0</td>\n",
              "      <td>µg/m³</td>\n",
              "      <td>6</td>\n",
              "      <td>2019</td>\n",
              "      <td>25</td>\n",
              "      <td>2</td>\n",
              "      <td>0</td>\n",
              "      <td>4</td>\n",
              "    </tr>\n",
              "    <tr>\n",
              "      <th>1</th>\n",
              "      <td>Paris</td>\n",
              "      <td>FR</td>\n",
              "      <td>2019-06-20 23:00:00+00:00</td>\n",
              "      <td>FR04014</td>\n",
              "      <td>no2</td>\n",
              "      <td>21.8</td>\n",
              "      <td>µg/m³</td>\n",
              "      <td>6</td>\n",
              "      <td>2019</td>\n",
              "      <td>25</td>\n",
              "      <td>2</td>\n",
              "      <td>23</td>\n",
              "      <td>3</td>\n",
              "    </tr>\n",
              "    <tr>\n",
              "      <th>2</th>\n",
              "      <td>Paris</td>\n",
              "      <td>FR</td>\n",
              "      <td>2019-06-20 22:00:00+00:00</td>\n",
              "      <td>FR04014</td>\n",
              "      <td>no2</td>\n",
              "      <td>26.5</td>\n",
              "      <td>µg/m³</td>\n",
              "      <td>6</td>\n",
              "      <td>2019</td>\n",
              "      <td>25</td>\n",
              "      <td>2</td>\n",
              "      <td>22</td>\n",
              "      <td>3</td>\n",
              "    </tr>\n",
              "  </tbody>\n",
              "</table>\n",
              "</div>"
            ],
            "text/plain": [
              "    city country                  datetime  ... quarter hour  weekday\n",
              "0  Paris      FR 2019-06-21 00:00:00+00:00  ...       2    0        4\n",
              "1  Paris      FR 2019-06-20 23:00:00+00:00  ...       2   23        3\n",
              "2  Paris      FR 2019-06-20 22:00:00+00:00  ...       2   22        3\n",
              "\n",
              "[3 rows x 13 columns]"
            ]
          },
          "metadata": {},
          "execution_count": 28
        }
      ]
    },
    {
      "cell_type": "code",
      "metadata": {
        "colab": {
          "base_uri": "https://localhost:8080/",
          "height": 1000
        },
        "id": "r7tnTK68IQMV",
        "outputId": "ac3ed7a2-8f3a-4bd7-e7ec-a2d0caf704da"
      },
      "source": [
        "no2['2019-05-20':'2019-05-21']"
      ],
      "execution_count": 29,
      "outputs": [
        {
          "output_type": "execute_result",
          "data": {
            "text/html": [
              "<div>\n",
              "<style scoped>\n",
              "    .dataframe tbody tr th:only-of-type {\n",
              "        vertical-align: middle;\n",
              "    }\n",
              "\n",
              "    .dataframe tbody tr th {\n",
              "        vertical-align: top;\n",
              "    }\n",
              "\n",
              "    .dataframe thead th {\n",
              "        text-align: right;\n",
              "    }\n",
              "</style>\n",
              "<table border=\"1\" class=\"dataframe\">\n",
              "  <thead>\n",
              "    <tr style=\"text-align: right;\">\n",
              "      <th>location</th>\n",
              "      <th>BETR801</th>\n",
              "      <th>FR04014</th>\n",
              "      <th>London Westminster</th>\n",
              "    </tr>\n",
              "    <tr>\n",
              "      <th>datetime</th>\n",
              "      <th></th>\n",
              "      <th></th>\n",
              "      <th></th>\n",
              "    </tr>\n",
              "  </thead>\n",
              "  <tbody>\n",
              "    <tr>\n",
              "      <th>2019-05-20 00:00:00+00:00</th>\n",
              "      <td>26.0</td>\n",
              "      <td>16.4</td>\n",
              "      <td>28.0</td>\n",
              "    </tr>\n",
              "    <tr>\n",
              "      <th>2019-05-20 01:00:00+00:00</th>\n",
              "      <td>17.0</td>\n",
              "      <td>12.8</td>\n",
              "      <td>28.0</td>\n",
              "    </tr>\n",
              "    <tr>\n",
              "      <th>2019-05-20 02:00:00+00:00</th>\n",
              "      <td>10.5</td>\n",
              "      <td>12.1</td>\n",
              "      <td>32.0</td>\n",
              "    </tr>\n",
              "    <tr>\n",
              "      <th>2019-05-20 03:00:00+00:00</th>\n",
              "      <td>9.0</td>\n",
              "      <td>12.6</td>\n",
              "      <td>32.0</td>\n",
              "    </tr>\n",
              "    <tr>\n",
              "      <th>2019-05-20 04:00:00+00:00</th>\n",
              "      <td>14.0</td>\n",
              "      <td>14.9</td>\n",
              "      <td>26.0</td>\n",
              "    </tr>\n",
              "    <tr>\n",
              "      <th>2019-05-20 05:00:00+00:00</th>\n",
              "      <td>20.0</td>\n",
              "      <td>25.2</td>\n",
              "      <td>26.0</td>\n",
              "    </tr>\n",
              "    <tr>\n",
              "      <th>2019-05-20 06:00:00+00:00</th>\n",
              "      <td>26.0</td>\n",
              "      <td>40.1</td>\n",
              "      <td>31.0</td>\n",
              "    </tr>\n",
              "    <tr>\n",
              "      <th>2019-05-20 07:00:00+00:00</th>\n",
              "      <td>38.0</td>\n",
              "      <td>46.9</td>\n",
              "      <td>31.0</td>\n",
              "    </tr>\n",
              "    <tr>\n",
              "      <th>2019-05-20 08:00:00+00:00</th>\n",
              "      <td>40.0</td>\n",
              "      <td>46.1</td>\n",
              "      <td>29.0</td>\n",
              "    </tr>\n",
              "    <tr>\n",
              "      <th>2019-05-20 09:00:00+00:00</th>\n",
              "      <td>30.5</td>\n",
              "      <td>45.5</td>\n",
              "      <td>29.0</td>\n",
              "    </tr>\n",
              "    <tr>\n",
              "      <th>2019-05-20 10:00:00+00:00</th>\n",
              "      <td>25.0</td>\n",
              "      <td>43.9</td>\n",
              "      <td>28.0</td>\n",
              "    </tr>\n",
              "    <tr>\n",
              "      <th>2019-05-20 11:00:00+00:00</th>\n",
              "      <td>25.0</td>\n",
              "      <td>35.4</td>\n",
              "      <td>28.0</td>\n",
              "    </tr>\n",
              "    <tr>\n",
              "      <th>2019-05-20 12:00:00+00:00</th>\n",
              "      <td>34.5</td>\n",
              "      <td>23.8</td>\n",
              "      <td>28.0</td>\n",
              "    </tr>\n",
              "    <tr>\n",
              "      <th>2019-05-20 13:00:00+00:00</th>\n",
              "      <td>32.0</td>\n",
              "      <td>23.7</td>\n",
              "      <td>29.0</td>\n",
              "    </tr>\n",
              "    <tr>\n",
              "      <th>2019-05-20 14:00:00+00:00</th>\n",
              "      <td>24.5</td>\n",
              "      <td>27.5</td>\n",
              "      <td>32.0</td>\n",
              "    </tr>\n",
              "    <tr>\n",
              "      <th>2019-05-20 15:00:00+00:00</th>\n",
              "      <td>25.5</td>\n",
              "      <td>26.5</td>\n",
              "      <td>32.0</td>\n",
              "    </tr>\n",
              "    <tr>\n",
              "      <th>2019-05-20 16:00:00+00:00</th>\n",
              "      <td>NaN</td>\n",
              "      <td>32.4</td>\n",
              "      <td>29.0</td>\n",
              "    </tr>\n",
              "    <tr>\n",
              "      <th>2019-05-20 17:00:00+00:00</th>\n",
              "      <td>NaN</td>\n",
              "      <td>24.6</td>\n",
              "      <td>30.0</td>\n",
              "    </tr>\n",
              "    <tr>\n",
              "      <th>2019-05-20 18:00:00+00:00</th>\n",
              "      <td>NaN</td>\n",
              "      <td>32.2</td>\n",
              "      <td>33.0</td>\n",
              "    </tr>\n",
              "    <tr>\n",
              "      <th>2019-05-20 19:00:00+00:00</th>\n",
              "      <td>NaN</td>\n",
              "      <td>21.3</td>\n",
              "      <td>32.0</td>\n",
              "    </tr>\n",
              "    <tr>\n",
              "      <th>2019-05-20 20:00:00+00:00</th>\n",
              "      <td>NaN</td>\n",
              "      <td>21.6</td>\n",
              "      <td>32.0</td>\n",
              "    </tr>\n",
              "    <tr>\n",
              "      <th>2019-05-20 21:00:00+00:00</th>\n",
              "      <td>NaN</td>\n",
              "      <td>20.3</td>\n",
              "      <td>34.0</td>\n",
              "    </tr>\n",
              "    <tr>\n",
              "      <th>2019-05-20 22:00:00+00:00</th>\n",
              "      <td>NaN</td>\n",
              "      <td>20.7</td>\n",
              "      <td>47.0</td>\n",
              "    </tr>\n",
              "    <tr>\n",
              "      <th>2019-05-20 23:00:00+00:00</th>\n",
              "      <td>NaN</td>\n",
              "      <td>19.6</td>\n",
              "      <td>47.0</td>\n",
              "    </tr>\n",
              "    <tr>\n",
              "      <th>2019-05-21 00:00:00+00:00</th>\n",
              "      <td>NaN</td>\n",
              "      <td>16.9</td>\n",
              "      <td>35.0</td>\n",
              "    </tr>\n",
              "    <tr>\n",
              "      <th>2019-05-21 01:00:00+00:00</th>\n",
              "      <td>15.5</td>\n",
              "      <td>16.3</td>\n",
              "      <td>35.0</td>\n",
              "    </tr>\n",
              "    <tr>\n",
              "      <th>2019-05-21 02:00:00+00:00</th>\n",
              "      <td>NaN</td>\n",
              "      <td>17.7</td>\n",
              "      <td>26.0</td>\n",
              "    </tr>\n",
              "    <tr>\n",
              "      <th>2019-05-21 03:00:00+00:00</th>\n",
              "      <td>NaN</td>\n",
              "      <td>17.9</td>\n",
              "      <td>26.0</td>\n",
              "    </tr>\n",
              "    <tr>\n",
              "      <th>2019-05-21 04:00:00+00:00</th>\n",
              "      <td>NaN</td>\n",
              "      <td>18.5</td>\n",
              "      <td>23.0</td>\n",
              "    </tr>\n",
              "    <tr>\n",
              "      <th>2019-05-21 05:00:00+00:00</th>\n",
              "      <td>NaN</td>\n",
              "      <td>38.0</td>\n",
              "      <td>23.0</td>\n",
              "    </tr>\n",
              "    <tr>\n",
              "      <th>2019-05-21 06:00:00+00:00</th>\n",
              "      <td>NaN</td>\n",
              "      <td>62.6</td>\n",
              "      <td>30.0</td>\n",
              "    </tr>\n",
              "    <tr>\n",
              "      <th>2019-05-21 07:00:00+00:00</th>\n",
              "      <td>NaN</td>\n",
              "      <td>56.0</td>\n",
              "      <td>27.0</td>\n",
              "    </tr>\n",
              "    <tr>\n",
              "      <th>2019-05-21 08:00:00+00:00</th>\n",
              "      <td>NaN</td>\n",
              "      <td>54.2</td>\n",
              "      <td>28.0</td>\n",
              "    </tr>\n",
              "    <tr>\n",
              "      <th>2019-05-21 09:00:00+00:00</th>\n",
              "      <td>NaN</td>\n",
              "      <td>48.1</td>\n",
              "      <td>29.0</td>\n",
              "    </tr>\n",
              "    <tr>\n",
              "      <th>2019-05-21 10:00:00+00:00</th>\n",
              "      <td>NaN</td>\n",
              "      <td>30.4</td>\n",
              "      <td>29.0</td>\n",
              "    </tr>\n",
              "    <tr>\n",
              "      <th>2019-05-21 11:00:00+00:00</th>\n",
              "      <td>NaN</td>\n",
              "      <td>25.5</td>\n",
              "      <td>26.0</td>\n",
              "    </tr>\n",
              "    <tr>\n",
              "      <th>2019-05-21 12:00:00+00:00</th>\n",
              "      <td>NaN</td>\n",
              "      <td>30.5</td>\n",
              "      <td>26.0</td>\n",
              "    </tr>\n",
              "    <tr>\n",
              "      <th>2019-05-21 13:00:00+00:00</th>\n",
              "      <td>NaN</td>\n",
              "      <td>49.7</td>\n",
              "      <td>28.0</td>\n",
              "    </tr>\n",
              "    <tr>\n",
              "      <th>2019-05-21 14:00:00+00:00</th>\n",
              "      <td>NaN</td>\n",
              "      <td>47.8</td>\n",
              "      <td>33.0</td>\n",
              "    </tr>\n",
              "    <tr>\n",
              "      <th>2019-05-21 15:00:00+00:00</th>\n",
              "      <td>NaN</td>\n",
              "      <td>36.6</td>\n",
              "      <td>34.0</td>\n",
              "    </tr>\n",
              "    <tr>\n",
              "      <th>2019-05-21 16:00:00+00:00</th>\n",
              "      <td>NaN</td>\n",
              "      <td>42.3</td>\n",
              "      <td>34.0</td>\n",
              "    </tr>\n",
              "    <tr>\n",
              "      <th>2019-05-21 17:00:00+00:00</th>\n",
              "      <td>NaN</td>\n",
              "      <td>75.0</td>\n",
              "      <td>37.0</td>\n",
              "    </tr>\n",
              "    <tr>\n",
              "      <th>2019-05-21 18:00:00+00:00</th>\n",
              "      <td>NaN</td>\n",
              "      <td>54.3</td>\n",
              "      <td>35.0</td>\n",
              "    </tr>\n",
              "    <tr>\n",
              "      <th>2019-05-21 19:00:00+00:00</th>\n",
              "      <td>NaN</td>\n",
              "      <td>50.0</td>\n",
              "      <td>40.0</td>\n",
              "    </tr>\n",
              "    <tr>\n",
              "      <th>2019-05-21 20:00:00+00:00</th>\n",
              "      <td>NaN</td>\n",
              "      <td>40.8</td>\n",
              "      <td>38.0</td>\n",
              "    </tr>\n",
              "    <tr>\n",
              "      <th>2019-05-21 21:00:00+00:00</th>\n",
              "      <td>NaN</td>\n",
              "      <td>43.0</td>\n",
              "      <td>33.0</td>\n",
              "    </tr>\n",
              "    <tr>\n",
              "      <th>2019-05-21 22:00:00+00:00</th>\n",
              "      <td>NaN</td>\n",
              "      <td>33.2</td>\n",
              "      <td>33.0</td>\n",
              "    </tr>\n",
              "    <tr>\n",
              "      <th>2019-05-21 23:00:00+00:00</th>\n",
              "      <td>NaN</td>\n",
              "      <td>29.5</td>\n",
              "      <td>33.0</td>\n",
              "    </tr>\n",
              "  </tbody>\n",
              "</table>\n",
              "</div>"
            ],
            "text/plain": [
              "location                   BETR801  FR04014  London Westminster\n",
              "datetime                                                       \n",
              "2019-05-20 00:00:00+00:00     26.0     16.4                28.0\n",
              "2019-05-20 01:00:00+00:00     17.0     12.8                28.0\n",
              "2019-05-20 02:00:00+00:00     10.5     12.1                32.0\n",
              "2019-05-20 03:00:00+00:00      9.0     12.6                32.0\n",
              "2019-05-20 04:00:00+00:00     14.0     14.9                26.0\n",
              "2019-05-20 05:00:00+00:00     20.0     25.2                26.0\n",
              "2019-05-20 06:00:00+00:00     26.0     40.1                31.0\n",
              "2019-05-20 07:00:00+00:00     38.0     46.9                31.0\n",
              "2019-05-20 08:00:00+00:00     40.0     46.1                29.0\n",
              "2019-05-20 09:00:00+00:00     30.5     45.5                29.0\n",
              "2019-05-20 10:00:00+00:00     25.0     43.9                28.0\n",
              "2019-05-20 11:00:00+00:00     25.0     35.4                28.0\n",
              "2019-05-20 12:00:00+00:00     34.5     23.8                28.0\n",
              "2019-05-20 13:00:00+00:00     32.0     23.7                29.0\n",
              "2019-05-20 14:00:00+00:00     24.5     27.5                32.0\n",
              "2019-05-20 15:00:00+00:00     25.5     26.5                32.0\n",
              "2019-05-20 16:00:00+00:00      NaN     32.4                29.0\n",
              "2019-05-20 17:00:00+00:00      NaN     24.6                30.0\n",
              "2019-05-20 18:00:00+00:00      NaN     32.2                33.0\n",
              "2019-05-20 19:00:00+00:00      NaN     21.3                32.0\n",
              "2019-05-20 20:00:00+00:00      NaN     21.6                32.0\n",
              "2019-05-20 21:00:00+00:00      NaN     20.3                34.0\n",
              "2019-05-20 22:00:00+00:00      NaN     20.7                47.0\n",
              "2019-05-20 23:00:00+00:00      NaN     19.6                47.0\n",
              "2019-05-21 00:00:00+00:00      NaN     16.9                35.0\n",
              "2019-05-21 01:00:00+00:00     15.5     16.3                35.0\n",
              "2019-05-21 02:00:00+00:00      NaN     17.7                26.0\n",
              "2019-05-21 03:00:00+00:00      NaN     17.9                26.0\n",
              "2019-05-21 04:00:00+00:00      NaN     18.5                23.0\n",
              "2019-05-21 05:00:00+00:00      NaN     38.0                23.0\n",
              "2019-05-21 06:00:00+00:00      NaN     62.6                30.0\n",
              "2019-05-21 07:00:00+00:00      NaN     56.0                27.0\n",
              "2019-05-21 08:00:00+00:00      NaN     54.2                28.0\n",
              "2019-05-21 09:00:00+00:00      NaN     48.1                29.0\n",
              "2019-05-21 10:00:00+00:00      NaN     30.4                29.0\n",
              "2019-05-21 11:00:00+00:00      NaN     25.5                26.0\n",
              "2019-05-21 12:00:00+00:00      NaN     30.5                26.0\n",
              "2019-05-21 13:00:00+00:00      NaN     49.7                28.0\n",
              "2019-05-21 14:00:00+00:00      NaN     47.8                33.0\n",
              "2019-05-21 15:00:00+00:00      NaN     36.6                34.0\n",
              "2019-05-21 16:00:00+00:00      NaN     42.3                34.0\n",
              "2019-05-21 17:00:00+00:00      NaN     75.0                37.0\n",
              "2019-05-21 18:00:00+00:00      NaN     54.3                35.0\n",
              "2019-05-21 19:00:00+00:00      NaN     50.0                40.0\n",
              "2019-05-21 20:00:00+00:00      NaN     40.8                38.0\n",
              "2019-05-21 21:00:00+00:00      NaN     43.0                33.0\n",
              "2019-05-21 22:00:00+00:00      NaN     33.2                33.0\n",
              "2019-05-21 23:00:00+00:00      NaN     29.5                33.0"
            ]
          },
          "metadata": {},
          "execution_count": 29
        }
      ]
    },
    {
      "cell_type": "markdown",
      "metadata": {
        "id": "vbuVpcnQIU6E"
      },
      "source": [
        "#Resample\n",
        "+ use aggregation function"
      ]
    },
    {
      "cell_type": "code",
      "metadata": {
        "colab": {
          "base_uri": "https://localhost:8080/",
          "height": 141
        },
        "id": "IRibDHzXIj_X",
        "outputId": "7c244b8e-36e4-4606-c13e-b8a671a4d8bf"
      },
      "source": [
        "#월별로 집계\n",
        "monthly_max = no2.resample('M').max()\n",
        "monthly_max"
      ],
      "execution_count": 31,
      "outputs": [
        {
          "output_type": "execute_result",
          "data": {
            "text/html": [
              "<div>\n",
              "<style scoped>\n",
              "    .dataframe tbody tr th:only-of-type {\n",
              "        vertical-align: middle;\n",
              "    }\n",
              "\n",
              "    .dataframe tbody tr th {\n",
              "        vertical-align: top;\n",
              "    }\n",
              "\n",
              "    .dataframe thead th {\n",
              "        text-align: right;\n",
              "    }\n",
              "</style>\n",
              "<table border=\"1\" class=\"dataframe\">\n",
              "  <thead>\n",
              "    <tr style=\"text-align: right;\">\n",
              "      <th>location</th>\n",
              "      <th>BETR801</th>\n",
              "      <th>FR04014</th>\n",
              "      <th>London Westminster</th>\n",
              "    </tr>\n",
              "    <tr>\n",
              "      <th>datetime</th>\n",
              "      <th></th>\n",
              "      <th></th>\n",
              "      <th></th>\n",
              "    </tr>\n",
              "  </thead>\n",
              "  <tbody>\n",
              "    <tr>\n",
              "      <th>2019-05-31 00:00:00+00:00</th>\n",
              "      <td>74.5</td>\n",
              "      <td>97.0</td>\n",
              "      <td>97.0</td>\n",
              "    </tr>\n",
              "    <tr>\n",
              "      <th>2019-06-30 00:00:00+00:00</th>\n",
              "      <td>52.5</td>\n",
              "      <td>84.7</td>\n",
              "      <td>52.0</td>\n",
              "    </tr>\n",
              "  </tbody>\n",
              "</table>\n",
              "</div>"
            ],
            "text/plain": [
              "location                   BETR801  FR04014  London Westminster\n",
              "datetime                                                       \n",
              "2019-05-31 00:00:00+00:00     74.5     97.0                97.0\n",
              "2019-06-30 00:00:00+00:00     52.5     84.7                52.0"
            ]
          },
          "metadata": {},
          "execution_count": 31
        }
      ]
    },
    {
      "cell_type": "code",
      "metadata": {
        "colab": {
          "base_uri": "https://localhost:8080/",
          "height": 1000
        },
        "id": "PKfFhyakI0a1",
        "outputId": "40075b43-2c13-4f2f-e34d-fdf0cbaa82bc"
      },
      "source": [
        "daily_max = no2.resample('D').max()\n",
        "daily_max"
      ],
      "execution_count": 34,
      "outputs": [
        {
          "output_type": "execute_result",
          "data": {
            "text/html": [
              "<div>\n",
              "<style scoped>\n",
              "    .dataframe tbody tr th:only-of-type {\n",
              "        vertical-align: middle;\n",
              "    }\n",
              "\n",
              "    .dataframe tbody tr th {\n",
              "        vertical-align: top;\n",
              "    }\n",
              "\n",
              "    .dataframe thead th {\n",
              "        text-align: right;\n",
              "    }\n",
              "</style>\n",
              "<table border=\"1\" class=\"dataframe\">\n",
              "  <thead>\n",
              "    <tr style=\"text-align: right;\">\n",
              "      <th>location</th>\n",
              "      <th>BETR801</th>\n",
              "      <th>FR04014</th>\n",
              "      <th>London Westminster</th>\n",
              "    </tr>\n",
              "    <tr>\n",
              "      <th>datetime</th>\n",
              "      <th></th>\n",
              "      <th></th>\n",
              "      <th></th>\n",
              "    </tr>\n",
              "  </thead>\n",
              "  <tbody>\n",
              "    <tr>\n",
              "      <th>2019-05-07 00:00:00+00:00</th>\n",
              "      <td>50.5</td>\n",
              "      <td>77.7</td>\n",
              "      <td>32.0</td>\n",
              "    </tr>\n",
              "    <tr>\n",
              "      <th>2019-05-08 00:00:00+00:00</th>\n",
              "      <td>23.0</td>\n",
              "      <td>48.9</td>\n",
              "      <td>40.0</td>\n",
              "    </tr>\n",
              "    <tr>\n",
              "      <th>2019-05-09 00:00:00+00:00</th>\n",
              "      <td>20.5</td>\n",
              "      <td>50.7</td>\n",
              "      <td>97.0</td>\n",
              "    </tr>\n",
              "    <tr>\n",
              "      <th>2019-05-10 00:00:00+00:00</th>\n",
              "      <td>11.5</td>\n",
              "      <td>60.7</td>\n",
              "      <td>52.0</td>\n",
              "    </tr>\n",
              "    <tr>\n",
              "      <th>2019-05-11 00:00:00+00:00</th>\n",
              "      <td>26.5</td>\n",
              "      <td>36.8</td>\n",
              "      <td>37.0</td>\n",
              "    </tr>\n",
              "    <tr>\n",
              "      <th>2019-05-12 00:00:00+00:00</th>\n",
              "      <td>20.0</td>\n",
              "      <td>46.5</td>\n",
              "      <td>44.0</td>\n",
              "    </tr>\n",
              "    <tr>\n",
              "      <th>2019-05-13 00:00:00+00:00</th>\n",
              "      <td>14.5</td>\n",
              "      <td>45.2</td>\n",
              "      <td>39.0</td>\n",
              "    </tr>\n",
              "    <tr>\n",
              "      <th>2019-05-14 00:00:00+00:00</th>\n",
              "      <td>14.5</td>\n",
              "      <td>46.1</td>\n",
              "      <td>34.0</td>\n",
              "    </tr>\n",
              "    <tr>\n",
              "      <th>2019-05-15 00:00:00+00:00</th>\n",
              "      <td>25.5</td>\n",
              "      <td>48.1</td>\n",
              "      <td>38.0</td>\n",
              "    </tr>\n",
              "    <tr>\n",
              "      <th>2019-05-16 00:00:00+00:00</th>\n",
              "      <td>28.0</td>\n",
              "      <td>52.6</td>\n",
              "      <td>34.0</td>\n",
              "    </tr>\n",
              "    <tr>\n",
              "      <th>2019-05-17 00:00:00+00:00</th>\n",
              "      <td>NaN</td>\n",
              "      <td>60.5</td>\n",
              "      <td>36.0</td>\n",
              "    </tr>\n",
              "    <tr>\n",
              "      <th>2019-05-18 00:00:00+00:00</th>\n",
              "      <td>41.5</td>\n",
              "      <td>67.5</td>\n",
              "      <td>46.0</td>\n",
              "    </tr>\n",
              "    <tr>\n",
              "      <th>2019-05-19 00:00:00+00:00</th>\n",
              "      <td>33.0</td>\n",
              "      <td>51.2</td>\n",
              "      <td>49.0</td>\n",
              "    </tr>\n",
              "    <tr>\n",
              "      <th>2019-05-20 00:00:00+00:00</th>\n",
              "      <td>40.0</td>\n",
              "      <td>46.9</td>\n",
              "      <td>47.0</td>\n",
              "    </tr>\n",
              "    <tr>\n",
              "      <th>2019-05-21 00:00:00+00:00</th>\n",
              "      <td>15.5</td>\n",
              "      <td>75.0</td>\n",
              "      <td>40.0</td>\n",
              "    </tr>\n",
              "    <tr>\n",
              "      <th>2019-05-22 00:00:00+00:00</th>\n",
              "      <td>20.5</td>\n",
              "      <td>75.7</td>\n",
              "      <td>34.0</td>\n",
              "    </tr>\n",
              "    <tr>\n",
              "      <th>2019-05-23 00:00:00+00:00</th>\n",
              "      <td>60.5</td>\n",
              "      <td>97.0</td>\n",
              "      <td>60.0</td>\n",
              "    </tr>\n",
              "    <tr>\n",
              "      <th>2019-05-24 00:00:00+00:00</th>\n",
              "      <td>74.5</td>\n",
              "      <td>54.8</td>\n",
              "      <td>46.0</td>\n",
              "    </tr>\n",
              "    <tr>\n",
              "      <th>2019-05-25 00:00:00+00:00</th>\n",
              "      <td>29.0</td>\n",
              "      <td>70.2</td>\n",
              "      <td>47.0</td>\n",
              "    </tr>\n",
              "    <tr>\n",
              "      <th>2019-05-26 00:00:00+00:00</th>\n",
              "      <td>53.0</td>\n",
              "      <td>67.0</td>\n",
              "      <td>32.0</td>\n",
              "    </tr>\n",
              "    <tr>\n",
              "      <th>2019-05-27 00:00:00+00:00</th>\n",
              "      <td>10.5</td>\n",
              "      <td>34.2</td>\n",
              "      <td>26.0</td>\n",
              "    </tr>\n",
              "    <tr>\n",
              "      <th>2019-05-28 00:00:00+00:00</th>\n",
              "      <td>11.0</td>\n",
              "      <td>33.8</td>\n",
              "      <td>31.0</td>\n",
              "    </tr>\n",
              "    <tr>\n",
              "      <th>2019-05-29 00:00:00+00:00</th>\n",
              "      <td>21.0</td>\n",
              "      <td>50.5</td>\n",
              "      <td>26.0</td>\n",
              "    </tr>\n",
              "    <tr>\n",
              "      <th>2019-05-30 00:00:00+00:00</th>\n",
              "      <td>7.5</td>\n",
              "      <td>29.6</td>\n",
              "      <td>30.0</td>\n",
              "    </tr>\n",
              "    <tr>\n",
              "      <th>2019-05-31 00:00:00+00:00</th>\n",
              "      <td>9.0</td>\n",
              "      <td>81.7</td>\n",
              "      <td>37.0</td>\n",
              "    </tr>\n",
              "    <tr>\n",
              "      <th>2019-06-01 00:00:00+00:00</th>\n",
              "      <td>52.5</td>\n",
              "      <td>84.7</td>\n",
              "      <td>52.0</td>\n",
              "    </tr>\n",
              "    <tr>\n",
              "      <th>2019-06-02 00:00:00+00:00</th>\n",
              "      <td>NaN</td>\n",
              "      <td>40.9</td>\n",
              "      <td>44.0</td>\n",
              "    </tr>\n",
              "    <tr>\n",
              "      <th>2019-06-03 00:00:00+00:00</th>\n",
              "      <td>NaN</td>\n",
              "      <td>50.0</td>\n",
              "      <td>24.0</td>\n",
              "    </tr>\n",
              "    <tr>\n",
              "      <th>2019-06-04 00:00:00+00:00</th>\n",
              "      <td>NaN</td>\n",
              "      <td>53.5</td>\n",
              "      <td>40.0</td>\n",
              "    </tr>\n",
              "    <tr>\n",
              "      <th>2019-06-05 00:00:00+00:00</th>\n",
              "      <td>15.0</td>\n",
              "      <td>59.0</td>\n",
              "      <td>20.0</td>\n",
              "    </tr>\n",
              "    <tr>\n",
              "      <th>2019-06-06 00:00:00+00:00</th>\n",
              "      <td>NaN</td>\n",
              "      <td>43.1</td>\n",
              "      <td>24.0</td>\n",
              "    </tr>\n",
              "    <tr>\n",
              "      <th>2019-06-07 00:00:00+00:00</th>\n",
              "      <td>NaN</td>\n",
              "      <td>34.5</td>\n",
              "      <td>36.0</td>\n",
              "    </tr>\n",
              "    <tr>\n",
              "      <th>2019-06-08 00:00:00+00:00</th>\n",
              "      <td>NaN</td>\n",
              "      <td>47.0</td>\n",
              "      <td>28.0</td>\n",
              "    </tr>\n",
              "    <tr>\n",
              "      <th>2019-06-09 00:00:00+00:00</th>\n",
              "      <td>10.0</td>\n",
              "      <td>55.9</td>\n",
              "      <td>26.0</td>\n",
              "    </tr>\n",
              "    <tr>\n",
              "      <th>2019-06-10 00:00:00+00:00</th>\n",
              "      <td>18.5</td>\n",
              "      <td>28.1</td>\n",
              "      <td>51.0</td>\n",
              "    </tr>\n",
              "    <tr>\n",
              "      <th>2019-06-11 00:00:00+00:00</th>\n",
              "      <td>7.5</td>\n",
              "      <td>59.4</td>\n",
              "      <td>35.0</td>\n",
              "    </tr>\n",
              "    <tr>\n",
              "      <th>2019-06-12 00:00:00+00:00</th>\n",
              "      <td>21.0</td>\n",
              "      <td>44.9</td>\n",
              "      <td>45.0</td>\n",
              "    </tr>\n",
              "    <tr>\n",
              "      <th>2019-06-13 00:00:00+00:00</th>\n",
              "      <td>28.5</td>\n",
              "      <td>78.3</td>\n",
              "      <td>29.0</td>\n",
              "    </tr>\n",
              "    <tr>\n",
              "      <th>2019-06-14 00:00:00+00:00</th>\n",
              "      <td>36.5</td>\n",
              "      <td>74.2</td>\n",
              "      <td>27.0</td>\n",
              "    </tr>\n",
              "    <tr>\n",
              "      <th>2019-06-15 00:00:00+00:00</th>\n",
              "      <td>17.5</td>\n",
              "      <td>35.8</td>\n",
              "      <td>26.0</td>\n",
              "    </tr>\n",
              "    <tr>\n",
              "      <th>2019-06-16 00:00:00+00:00</th>\n",
              "      <td>42.5</td>\n",
              "      <td>67.3</td>\n",
              "      <td>29.0</td>\n",
              "    </tr>\n",
              "    <tr>\n",
              "      <th>2019-06-17 00:00:00+00:00</th>\n",
              "      <td>45.0</td>\n",
              "      <td>73.3</td>\n",
              "      <td>17.0</td>\n",
              "    </tr>\n",
              "    <tr>\n",
              "      <th>2019-06-18 00:00:00+00:00</th>\n",
              "      <td>NaN</td>\n",
              "      <td>66.2</td>\n",
              "      <td>NaN</td>\n",
              "    </tr>\n",
              "    <tr>\n",
              "      <th>2019-06-19 00:00:00+00:00</th>\n",
              "      <td>NaN</td>\n",
              "      <td>27.3</td>\n",
              "      <td>NaN</td>\n",
              "    </tr>\n",
              "    <tr>\n",
              "      <th>2019-06-20 00:00:00+00:00</th>\n",
              "      <td>NaN</td>\n",
              "      <td>26.5</td>\n",
              "      <td>NaN</td>\n",
              "    </tr>\n",
              "    <tr>\n",
              "      <th>2019-06-21 00:00:00+00:00</th>\n",
              "      <td>NaN</td>\n",
              "      <td>20.0</td>\n",
              "      <td>NaN</td>\n",
              "    </tr>\n",
              "  </tbody>\n",
              "</table>\n",
              "</div>"
            ],
            "text/plain": [
              "location                   BETR801  FR04014  London Westminster\n",
              "datetime                                                       \n",
              "2019-05-07 00:00:00+00:00     50.5     77.7                32.0\n",
              "2019-05-08 00:00:00+00:00     23.0     48.9                40.0\n",
              "2019-05-09 00:00:00+00:00     20.5     50.7                97.0\n",
              "2019-05-10 00:00:00+00:00     11.5     60.7                52.0\n",
              "2019-05-11 00:00:00+00:00     26.5     36.8                37.0\n",
              "2019-05-12 00:00:00+00:00     20.0     46.5                44.0\n",
              "2019-05-13 00:00:00+00:00     14.5     45.2                39.0\n",
              "2019-05-14 00:00:00+00:00     14.5     46.1                34.0\n",
              "2019-05-15 00:00:00+00:00     25.5     48.1                38.0\n",
              "2019-05-16 00:00:00+00:00     28.0     52.6                34.0\n",
              "2019-05-17 00:00:00+00:00      NaN     60.5                36.0\n",
              "2019-05-18 00:00:00+00:00     41.5     67.5                46.0\n",
              "2019-05-19 00:00:00+00:00     33.0     51.2                49.0\n",
              "2019-05-20 00:00:00+00:00     40.0     46.9                47.0\n",
              "2019-05-21 00:00:00+00:00     15.5     75.0                40.0\n",
              "2019-05-22 00:00:00+00:00     20.5     75.7                34.0\n",
              "2019-05-23 00:00:00+00:00     60.5     97.0                60.0\n",
              "2019-05-24 00:00:00+00:00     74.5     54.8                46.0\n",
              "2019-05-25 00:00:00+00:00     29.0     70.2                47.0\n",
              "2019-05-26 00:00:00+00:00     53.0     67.0                32.0\n",
              "2019-05-27 00:00:00+00:00     10.5     34.2                26.0\n",
              "2019-05-28 00:00:00+00:00     11.0     33.8                31.0\n",
              "2019-05-29 00:00:00+00:00     21.0     50.5                26.0\n",
              "2019-05-30 00:00:00+00:00      7.5     29.6                30.0\n",
              "2019-05-31 00:00:00+00:00      9.0     81.7                37.0\n",
              "2019-06-01 00:00:00+00:00     52.5     84.7                52.0\n",
              "2019-06-02 00:00:00+00:00      NaN     40.9                44.0\n",
              "2019-06-03 00:00:00+00:00      NaN     50.0                24.0\n",
              "2019-06-04 00:00:00+00:00      NaN     53.5                40.0\n",
              "2019-06-05 00:00:00+00:00     15.0     59.0                20.0\n",
              "2019-06-06 00:00:00+00:00      NaN     43.1                24.0\n",
              "2019-06-07 00:00:00+00:00      NaN     34.5                36.0\n",
              "2019-06-08 00:00:00+00:00      NaN     47.0                28.0\n",
              "2019-06-09 00:00:00+00:00     10.0     55.9                26.0\n",
              "2019-06-10 00:00:00+00:00     18.5     28.1                51.0\n",
              "2019-06-11 00:00:00+00:00      7.5     59.4                35.0\n",
              "2019-06-12 00:00:00+00:00     21.0     44.9                45.0\n",
              "2019-06-13 00:00:00+00:00     28.5     78.3                29.0\n",
              "2019-06-14 00:00:00+00:00     36.5     74.2                27.0\n",
              "2019-06-15 00:00:00+00:00     17.5     35.8                26.0\n",
              "2019-06-16 00:00:00+00:00     42.5     67.3                29.0\n",
              "2019-06-17 00:00:00+00:00     45.0     73.3                17.0\n",
              "2019-06-18 00:00:00+00:00      NaN     66.2                 NaN\n",
              "2019-06-19 00:00:00+00:00      NaN     27.3                 NaN\n",
              "2019-06-20 00:00:00+00:00      NaN     26.5                 NaN\n",
              "2019-06-21 00:00:00+00:00      NaN     20.0                 NaN"
            ]
          },
          "metadata": {},
          "execution_count": 34
        }
      ]
    },
    {
      "cell_type": "code",
      "metadata": {
        "colab": {
          "base_uri": "https://localhost:8080/"
        },
        "id": "rdwMtDhDJHxV",
        "outputId": "aa7af5f8-54c4-4de3-a160-d826b77006c6"
      },
      "source": [
        "daily_max.index.freq"
      ],
      "execution_count": 35,
      "outputs": [
        {
          "output_type": "execute_result",
          "data": {
            "text/plain": [
              "<Day>"
            ]
          },
          "metadata": {},
          "execution_count": 35
        }
      ]
    },
    {
      "cell_type": "code",
      "metadata": {
        "colab": {
          "base_uri": "https://localhost:8080/",
          "height": 386
        },
        "id": "ctqB4RNkJQXS",
        "outputId": "cc268c1e-07fc-4e36-e4d0-19ee719d1f16"
      },
      "source": [
        "daily_mean = no2.resample('D').mean()\n",
        "daily_mean.plot(figsize=(10,5),style='-o')"
      ],
      "execution_count": 39,
      "outputs": [
        {
          "output_type": "execute_result",
          "data": {
            "text/plain": [
              "<matplotlib.axes._subplots.AxesSubplot at 0x7f7d6e3daed0>"
            ]
          },
          "metadata": {},
          "execution_count": 39
        },
        {
          "output_type": "display_data",
          "data": {
            "image/png": "[encoded data removed]",
            "text/plain": [
              "<Figure size 720x360 with 1 Axes>"
            ]
          },
          "metadata": {
            "needs_background": "light"
          }
        }
      ]
    },
    {
      "cell_type": "code",
      "metadata": {
        "id": "xXQs7O2QJg6T"
      },
      "source": [
        ""
      ],
      "execution_count": null,
      "outputs": []
    }
  ]
}