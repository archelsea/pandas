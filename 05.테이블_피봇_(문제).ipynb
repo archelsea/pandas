{
  "nbformat": 4,
  "nbformat_minor": 0,
  "metadata": {
    "colab": {
      "name": "✅ Section 5. 테이블 피봇 (문제).ipynb",
      "provenance": [],
      "collapsed_sections": []
    },
    "kernelspec": {
      "name": "python3",
      "display_name": "Python 3"
    },
    "language_info": {
      "name": "python"
    }
  },
  "cells": [
    {
      "cell_type": "markdown",
      "metadata": {
        "id": "ZRmsZVdJbbXU"
      },
      "source": [
        "# 문제풀이 Overview\n",
        "* 이번 문제풀이에서는 총 5개의 문제와 1개의 자유주제를 다룹니다.\n",
        "* 문제를 본격적으로 풀기 전에 아래 코드를 실행해 `pandas` 라이브러리를 임포트하고 데이터를 읽어와주세요."
      ]
    },
    {
      "cell_type": "code",
      "metadata": {
        "id": "zjdze21xt4y2"
      },
      "source": [
        "import pandas as pd"
      ],
      "execution_count": null,
      "outputs": []
    },
    {
      "cell_type": "code",
      "metadata": {
        "id": "uNrWbASTuGMw"
      },
      "source": [
        "tips = pd.read_csv('https://raw.githubusercontent.com/datarian-kr/pandas/main/data/tips.csv')"
      ],
      "execution_count": null,
      "outputs": []
    },
    {
      "cell_type": "markdown",
      "metadata": {
        "id": "bWxRCBJCuM8o"
      },
      "source": [
        "# 데이터 설명\n",
        "이 데이터는 웨이터가 자신이 받은 팁과, 팁을 받았을 때의 영수금액, 계산한 사람의 정보 등을 기록한 것입니다. 이번 섹션에서 배운 `pivot`, `pivot_table` 함수를 이용하여 **어떤 경우 팁을 많이 받을 수 있는지** 분석해봅시다.\n",
        "\n",
        "💡 `pivot`, `pivot_table` 사용이 아직 익숙하지 않은 분들은 구글 스프레드 시트나, `groupby` 함수를 사용하여 분석해도 좋습니다. '모로 가도 서울만 가면 된다'라는 말도 있잖아요!\n",
        "\n",
        "**컬럼 상세**\n",
        "\n",
        "- total_bill: 영수 금액 (달러) *팁을 포함하지 않음*\n",
        "- tip: 팁 (달러)\n",
        "- sex: 계산한 사람의 성별\n",
        "- smoker: 일행 중에 흡연자가 있었는지 여부\n",
        "- day: 요일\n",
        "- time: 점심 또는 저녁\n",
        "- size: 일행의 인원 (명)\n",
        "\n",
        "**References**\n",
        "- Bryant, P. G. and Smith, M (1995) Practical Data Analysis: Case Studies in Business Statistics. Homewood, IL: Richard D. Irwin Publishing"
      ]
    },
    {
      "cell_type": "markdown",
      "metadata": {
        "id": "7csQ8U-Ixt3-"
      },
      "source": [
        "# 데이터 미리보기"
      ]
    },
    {
      "cell_type": "code",
      "metadata": {
        "colab": {
          "base_uri": "https://localhost:8080/",
          "height": 112
        },
        "id": "sd-8sdp8uOyE",
        "outputId": "e34a2efb-1341-4b45-80ab-60d300a88c4c"
      },
      "source": [
        "tips.head(2)"
      ],
      "execution_count": null,
      "outputs": [
        {
          "output_type": "execute_result",
          "data": {
            "text/html": [
              "<div>\n",
              "<style scoped>\n",
              "    .dataframe tbody tr th:only-of-type {\n",
              "        vertical-align: middle;\n",
              "    }\n",
              "\n",
              "    .dataframe tbody tr th {\n",
              "        vertical-align: top;\n",
              "    }\n",
              "\n",
              "    .dataframe thead th {\n",
              "        text-align: right;\n",
              "    }\n",
              "</style>\n",
              "<table border=\"1\" class=\"dataframe\">\n",
              "  <thead>\n",
              "    <tr style=\"text-align: right;\">\n",
              "      <th></th>\n",
              "      <th>total_bill</th>\n",
              "      <th>tip</th>\n",
              "      <th>sex</th>\n",
              "      <th>smoker</th>\n",
              "      <th>day</th>\n",
              "      <th>time</th>\n",
              "      <th>size</th>\n",
              "    </tr>\n",
              "  </thead>\n",
              "  <tbody>\n",
              "    <tr>\n",
              "      <th>0</th>\n",
              "      <td>16.99</td>\n",
              "      <td>1.01</td>\n",
              "      <td>Female</td>\n",
              "      <td>No</td>\n",
              "      <td>Sun</td>\n",
              "      <td>Dinner</td>\n",
              "      <td>2</td>\n",
              "    </tr>\n",
              "    <tr>\n",
              "      <th>1</th>\n",
              "      <td>10.34</td>\n",
              "      <td>1.66</td>\n",
              "      <td>Male</td>\n",
              "      <td>No</td>\n",
              "      <td>Sun</td>\n",
              "      <td>Dinner</td>\n",
              "      <td>3</td>\n",
              "    </tr>\n",
              "  </tbody>\n",
              "</table>\n",
              "</div>"
            ],
            "text/plain": [
              "   total_bill   tip     sex smoker  day    time  size\n",
              "0       16.99  1.01  Female     No  Sun  Dinner     2\n",
              "1       10.34  1.66    Male     No  Sun  Dinner     3"
            ]
          },
          "metadata": {},
          "execution_count": 3
        }
      ]
    },
    {
      "cell_type": "markdown",
      "metadata": {
        "id": "56jG3NhWucKY"
      },
      "source": [
        "# Q1. 탐색적 데이터 분석 \n",
        "[탐색적 데이터 분석(EDA, Exploratory Data Analysis)](https://en.wikipedia.org/wiki/Exploratory_data_analysis)이란 본격적인 데이터 분석을 시작하기 전에, 그래프나 기초 통계를 이용하여 주어진 자료를 파악하는 과정입니다.\n",
        "\n",
        "`describe()`, `unique()` 등 지금까지 배운 함수를 이용하여 데이터를 자유롭게 탐색해봅시다."
      ]
    },
    {
      "cell_type": "markdown",
      "metadata": {
        "id": "KUQ_hNhamacn"
      },
      "source": [
        "**아래의 간단한 질문들에 답하며 EDA를 시작해 볼까요?**\n",
        "\n",
        "- 총 몇 개의 팁 데이터가 들어있나요? 244개\n",
        "- `sex`, `smoker`, `day`, `time` 데이터에는 각각 어떤 데이터들이 들어있나요?\n",
        "- 팁은 평균적으로 얼마를 받았나요? 2.99 달러"
      ]
    },
    {
      "cell_type": "code",
      "metadata": {
        "id": "MsaFL09DuQAt",
        "colab": {
          "base_uri": "https://localhost:8080/",
          "height": 300
        },
        "outputId": "6156f3f6-b7c3-434f-beef-996189f4e84e"
      },
      "source": [
        "# Answer 1. 총 244개의 팁 데이터가 있으며 평균적으로 약 3달러의 팁을 받았다\n",
        "tips.describe()"
      ],
      "execution_count": null,
      "outputs": [
        {
          "output_type": "execute_result",
          "data": {
            "text/html": [
              "<div>\n",
              "<style scoped>\n",
              "    .dataframe tbody tr th:only-of-type {\n",
              "        vertical-align: middle;\n",
              "    }\n",
              "\n",
              "    .dataframe tbody tr th {\n",
              "        vertical-align: top;\n",
              "    }\n",
              "\n",
              "    .dataframe thead th {\n",
              "        text-align: right;\n",
              "    }\n",
              "</style>\n",
              "<table border=\"1\" class=\"dataframe\">\n",
              "  <thead>\n",
              "    <tr style=\"text-align: right;\">\n",
              "      <th></th>\n",
              "      <th>total_bill</th>\n",
              "      <th>tip</th>\n",
              "      <th>size</th>\n",
              "    </tr>\n",
              "  </thead>\n",
              "  <tbody>\n",
              "    <tr>\n",
              "      <th>count</th>\n",
              "      <td>244.000000</td>\n",
              "      <td>244.000000</td>\n",
              "      <td>244.000000</td>\n",
              "    </tr>\n",
              "    <tr>\n",
              "      <th>mean</th>\n",
              "      <td>19.785943</td>\n",
              "      <td>2.998279</td>\n",
              "      <td>2.569672</td>\n",
              "    </tr>\n",
              "    <tr>\n",
              "      <th>std</th>\n",
              "      <td>8.902412</td>\n",
              "      <td>1.383638</td>\n",
              "      <td>0.951100</td>\n",
              "    </tr>\n",
              "    <tr>\n",
              "      <th>min</th>\n",
              "      <td>3.070000</td>\n",
              "      <td>1.000000</td>\n",
              "      <td>1.000000</td>\n",
              "    </tr>\n",
              "    <tr>\n",
              "      <th>25%</th>\n",
              "      <td>13.347500</td>\n",
              "      <td>2.000000</td>\n",
              "      <td>2.000000</td>\n",
              "    </tr>\n",
              "    <tr>\n",
              "      <th>50%</th>\n",
              "      <td>17.795000</td>\n",
              "      <td>2.900000</td>\n",
              "      <td>2.000000</td>\n",
              "    </tr>\n",
              "    <tr>\n",
              "      <th>75%</th>\n",
              "      <td>24.127500</td>\n",
              "      <td>3.562500</td>\n",
              "      <td>3.000000</td>\n",
              "    </tr>\n",
              "    <tr>\n",
              "      <th>max</th>\n",
              "      <td>50.810000</td>\n",
              "      <td>10.000000</td>\n",
              "      <td>6.000000</td>\n",
              "    </tr>\n",
              "  </tbody>\n",
              "</table>\n",
              "</div>"
            ],
            "text/plain": [
              "       total_bill         tip        size\n",
              "count  244.000000  244.000000  244.000000\n",
              "mean    19.785943    2.998279    2.569672\n",
              "std      8.902412    1.383638    0.951100\n",
              "min      3.070000    1.000000    1.000000\n",
              "25%     13.347500    2.000000    2.000000\n",
              "50%     17.795000    2.900000    2.000000\n",
              "75%     24.127500    3.562500    3.000000\n",
              "max     50.810000   10.000000    6.000000"
            ]
          },
          "metadata": {},
          "execution_count": 7
        }
      ]
    },
    {
      "cell_type": "code",
      "metadata": {
        "colab": {
          "base_uri": "https://localhost:8080/"
        },
        "id": "GKaSc7Mmv-9C",
        "outputId": "4520b818-7007-452e-c0f8-d74d07398e4e"
      },
      "source": [
        "print(tips['sex'].unique())\n",
        "print(tips['smoker'].unique())\n",
        "print(tips['day'].unique())\n",
        "print(tips['time'].unique())"
      ],
      "execution_count": null,
      "outputs": [
        {
          "output_type": "stream",
          "name": "stdout",
          "text": [
            "['Female' 'Male']\n",
            "['No' 'Yes']\n",
            "['Sun' 'Sat' 'Thur' 'Fri']\n",
            "['Dinner' 'Lunch']\n"
          ]
        }
      ]
    },
    {
      "cell_type": "markdown",
      "metadata": {
        "id": "kPueY_aFy6Dh"
      },
      "source": [
        "# Q2. 팁의 비율\n",
        "평균적으로 총 영수 금액의 몇 퍼센트를 팁으로 받고 있나요?  \n",
        "\n",
        "아래 단계에 따라 더미로 주어진 코드들을 수정하면서 진행해주세요.\n",
        "\n",
        "* Step 1. 영수 금액 대비 팁의 비율(%)을 `tip_pct` 라는 새로운 컬럼에 저장\n",
        "* Step 2. `tip_pct`의 평균을 계산하여 정수로 반올림  \n",
        "* Step 3. 2번의 결과를 `tip_pct_avg` 라는 변수에 저장 \n",
        "\n",
        "Tip.\n",
        "* [파이썬의 반올림 내장 함수](https://docs.python.org/3/library/functions.html#round)"
      ]
    },
    {
      "cell_type": "code",
      "metadata": {
        "id": "uE6TlHRdhY3w",
        "colab": {
          "base_uri": "https://localhost:8080/"
        },
        "outputId": "def7f3ed-51c6-4fdb-9541-50349e2639bc"
      },
      "source": [
        "# Answer \n",
        "tips['tip_pct'] = tips['tip']*100/tips['total_bill'] # Step 1\n",
        "tip_pct_avg = round(tips['tip_pct'].mean())  # Step 2, 3\n",
        "tip_pct_avg"
      ],
      "execution_count": null,
      "outputs": [
        {
          "output_type": "execute_result",
          "data": {
            "text/plain": [
              "16"
            ]
          },
          "metadata": {},
          "execution_count": 11
        }
      ]
    },
    {
      "cell_type": "code",
      "metadata": {
        "colab": {
          "base_uri": "https://localhost:8080/"
        },
        "id": "UIJZUT1HhIen",
        "outputId": "d09f5815-666d-4888-d95e-1f2a1d7f307e"
      },
      "source": [
        "print(f\"팁은 평균적으로 영수 금액의 {tip_pct_avg}% 입니다\")"
      ],
      "execution_count": null,
      "outputs": [
        {
          "output_type": "stream",
          "name": "stdout",
          "text": [
            "팁은 평균적으로 영수 금액의 16% 입니다\n"
          ]
        }
      ]
    },
    {
      "cell_type": "markdown",
      "metadata": {
        "id": "jc-HYinRMccN"
      },
      "source": [
        "# Q3. 영수 금액과 팁의 관계\n",
        "영수 금액이 많을수록 팁을 많이 줄까요? x 축을 `total_bill`, y 축을 `tip`으로 하는 산포도를 그려서 확인해봅시다.  "
      ]
    },
    {
      "cell_type": "code",
      "metadata": {
        "id": "YjJetvRle2t6",
        "colab": {
          "base_uri": "https://localhost:8080/",
          "height": 297
        },
        "outputId": "1ffd9b23-a4f6-4287-d5d5-776ce42871b0"
      },
      "source": [
        "# Answer\n",
        "tips.plot.scatter(x='total_bill',y='tip',alpha=0.5)"
      ],
      "execution_count": null,
      "outputs": [
        {
          "output_type": "execute_result",
          "data": {
            "text/plain": [
              "<matplotlib.axes._subplots.AxesSubplot at 0x7f0e4fa74090>"
            ]
          },
          "metadata": {},
          "execution_count": 13
        },
        {
          "output_type": "display_data",
          "data": {
            "image/png": "[encoded data removed]",
            "text/plain": [
              "<Figure size 432x288 with 1 Axes>"
            ]
          },
          "metadata": {
            "needs_background": "light"
          }
        }
      ]
    },
    {
      "cell_type": "markdown",
      "metadata": {
        "id": "qhwEnRp4e3Xv"
      },
      "source": [
        "### 질문\n",
        "* 질문: 영수 금액이 많을수록 팁을 많이 주나요?  \n",
        "* 답변: 산포도 상으로 대체로 정비례하는 경향을 보이나 반드시 영수 금액이 많다고 팁을 많이 주거나 영수 금액이 적다고 팁을 적게 주는 것도 아니다"
      ]
    },
    {
      "cell_type": "markdown",
      "metadata": {
        "id": "1ti73eAvnb2V"
      },
      "source": [
        "# Q4. 웨이터 A에게 출근일과 시간대 추천하기\n",
        "\n",
        "웨이터 A는 일주일에 딱 한 타임(ex. 금요일 저녁 시간대)만 일 할 수 있습니다. 그리고 이왕에 하는 일이라면 팁을 많이 받을 수 있는 날에 출근하고 싶습니다.  \n",
        "\n",
        "`pivot_table` 함수를 이용하여 팁을 최대로 받을 수 있는 출근일, 시간대를 계산해보고 웨이터 A에게 알려줍시다.  "
      ]
    },
    {
      "cell_type": "code",
      "metadata": {
        "id": "2LWJ5VQ3rwv3",
        "colab": {
          "base_uri": "https://localhost:8080/"
        },
        "outputId": "b4bed6ec-e319-4d2b-d9f1-d4fcd62b38b2"
      },
      "source": [
        "# Answer. groupby 사용\n",
        "tips.groupby(['day','time'])['tip'].sum()"
      ],
      "execution_count": null,
      "outputs": [
        {
          "output_type": "execute_result",
          "data": {
            "text/plain": [
              "day   time  \n",
              "Fri   Dinner     35.28\n",
              "      Lunch      16.68\n",
              "Sat   Dinner    260.40\n",
              "Sun   Dinner    247.39\n",
              "Thur  Dinner      3.00\n",
              "      Lunch     168.83\n",
              "Name: tip, dtype: float64"
            ]
          },
          "metadata": {},
          "execution_count": 16
        }
      ]
    },
    {
      "cell_type": "code",
      "metadata": {
        "colab": {
          "base_uri": "https://localhost:8080/",
          "height": 206
        },
        "id": "ATZ5ZCOxy5Vr",
        "outputId": "1c276eb5-53af-47d8-eac5-a5f4b3470fee"
      },
      "source": [
        "# Answer. Pivotting\n",
        "tips.pivot_table(index='day',columns='time',values='tip',aggfunc='sum')"
      ],
      "execution_count": null,
      "outputs": [
        {
          "output_type": "execute_result",
          "data": {
            "text/html": [
              "<div>\n",
              "<style scoped>\n",
              "    .dataframe tbody tr th:only-of-type {\n",
              "        vertical-align: middle;\n",
              "    }\n",
              "\n",
              "    .dataframe tbody tr th {\n",
              "        vertical-align: top;\n",
              "    }\n",
              "\n",
              "    .dataframe thead th {\n",
              "        text-align: right;\n",
              "    }\n",
              "</style>\n",
              "<table border=\"1\" class=\"dataframe\">\n",
              "  <thead>\n",
              "    <tr style=\"text-align: right;\">\n",
              "      <th>time</th>\n",
              "      <th>Dinner</th>\n",
              "      <th>Lunch</th>\n",
              "    </tr>\n",
              "    <tr>\n",
              "      <th>day</th>\n",
              "      <th></th>\n",
              "      <th></th>\n",
              "    </tr>\n",
              "  </thead>\n",
              "  <tbody>\n",
              "    <tr>\n",
              "      <th>Fri</th>\n",
              "      <td>35.28</td>\n",
              "      <td>16.68</td>\n",
              "    </tr>\n",
              "    <tr>\n",
              "      <th>Sat</th>\n",
              "      <td>260.40</td>\n",
              "      <td>NaN</td>\n",
              "    </tr>\n",
              "    <tr>\n",
              "      <th>Sun</th>\n",
              "      <td>247.39</td>\n",
              "      <td>NaN</td>\n",
              "    </tr>\n",
              "    <tr>\n",
              "      <th>Thur</th>\n",
              "      <td>3.00</td>\n",
              "      <td>168.83</td>\n",
              "    </tr>\n",
              "  </tbody>\n",
              "</table>\n",
              "</div>"
            ],
            "text/plain": [
              "time  Dinner   Lunch\n",
              "day                 \n",
              "Fri    35.28   16.68\n",
              "Sat   260.40     NaN\n",
              "Sun   247.39     NaN\n",
              "Thur    3.00  168.83"
            ]
          },
          "metadata": {},
          "execution_count": 18
        }
      ]
    },
    {
      "cell_type": "markdown",
      "metadata": {
        "id": "io1l0FAcvueu"
      },
      "source": [
        "### 웨이터 A의 질문\n",
        "* 웨이터 A: 일주일에 딱 한 타임만 출근할 수 있습니다. 어떤 요일과 시간대에 출근해야 팁을 많이 받을 수 있을까요? 얼마나 받을 수 있나요?   \n",
        "* 답변: 토요일 저녁, 260달러 받을 수 있다"
      ]
    },
    {
      "cell_type": "markdown",
      "metadata": {
        "id": "fvWzxxEswhHV"
      },
      "source": [
        "# Q5. 웨이터 B에게 출근일 추천하기\n",
        "\n",
        "웨이터 B는 일주일에 딱 하루만 일 할 수 있습니다. 웨이터 B는 효율을 중시하는 사람입니다. 딱 한 팀만 받아도 괜찮으니 손님 1명 당 팁을 많이 받을 수 있는 날에 일하고 싶습니다.\n",
        "\n",
        "`pivot_table` 함수 또는 `groupby` 를 이용하여 손님 1명 당 팁을 많이 받을 수 있는 날을 구해주세요."
      ]
    },
    {
      "cell_type": "code",
      "metadata": {
        "id": "xNntPx08-XnQ",
        "colab": {
          "base_uri": "https://localhost:8080/",
          "height": 261
        },
        "outputId": "8d267369-3454-4680-de3d-a514671e5522"
      },
      "source": [
        "# Answer groupby 사용\n",
        "# 손님 1명 당 팁 = 팁/size 가 가장 큰 날: 금요일\n",
        "\n",
        "tips_daily = tips.groupby(['day'])['tip','size'].sum()\n",
        "tips_daily['daily_person'] = tips_daily['tip']/tips_daily['size']\n",
        "tips_daily"
      ],
      "execution_count": null,
      "outputs": [
        {
          "output_type": "stream",
          "name": "stderr",
          "text": [
            "/usr/local/lib/python3.7/dist-packages/ipykernel_launcher.py:4: FutureWarning: Indexing with multiple keys (implicitly converted to a tuple of keys) will be deprecated, use a list instead.\n",
            "  after removing the cwd from sys.path.\n"
          ]
        },
        {
          "output_type": "execute_result",
          "data": {
            "text/html": [
              "<div>\n",
              "<style scoped>\n",
              "    .dataframe tbody tr th:only-of-type {\n",
              "        vertical-align: middle;\n",
              "    }\n",
              "\n",
              "    .dataframe tbody tr th {\n",
              "        vertical-align: top;\n",
              "    }\n",
              "\n",
              "    .dataframe thead th {\n",
              "        text-align: right;\n",
              "    }\n",
              "</style>\n",
              "<table border=\"1\" class=\"dataframe\">\n",
              "  <thead>\n",
              "    <tr style=\"text-align: right;\">\n",
              "      <th></th>\n",
              "      <th>tip</th>\n",
              "      <th>size</th>\n",
              "      <th>daily_person</th>\n",
              "    </tr>\n",
              "    <tr>\n",
              "      <th>day</th>\n",
              "      <th></th>\n",
              "      <th></th>\n",
              "      <th></th>\n",
              "    </tr>\n",
              "  </thead>\n",
              "  <tbody>\n",
              "    <tr>\n",
              "      <th>Fri</th>\n",
              "      <td>51.96</td>\n",
              "      <td>40</td>\n",
              "      <td>1.299000</td>\n",
              "    </tr>\n",
              "    <tr>\n",
              "      <th>Sat</th>\n",
              "      <td>260.40</td>\n",
              "      <td>219</td>\n",
              "      <td>1.189041</td>\n",
              "    </tr>\n",
              "    <tr>\n",
              "      <th>Sun</th>\n",
              "      <td>247.39</td>\n",
              "      <td>216</td>\n",
              "      <td>1.145324</td>\n",
              "    </tr>\n",
              "    <tr>\n",
              "      <th>Thur</th>\n",
              "      <td>171.83</td>\n",
              "      <td>152</td>\n",
              "      <td>1.130461</td>\n",
              "    </tr>\n",
              "  </tbody>\n",
              "</table>\n",
              "</div>"
            ],
            "text/plain": [
              "         tip  size  daily_person\n",
              "day                             \n",
              "Fri    51.96    40      1.299000\n",
              "Sat   260.40   219      1.189041\n",
              "Sun   247.39   216      1.145324\n",
              "Thur  171.83   152      1.130461"
            ]
          },
          "metadata": {},
          "execution_count": 22
        }
      ]
    },
    {
      "cell_type": "code",
      "metadata": {
        "colab": {
          "base_uri": "https://localhost:8080/",
          "height": 206
        },
        "id": "7yWL5SJJzRI_",
        "outputId": "523f387e-a8e2-45b5-9f02-e7c5ae25a569"
      },
      "source": [
        "# Answer pivotting\n",
        "tips_daily_pv = tips.pivot_table(index='day',values=['tip','size'], aggfunc='sum')\n",
        "tips_daily_pv['daily_person'] = tips_daily_pv['tip']/tips_daily_pv['size']\n",
        "tips_daily_pv"
      ],
      "execution_count": null,
      "outputs": [
        {
          "output_type": "execute_result",
          "data": {
            "text/html": [
              "<div>\n",
              "<style scoped>\n",
              "    .dataframe tbody tr th:only-of-type {\n",
              "        vertical-align: middle;\n",
              "    }\n",
              "\n",
              "    .dataframe tbody tr th {\n",
              "        vertical-align: top;\n",
              "    }\n",
              "\n",
              "    .dataframe thead th {\n",
              "        text-align: right;\n",
              "    }\n",
              "</style>\n",
              "<table border=\"1\" class=\"dataframe\">\n",
              "  <thead>\n",
              "    <tr style=\"text-align: right;\">\n",
              "      <th></th>\n",
              "      <th>size</th>\n",
              "      <th>tip</th>\n",
              "      <th>daily_person</th>\n",
              "    </tr>\n",
              "    <tr>\n",
              "      <th>day</th>\n",
              "      <th></th>\n",
              "      <th></th>\n",
              "      <th></th>\n",
              "    </tr>\n",
              "  </thead>\n",
              "  <tbody>\n",
              "    <tr>\n",
              "      <th>Fri</th>\n",
              "      <td>40</td>\n",
              "      <td>51.96</td>\n",
              "      <td>1.299000</td>\n",
              "    </tr>\n",
              "    <tr>\n",
              "      <th>Sat</th>\n",
              "      <td>219</td>\n",
              "      <td>260.40</td>\n",
              "      <td>1.189041</td>\n",
              "    </tr>\n",
              "    <tr>\n",
              "      <th>Sun</th>\n",
              "      <td>216</td>\n",
              "      <td>247.39</td>\n",
              "      <td>1.145324</td>\n",
              "    </tr>\n",
              "    <tr>\n",
              "      <th>Thur</th>\n",
              "      <td>152</td>\n",
              "      <td>171.83</td>\n",
              "      <td>1.130461</td>\n",
              "    </tr>\n",
              "  </tbody>\n",
              "</table>\n",
              "</div>"
            ],
            "text/plain": [
              "      size     tip  daily_person\n",
              "day                             \n",
              "Fri     40   51.96      1.299000\n",
              "Sat    219  260.40      1.189041\n",
              "Sun    216  247.39      1.145324\n",
              "Thur   152  171.83      1.130461"
            ]
          },
          "metadata": {},
          "execution_count": 24
        }
      ]
    },
    {
      "cell_type": "markdown",
      "metadata": {
        "id": "GxaBrAFYtPeG"
      },
      "source": [
        "### 웨이터 B의 질문\n",
        "* 웨이터 B: 일주일에 하루만 출근할 수 있습니다. 어떤 요일에 출근해야 제공한 서비스 대비 팁을 많이 받을 수 있을까요? 손님 한 명 당 팁을 많이 받을 수 있는 날을 추천해주세요.  \n",
        "* 답변:  금요일에 출근하세요 손님 당 1.29달러를 받을 수 있답니다"
      ]
    },
    {
      "cell_type": "markdown",
      "metadata": {
        "id": "CWrqFe7_CJ9p"
      },
      "source": [
        "# Q6. 추가 분석 - 1. 성별과 팁의 관계\n",
        "\n",
        "성별에 따라 팁의 액수가 다를까?"
      ]
    },
    {
      "cell_type": "code",
      "metadata": {
        "id": "_F1t62whEDTG",
        "colab": {
          "base_uri": "https://localhost:8080/",
          "height": 297
        },
        "outputId": "80c18212-bbd2-4614-fe13-9596a16080d3"
      },
      "source": [
        "# 추가 분석\n",
        "tips.plot.scatter(x='sex',y='tip',alpha=0.5)"
      ],
      "execution_count": null,
      "outputs": [
        {
          "output_type": "execute_result",
          "data": {
            "text/plain": [
              "<matplotlib.axes._subplots.AxesSubplot at 0x7f0e4e9712d0>"
            ]
          },
          "metadata": {},
          "execution_count": 25
        },
        {
          "output_type": "display_data",
          "data": {
            "image/png": "[encoded data removed]",
            "text/plain": [
              "<Figure size 432x288 with 1 Axes>"
            ]
          },
          "metadata": {
            "needs_background": "light"
          }
        }
      ]
    },
    {
      "cell_type": "markdown",
      "metadata": {
        "id": "QXiEFsZY_yu2"
      },
      "source": [
        "# 수고하셨습니다!"
      ]
    }
  ]
}