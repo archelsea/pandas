{
  "nbformat": 4,
  "nbformat_minor": 0,
  "metadata": {
    "colab": {
      "name": "✅ Section 2. 원하는 데이터 선택하기 (문제)",
      "provenance": [],
      "collapsed_sections": []
    },
    "kernelspec": {
      "name": "python3",
      "display_name": "Python 3"
    },
    "language_info": {
      "name": "python"
    }
  },
  "cells": [
    {
      "cell_type": "code",
      "metadata": {
        "id": "MF9ApDOHwt04"
      },
      "source": [
        "import pandas as pd"
      ],
      "execution_count": 1,
      "outputs": []
    },
    {
      "cell_type": "code",
      "metadata": {
        "id": "wovY-IWEKXHx"
      },
      "source": [
        "match_results = pd.read_csv('https://raw.githubusercontent.com/datarian-kr/pandas/main/data/volleyball_olympics2020_20210731/jpn-kor_match_results.csv')\n",
        "kor_team = pd.read_csv('https://raw.githubusercontent.com/datarian-kr/pandas/main/data/volleyball_olympics2020_20210731/kor_team_rosters.csv')"
      ],
      "execution_count": 2,
      "outputs": []
    },
    {
      "cell_type": "markdown",
      "metadata": {
        "id": "vGnssYSQVDDX"
      },
      "source": [
        "# 데이터 설명 \n",
        " \n",
        "`match_results`는 올 여름에 열린 도쿄 하계올림픽 2020의 여자배구 경기 중 2021-07-31에 진행된 한일전의 결과 데이터입니다. "
      ]
    },
    {
      "cell_type": "markdown",
      "metadata": {
        "id": "VPlUXGIbcZaK"
      },
      "source": [
        "**컬럼 상세**\n",
        "- set: 1~5세트\n",
        "- japan: 일본 스코어\n",
        "- korea: 한국 스코어\n",
        "- playing_time: 세트 진행 시간(분)"
      ]
    },
    {
      "cell_type": "markdown",
      "metadata": {
        "id": "2f_RmZ0hcpLB"
      },
      "source": [
        "`kor_team`은 도쿄 하계올림픽 2020에 출전한 여자배구 한국 팀의 멤버(선수, 코칭스태프) 프로필 데이터입니다."
      ]
    },
    {
      "cell_type": "markdown",
      "metadata": {
        "id": "o9aT6K63c6mh"
      },
      "source": [
        "**컬럼 상세**\n",
        "- player_no: 선수 유니폼 번호 (선수가 아닌 경우 null)\n",
        "- player_name: 이름\n",
        "- shirt_name: 선수 유니폼에 명시된 이름 (선수가 아닌 경우 null)\n",
        "- position: 포지션\n",
        "- hand: 사용하는 손 (선수가 아닌 경우 null)\n",
        "- height: 신장 cm (선수가 아닌 경우 null)\n",
        "- highest_reach_spike: 스파이크 높이 최고 기록 cm (선수가 아닌 경우 null)\n",
        "- highest_reach_block: 블로킹 높이 최고 기록 cm (선수가 아닌 경우 null)\n",
        "- date_of_birth: 선수 생년월일 (선수가 아닌 경우 null)"
      ]
    },
    {
      "cell_type": "markdown",
      "metadata": {
        "id": "juElngHuYZ0h"
      },
      "source": [
        "# 데이터 미리보기"
      ]
    },
    {
      "cell_type": "code",
      "metadata": {
        "colab": {
          "base_uri": "https://localhost:8080/",
          "height": 206
        },
        "id": "bX3jZdDLS5BH",
        "outputId": "b6205a2a-3541-4880-f7ba-8c0c356a8c16"
      },
      "source": [
        "match_results"
      ],
      "execution_count": 3,
      "outputs": [
        {
          "output_type": "execute_result",
          "data": {
            "text/html": [
              "<div>\n",
              "<style scoped>\n",
              "    .dataframe tbody tr th:only-of-type {\n",
              "        vertical-align: middle;\n",
              "    }\n",
              "\n",
              "    .dataframe tbody tr th {\n",
              "        vertical-align: top;\n",
              "    }\n",
              "\n",
              "    .dataframe thead th {\n",
              "        text-align: right;\n",
              "    }\n",
              "</style>\n",
              "<table border=\"1\" class=\"dataframe\">\n",
              "  <thead>\n",
              "    <tr style=\"text-align: right;\">\n",
              "      <th></th>\n",
              "      <th>set</th>\n",
              "      <th>japan</th>\n",
              "      <th>korea</th>\n",
              "      <th>playing_time</th>\n",
              "    </tr>\n",
              "  </thead>\n",
              "  <tbody>\n",
              "    <tr>\n",
              "      <th>0</th>\n",
              "      <td>1</td>\n",
              "      <td>19</td>\n",
              "      <td>25</td>\n",
              "      <td>29</td>\n",
              "    </tr>\n",
              "    <tr>\n",
              "      <th>1</th>\n",
              "      <td>2</td>\n",
              "      <td>25</td>\n",
              "      <td>19</td>\n",
              "      <td>28</td>\n",
              "    </tr>\n",
              "    <tr>\n",
              "      <th>2</th>\n",
              "      <td>3</td>\n",
              "      <td>22</td>\n",
              "      <td>25</td>\n",
              "      <td>31</td>\n",
              "    </tr>\n",
              "    <tr>\n",
              "      <th>3</th>\n",
              "      <td>4</td>\n",
              "      <td>25</td>\n",
              "      <td>15</td>\n",
              "      <td>25</td>\n",
              "    </tr>\n",
              "    <tr>\n",
              "      <th>4</th>\n",
              "      <td>5</td>\n",
              "      <td>14</td>\n",
              "      <td>16</td>\n",
              "      <td>24</td>\n",
              "    </tr>\n",
              "  </tbody>\n",
              "</table>\n",
              "</div>"
            ],
            "text/plain": [
              "   set  japan  korea  playing_time\n",
              "0    1     19     25            29\n",
              "1    2     25     19            28\n",
              "2    3     22     25            31\n",
              "3    4     25     15            25\n",
              "4    5     14     16            24"
            ]
          },
          "metadata": {},
          "execution_count": 3
        }
      ]
    },
    {
      "cell_type": "code",
      "metadata": {
        "colab": {
          "base_uri": "https://localhost:8080/",
          "height": 519
        },
        "id": "24WBzdSzVAEC",
        "outputId": "c3e600e0-496d-4220-9a5d-57b8b64e08e5"
      },
      "source": [
        "kor_team"
      ],
      "execution_count": 4,
      "outputs": [
        {
          "output_type": "execute_result",
          "data": {
            "text/html": [
              "<div>\n",
              "<style scoped>\n",
              "    .dataframe tbody tr th:only-of-type {\n",
              "        vertical-align: middle;\n",
              "    }\n",
              "\n",
              "    .dataframe tbody tr th {\n",
              "        vertical-align: top;\n",
              "    }\n",
              "\n",
              "    .dataframe thead th {\n",
              "        text-align: right;\n",
              "    }\n",
              "</style>\n",
              "<table border=\"1\" class=\"dataframe\">\n",
              "  <thead>\n",
              "    <tr style=\"text-align: right;\">\n",
              "      <th></th>\n",
              "      <th>player_no</th>\n",
              "      <th>player_name</th>\n",
              "      <th>shirt_name</th>\n",
              "      <th>position</th>\n",
              "      <th>hand</th>\n",
              "      <th>height</th>\n",
              "      <th>highest_reach_spike</th>\n",
              "      <th>highest_reach_block</th>\n",
              "      <th>date_of_birth</th>\n",
              "    </tr>\n",
              "  </thead>\n",
              "  <tbody>\n",
              "    <tr>\n",
              "      <th>0</th>\n",
              "      <td>1.0</td>\n",
              "      <td>LEE Soyoung</td>\n",
              "      <td>LEE SOYOUNG</td>\n",
              "      <td>Outside Hitter</td>\n",
              "      <td>Right</td>\n",
              "      <td>176.0</td>\n",
              "      <td>270.0</td>\n",
              "      <td>255.0</td>\n",
              "      <td>1994-10-17</td>\n",
              "    </tr>\n",
              "    <tr>\n",
              "      <th>1</th>\n",
              "      <td>3.0</td>\n",
              "      <td>YEUM Hye Seon</td>\n",
              "      <td>YEUM HYE SEON</td>\n",
              "      <td>Setter</td>\n",
              "      <td>Right</td>\n",
              "      <td>176.0</td>\n",
              "      <td>262.0</td>\n",
              "      <td>247.0</td>\n",
              "      <td>1991-02-03</td>\n",
              "    </tr>\n",
              "    <tr>\n",
              "      <th>2</th>\n",
              "      <td>4.0</td>\n",
              "      <td>KIM Heejin</td>\n",
              "      <td>KIM HEEJIN</td>\n",
              "      <td>Opposite</td>\n",
              "      <td>Right</td>\n",
              "      <td>185.0</td>\n",
              "      <td>305.0</td>\n",
              "      <td>290.0</td>\n",
              "      <td>1991-04-29</td>\n",
              "    </tr>\n",
              "    <tr>\n",
              "      <th>3</th>\n",
              "      <td>7.0</td>\n",
              "      <td>AN Hyejin</td>\n",
              "      <td>AN HYEJIN</td>\n",
              "      <td>Setter</td>\n",
              "      <td>Right</td>\n",
              "      <td>175.0</td>\n",
              "      <td>256.0</td>\n",
              "      <td>231.0</td>\n",
              "      <td>1998-02-16</td>\n",
              "    </tr>\n",
              "    <tr>\n",
              "      <th>4</th>\n",
              "      <td>8.0</td>\n",
              "      <td>PARK Eunjin</td>\n",
              "      <td>PARK EUNJIN</td>\n",
              "      <td>Middle Blocker</td>\n",
              "      <td>Right</td>\n",
              "      <td>187.0</td>\n",
              "      <td>296.0</td>\n",
              "      <td>281.0</td>\n",
              "      <td>1999-12-15</td>\n",
              "    </tr>\n",
              "    <tr>\n",
              "      <th>5</th>\n",
              "      <td>9.0</td>\n",
              "      <td>OH Jiyoung</td>\n",
              "      <td>OH JIYOUNG</td>\n",
              "      <td>Libero</td>\n",
              "      <td>Right</td>\n",
              "      <td>170.0</td>\n",
              "      <td>267.0</td>\n",
              "      <td>252.0</td>\n",
              "      <td>1988-07-11</td>\n",
              "    </tr>\n",
              "    <tr>\n",
              "      <th>6</th>\n",
              "      <td>10.0</td>\n",
              "      <td>KIM Yeon Koung (c)</td>\n",
              "      <td>KIM YEON KOUNG</td>\n",
              "      <td>Outside Hitter</td>\n",
              "      <td>Right</td>\n",
              "      <td>192.0</td>\n",
              "      <td>310.0</td>\n",
              "      <td>300.0</td>\n",
              "      <td>1988-02-26</td>\n",
              "    </tr>\n",
              "    <tr>\n",
              "      <th>7</th>\n",
              "      <td>11.0</td>\n",
              "      <td>KIM Su Ji</td>\n",
              "      <td>KIM SU JI</td>\n",
              "      <td>Middle Blocker</td>\n",
              "      <td>Right</td>\n",
              "      <td>188.0</td>\n",
              "      <td>283.0</td>\n",
              "      <td>268.0</td>\n",
              "      <td>1987-07-11</td>\n",
              "    </tr>\n",
              "    <tr>\n",
              "      <th>8</th>\n",
              "      <td>13.0</td>\n",
              "      <td>PARK Jeongah</td>\n",
              "      <td>PARK JEONGAH</td>\n",
              "      <td>Outside Hitter</td>\n",
              "      <td>Right</td>\n",
              "      <td>187.0</td>\n",
              "      <td>291.0</td>\n",
              "      <td>276.0</td>\n",
              "      <td>1993-03-26</td>\n",
              "    </tr>\n",
              "    <tr>\n",
              "      <th>9</th>\n",
              "      <td>14.0</td>\n",
              "      <td>YANG Hyo Jin</td>\n",
              "      <td>YANG HYO JIN</td>\n",
              "      <td>Middle Blocker</td>\n",
              "      <td>Right</td>\n",
              "      <td>190.0</td>\n",
              "      <td>298.0</td>\n",
              "      <td>283.0</td>\n",
              "      <td>1989-12-14</td>\n",
              "    </tr>\n",
              "    <tr>\n",
              "      <th>10</th>\n",
              "      <td>16.0</td>\n",
              "      <td>JEONG Jiyun</td>\n",
              "      <td>JEONG JIYUN</td>\n",
              "      <td>Opposite</td>\n",
              "      <td>Right</td>\n",
              "      <td>180.0</td>\n",
              "      <td>295.0</td>\n",
              "      <td>280.0</td>\n",
              "      <td>2001-01-01</td>\n",
              "    </tr>\n",
              "    <tr>\n",
              "      <th>11</th>\n",
              "      <td>19.0</td>\n",
              "      <td>PYO Seungju</td>\n",
              "      <td>PYO SEUNGJU</td>\n",
              "      <td>Outside Hitter</td>\n",
              "      <td>Right</td>\n",
              "      <td>182.0</td>\n",
              "      <td>275.0</td>\n",
              "      <td>260.0</td>\n",
              "      <td>1992-08-07</td>\n",
              "    </tr>\n",
              "    <tr>\n",
              "      <th>12</th>\n",
              "      <td>NaN</td>\n",
              "      <td>LAVARINI Stefano (ITA)</td>\n",
              "      <td>NaN</td>\n",
              "      <td>Head Coach</td>\n",
              "      <td>NaN</td>\n",
              "      <td>NaN</td>\n",
              "      <td>NaN</td>\n",
              "      <td>NaN</td>\n",
              "      <td>NaN</td>\n",
              "    </tr>\n",
              "    <tr>\n",
              "      <th>13</th>\n",
              "      <td>NaN</td>\n",
              "      <td>HERNANDEZ GONZALEZ Cesar (ESP)</td>\n",
              "      <td>NaN</td>\n",
              "      <td>Assistant Coach</td>\n",
              "      <td>NaN</td>\n",
              "      <td>NaN</td>\n",
              "      <td>NaN</td>\n",
              "      <td>NaN</td>\n",
              "      <td>NaN</td>\n",
              "    </tr>\n",
              "    <tr>\n",
              "      <th>14</th>\n",
              "      <td>NaN</td>\n",
              "      <td>CHOI Yunji</td>\n",
              "      <td>NaN</td>\n",
              "      <td>Assistant Coach</td>\n",
              "      <td>NaN</td>\n",
              "      <td>NaN</td>\n",
              "      <td>NaN</td>\n",
              "      <td>NaN</td>\n",
              "      <td>NaN</td>\n",
              "    </tr>\n",
              "  </tbody>\n",
              "</table>\n",
              "</div>"
            ],
            "text/plain": [
              "    player_no  ... date_of_birth\n",
              "0         1.0  ...    1994-10-17\n",
              "1         3.0  ...    1991-02-03\n",
              "2         4.0  ...    1991-04-29\n",
              "3         7.0  ...    1998-02-16\n",
              "4         8.0  ...    1999-12-15\n",
              "5         9.0  ...    1988-07-11\n",
              "6        10.0  ...    1988-02-26\n",
              "7        11.0  ...    1987-07-11\n",
              "8        13.0  ...    1993-03-26\n",
              "9        14.0  ...    1989-12-14\n",
              "10       16.0  ...    2001-01-01\n",
              "11       19.0  ...    1992-08-07\n",
              "12        NaN  ...           NaN\n",
              "13        NaN  ...           NaN\n",
              "14        NaN  ...           NaN\n",
              "\n",
              "[15 rows x 9 columns]"
            ]
          },
          "metadata": {},
          "execution_count": 4
        }
      ]
    },
    {
      "cell_type": "markdown",
      "metadata": {
        "id": "iwaDq3F8WB_u"
      },
      "source": [
        "# Q1. 승리 팀 찾기\n",
        "배구는 5판 3선승제 입니다. 먼저 3개 세트를 가져온 팀이 최종으로 승리합니다.\n",
        "\n",
        "한국과 일본 중 어떤 팀이 몇 세트를 가져와서 최종 승리했을까요?   \n",
        "- Step 1. 한국이 더 많은 점수를 낸 세트의 데이터(행)만 가져오기    \n",
        "- Step 2. 이 중에서 세트의 번호('set' 컬럼 값)만 출력하기"
      ]
    },
    {
      "cell_type": "code",
      "metadata": {
        "id": "HfL6K2y_VjUG",
        "colab": {
          "base_uri": "https://localhost:8080/",
          "height": 143
        },
        "outputId": "1ecf1ff9-dd91-4d97-df7c-6156fb1a2f59"
      },
      "source": [
        "# step 1\n",
        "match_results[match_results['japan'] < match_results['korea']]"
      ],
      "execution_count": 6,
      "outputs": [
        {
          "output_type": "execute_result",
          "data": {
            "text/html": [
              "<div>\n",
              "<style scoped>\n",
              "    .dataframe tbody tr th:only-of-type {\n",
              "        vertical-align: middle;\n",
              "    }\n",
              "\n",
              "    .dataframe tbody tr th {\n",
              "        vertical-align: top;\n",
              "    }\n",
              "\n",
              "    .dataframe thead th {\n",
              "        text-align: right;\n",
              "    }\n",
              "</style>\n",
              "<table border=\"1\" class=\"dataframe\">\n",
              "  <thead>\n",
              "    <tr style=\"text-align: right;\">\n",
              "      <th></th>\n",
              "      <th>set</th>\n",
              "      <th>japan</th>\n",
              "      <th>korea</th>\n",
              "      <th>playing_time</th>\n",
              "    </tr>\n",
              "  </thead>\n",
              "  <tbody>\n",
              "    <tr>\n",
              "      <th>0</th>\n",
              "      <td>1</td>\n",
              "      <td>19</td>\n",
              "      <td>25</td>\n",
              "      <td>29</td>\n",
              "    </tr>\n",
              "    <tr>\n",
              "      <th>2</th>\n",
              "      <td>3</td>\n",
              "      <td>22</td>\n",
              "      <td>25</td>\n",
              "      <td>31</td>\n",
              "    </tr>\n",
              "    <tr>\n",
              "      <th>4</th>\n",
              "      <td>5</td>\n",
              "      <td>14</td>\n",
              "      <td>16</td>\n",
              "      <td>24</td>\n",
              "    </tr>\n",
              "  </tbody>\n",
              "</table>\n",
              "</div>"
            ],
            "text/plain": [
              "   set  japan  korea  playing_time\n",
              "0    1     19     25            29\n",
              "2    3     22     25            31\n",
              "4    5     14     16            24"
            ]
          },
          "metadata": {},
          "execution_count": 6
        }
      ]
    },
    {
      "cell_type": "code",
      "metadata": {
        "id": "N4qv2qeDWA2Q",
        "colab": {
          "base_uri": "https://localhost:8080/"
        },
        "outputId": "badda8d7-d00d-4a9a-9d85-906b5419dfdf"
      },
      "source": [
        "# step 2\n",
        "match_results.loc[match_results['japan']<match_results['korea'],'set']"
      ],
      "execution_count": 7,
      "outputs": [
        {
          "output_type": "execute_result",
          "data": {
            "text/plain": [
              "0    1\n",
              "2    3\n",
              "4    5\n",
              "Name: set, dtype: int64"
            ]
          },
          "metadata": {},
          "execution_count": 7
        }
      ]
    },
    {
      "cell_type": "markdown",
      "metadata": {
        "id": "YsK2z5A6Xutv"
      },
      "source": [
        "### 질문\n",
        "\n",
        "* 질문: 한일전은 총 몇 세트의 경기가 진행되었나요? 그 중에 한국이 일본을 이긴 세트는 몇 세트인가요? 최종 스코어를 알려주세요.\n",
        "* 답변:총 5세트의 경기가 진행되었으며, 그 중 1,3,5 세트에서 일본에게 승리를 거두었습니다.최종 스코어는 3:2로 한국의 승리입니다."
      ]
    },
    {
      "cell_type": "markdown",
      "metadata": {
        "id": "nGhQinNVbbha"
      },
      "source": [
        "# Q2. 선수들이 가장 오래 뛴 세트 찾기 \n",
        "두 팀이 번갈아가며 1세트씩 주고 받는 바람에 경기가 5세트까지 모두 진행됐습니다. '풀세트를 뛰었다'라고도 합니다.\n",
        "\n",
        "선수들이 무척 힘들었을 것 같은데요. 그 중에서도 시간상으로 가장 오래 진행된 세트는 몇 세트인가요?\n",
        "- Step 1. 가장 오래 진행된 세트의 경기 시간을 'longest' 변수에 저장 `(Hint: 섹션1 '판다스 연산 맛보기' 강의를 떠올려 보세요.)`\n",
        "- Step 2. 위 경기 시간에 해당하는 세트의 데이터 가져오기"
      ]
    },
    {
      "cell_type": "code",
      "metadata": {
        "id": "ZF9ajJh-ZOYz"
      },
      "source": [
        "# step 1 \n",
        "longest  = match_results['playing_time'].max()"
      ],
      "execution_count": 9,
      "outputs": []
    },
    {
      "cell_type": "code",
      "metadata": {
        "colab": {
          "base_uri": "https://localhost:8080/"
        },
        "id": "Ap7h2OwTEMZz",
        "outputId": "4ecdddcd-fb94-488f-832e-8a4fd0fdd424"
      },
      "source": [
        "match_results['playing_time'] == longest"
      ],
      "execution_count": 12,
      "outputs": [
        {
          "output_type": "execute_result",
          "data": {
            "text/plain": [
              "0    False\n",
              "1    False\n",
              "2     True\n",
              "3    False\n",
              "4    False\n",
              "Name: playing_time, dtype: bool"
            ]
          },
          "metadata": {},
          "execution_count": 12
        }
      ]
    },
    {
      "cell_type": "code",
      "metadata": {
        "id": "faDuk-qFqAgY",
        "colab": {
          "base_uri": "https://localhost:8080/",
          "height": 81
        },
        "outputId": "58116455-dec5-4807-ef05-91994afaf51e"
      },
      "source": [
        "# step 2\n",
        "match_results[match_results['playing_time'] == longest]"
      ],
      "execution_count": 11,
      "outputs": [
        {
          "output_type": "execute_result",
          "data": {
            "text/html": [
              "<div>\n",
              "<style scoped>\n",
              "    .dataframe tbody tr th:only-of-type {\n",
              "        vertical-align: middle;\n",
              "    }\n",
              "\n",
              "    .dataframe tbody tr th {\n",
              "        vertical-align: top;\n",
              "    }\n",
              "\n",
              "    .dataframe thead th {\n",
              "        text-align: right;\n",
              "    }\n",
              "</style>\n",
              "<table border=\"1\" class=\"dataframe\">\n",
              "  <thead>\n",
              "    <tr style=\"text-align: right;\">\n",
              "      <th></th>\n",
              "      <th>set</th>\n",
              "      <th>japan</th>\n",
              "      <th>korea</th>\n",
              "      <th>playing_time</th>\n",
              "    </tr>\n",
              "  </thead>\n",
              "  <tbody>\n",
              "    <tr>\n",
              "      <th>2</th>\n",
              "      <td>3</td>\n",
              "      <td>22</td>\n",
              "      <td>25</td>\n",
              "      <td>31</td>\n",
              "    </tr>\n",
              "  </tbody>\n",
              "</table>\n",
              "</div>"
            ],
            "text/plain": [
              "   set  japan  korea  playing_time\n",
              "2    3     22     25            31"
            ]
          },
          "metadata": {},
          "execution_count": 11
        }
      ]
    },
    {
      "cell_type": "markdown",
      "metadata": {
        "id": "9ZtCxMB5k_-k"
      },
      "source": [
        "### 질문\n",
        "* 질문: 시간 상으로 가장 오래 뛴 세트는 몇 세트인가요? 해당 세트에 경기는 몇 분 진행되었나요?\n",
        "* 답변: 3세트로 31분 간 진행되었습니다"
      ]
    },
    {
      "cell_type": "markdown",
      "metadata": {
        "id": "j3MVboW65pDt"
      },
      "source": [
        "# Q3. 코칭 스태프에게 0번 유니폼을!\n",
        "유니폼에 쓰이는 번호는 선수에게만 부여됩니다.    \n",
        "번호가 없는 코칭 스태프 3명에게 0번 유니폼을 선물해 볼까요?    \n",
        "- Step 1. 유니폼 번호(player_no) 컬럼에 값이 없는 데이터 찾기\n",
        "- ***Step 2. 해당하는 데이터의 player_no 컬럼 값을 0으로 수정***"
      ]
    },
    {
      "cell_type": "code",
      "metadata": {
        "id": "CZx9kruo3g97",
        "colab": {
          "base_uri": "https://localhost:8080/",
          "height": 143
        },
        "outputId": "7ae1b9bd-9fff-4c69-e5bc-54718f756602"
      },
      "source": [
        "# step 1\n",
        "kor_team[kor_team['player_no'].isna()]"
      ],
      "execution_count": 14,
      "outputs": [
        {
          "output_type": "execute_result",
          "data": {
            "text/html": [
              "<div>\n",
              "<style scoped>\n",
              "    .dataframe tbody tr th:only-of-type {\n",
              "        vertical-align: middle;\n",
              "    }\n",
              "\n",
              "    .dataframe tbody tr th {\n",
              "        vertical-align: top;\n",
              "    }\n",
              "\n",
              "    .dataframe thead th {\n",
              "        text-align: right;\n",
              "    }\n",
              "</style>\n",
              "<table border=\"1\" class=\"dataframe\">\n",
              "  <thead>\n",
              "    <tr style=\"text-align: right;\">\n",
              "      <th></th>\n",
              "      <th>player_no</th>\n",
              "      <th>player_name</th>\n",
              "      <th>shirt_name</th>\n",
              "      <th>position</th>\n",
              "      <th>hand</th>\n",
              "      <th>height</th>\n",
              "      <th>highest_reach_spike</th>\n",
              "      <th>highest_reach_block</th>\n",
              "      <th>date_of_birth</th>\n",
              "    </tr>\n",
              "  </thead>\n",
              "  <tbody>\n",
              "    <tr>\n",
              "      <th>12</th>\n",
              "      <td>NaN</td>\n",
              "      <td>LAVARINI Stefano (ITA)</td>\n",
              "      <td>NaN</td>\n",
              "      <td>Head Coach</td>\n",
              "      <td>NaN</td>\n",
              "      <td>NaN</td>\n",
              "      <td>NaN</td>\n",
              "      <td>NaN</td>\n",
              "      <td>NaN</td>\n",
              "    </tr>\n",
              "    <tr>\n",
              "      <th>13</th>\n",
              "      <td>NaN</td>\n",
              "      <td>HERNANDEZ GONZALEZ Cesar (ESP)</td>\n",
              "      <td>NaN</td>\n",
              "      <td>Assistant Coach</td>\n",
              "      <td>NaN</td>\n",
              "      <td>NaN</td>\n",
              "      <td>NaN</td>\n",
              "      <td>NaN</td>\n",
              "      <td>NaN</td>\n",
              "    </tr>\n",
              "    <tr>\n",
              "      <th>14</th>\n",
              "      <td>NaN</td>\n",
              "      <td>CHOI Yunji</td>\n",
              "      <td>NaN</td>\n",
              "      <td>Assistant Coach</td>\n",
              "      <td>NaN</td>\n",
              "      <td>NaN</td>\n",
              "      <td>NaN</td>\n",
              "      <td>NaN</td>\n",
              "      <td>NaN</td>\n",
              "    </tr>\n",
              "  </tbody>\n",
              "</table>\n",
              "</div>"
            ],
            "text/plain": [
              "    player_no  ... date_of_birth\n",
              "12        NaN  ...           NaN\n",
              "13        NaN  ...           NaN\n",
              "14        NaN  ...           NaN\n",
              "\n",
              "[3 rows x 9 columns]"
            ]
          },
          "metadata": {},
          "execution_count": 14
        }
      ]
    },
    {
      "cell_type": "code",
      "metadata": {
        "id": "l4oEibEIlv7O"
      },
      "source": [
        "# step 2\n",
        "kor_team.loc[kor_team['player_no'].isna(), 'player_no'] = 0"
      ],
      "execution_count": 15,
      "outputs": []
    },
    {
      "cell_type": "markdown",
      "metadata": {
        "id": "Y6E37HCpvMIl"
      },
      "source": [
        "# Q4. 선수 프로필 데이터 만들기 \n",
        "코칭 스태프 데이터를 제외하고 선수 데이터만 가져와 `kor_player`라는 이름의 테이블을 생성해 주세요.\n",
        "- Step 1. 선수 데이터만 추출하여 변수 `kor_player`에 저장하기 (방법은 다양합니다! 어떤 방법을 사용해도 좋아요.)"
      ]
    },
    {
      "cell_type": "code",
      "metadata": {
        "id": "T1RkeOoTvAnj",
        "colab": {
          "base_uri": "https://localhost:8080/",
          "height": 426
        },
        "outputId": "0805bf3f-44e5-4626-f10d-68e11b17cb2c"
      },
      "source": [
        "# step 1-1 null값인거 드롭하기 \n",
        "kor_player = kor_team[kor_team['player_no'] != 0]\n",
        "kor_player"
      ],
      "execution_count": 17,
      "outputs": [
        {
          "output_type": "execute_result",
          "data": {
            "text/html": [
              "<div>\n",
              "<style scoped>\n",
              "    .dataframe tbody tr th:only-of-type {\n",
              "        vertical-align: middle;\n",
              "    }\n",
              "\n",
              "    .dataframe tbody tr th {\n",
              "        vertical-align: top;\n",
              "    }\n",
              "\n",
              "    .dataframe thead th {\n",
              "        text-align: right;\n",
              "    }\n",
              "</style>\n",
              "<table border=\"1\" class=\"dataframe\">\n",
              "  <thead>\n",
              "    <tr style=\"text-align: right;\">\n",
              "      <th></th>\n",
              "      <th>player_no</th>\n",
              "      <th>player_name</th>\n",
              "      <th>shirt_name</th>\n",
              "      <th>position</th>\n",
              "      <th>hand</th>\n",
              "      <th>height</th>\n",
              "      <th>highest_reach_spike</th>\n",
              "      <th>highest_reach_block</th>\n",
              "      <th>date_of_birth</th>\n",
              "    </tr>\n",
              "  </thead>\n",
              "  <tbody>\n",
              "    <tr>\n",
              "      <th>0</th>\n",
              "      <td>1.0</td>\n",
              "      <td>LEE Soyoung</td>\n",
              "      <td>LEE SOYOUNG</td>\n",
              "      <td>Outside Hitter</td>\n",
              "      <td>Right</td>\n",
              "      <td>176.0</td>\n",
              "      <td>270.0</td>\n",
              "      <td>255.0</td>\n",
              "      <td>1994-10-17</td>\n",
              "    </tr>\n",
              "    <tr>\n",
              "      <th>1</th>\n",
              "      <td>3.0</td>\n",
              "      <td>YEUM Hye Seon</td>\n",
              "      <td>YEUM HYE SEON</td>\n",
              "      <td>Setter</td>\n",
              "      <td>Right</td>\n",
              "      <td>176.0</td>\n",
              "      <td>262.0</td>\n",
              "      <td>247.0</td>\n",
              "      <td>1991-02-03</td>\n",
              "    </tr>\n",
              "    <tr>\n",
              "      <th>2</th>\n",
              "      <td>4.0</td>\n",
              "      <td>KIM Heejin</td>\n",
              "      <td>KIM HEEJIN</td>\n",
              "      <td>Opposite</td>\n",
              "      <td>Right</td>\n",
              "      <td>185.0</td>\n",
              "      <td>305.0</td>\n",
              "      <td>290.0</td>\n",
              "      <td>1991-04-29</td>\n",
              "    </tr>\n",
              "    <tr>\n",
              "      <th>3</th>\n",
              "      <td>7.0</td>\n",
              "      <td>AN Hyejin</td>\n",
              "      <td>AN HYEJIN</td>\n",
              "      <td>Setter</td>\n",
              "      <td>Right</td>\n",
              "      <td>175.0</td>\n",
              "      <td>256.0</td>\n",
              "      <td>231.0</td>\n",
              "      <td>1998-02-16</td>\n",
              "    </tr>\n",
              "    <tr>\n",
              "      <th>4</th>\n",
              "      <td>8.0</td>\n",
              "      <td>PARK Eunjin</td>\n",
              "      <td>PARK EUNJIN</td>\n",
              "      <td>Middle Blocker</td>\n",
              "      <td>Right</td>\n",
              "      <td>187.0</td>\n",
              "      <td>296.0</td>\n",
              "      <td>281.0</td>\n",
              "      <td>1999-12-15</td>\n",
              "    </tr>\n",
              "    <tr>\n",
              "      <th>5</th>\n",
              "      <td>9.0</td>\n",
              "      <td>OH Jiyoung</td>\n",
              "      <td>OH JIYOUNG</td>\n",
              "      <td>Libero</td>\n",
              "      <td>Right</td>\n",
              "      <td>170.0</td>\n",
              "      <td>267.0</td>\n",
              "      <td>252.0</td>\n",
              "      <td>1988-07-11</td>\n",
              "    </tr>\n",
              "    <tr>\n",
              "      <th>6</th>\n",
              "      <td>10.0</td>\n",
              "      <td>KIM Yeon Koung (c)</td>\n",
              "      <td>KIM YEON KOUNG</td>\n",
              "      <td>Outside Hitter</td>\n",
              "      <td>Right</td>\n",
              "      <td>192.0</td>\n",
              "      <td>310.0</td>\n",
              "      <td>300.0</td>\n",
              "      <td>1988-02-26</td>\n",
              "    </tr>\n",
              "    <tr>\n",
              "      <th>7</th>\n",
              "      <td>11.0</td>\n",
              "      <td>KIM Su Ji</td>\n",
              "      <td>KIM SU JI</td>\n",
              "      <td>Middle Blocker</td>\n",
              "      <td>Right</td>\n",
              "      <td>188.0</td>\n",
              "      <td>283.0</td>\n",
              "      <td>268.0</td>\n",
              "      <td>1987-07-11</td>\n",
              "    </tr>\n",
              "    <tr>\n",
              "      <th>8</th>\n",
              "      <td>13.0</td>\n",
              "      <td>PARK Jeongah</td>\n",
              "      <td>PARK JEONGAH</td>\n",
              "      <td>Outside Hitter</td>\n",
              "      <td>Right</td>\n",
              "      <td>187.0</td>\n",
              "      <td>291.0</td>\n",
              "      <td>276.0</td>\n",
              "      <td>1993-03-26</td>\n",
              "    </tr>\n",
              "    <tr>\n",
              "      <th>9</th>\n",
              "      <td>14.0</td>\n",
              "      <td>YANG Hyo Jin</td>\n",
              "      <td>YANG HYO JIN</td>\n",
              "      <td>Middle Blocker</td>\n",
              "      <td>Right</td>\n",
              "      <td>190.0</td>\n",
              "      <td>298.0</td>\n",
              "      <td>283.0</td>\n",
              "      <td>1989-12-14</td>\n",
              "    </tr>\n",
              "    <tr>\n",
              "      <th>10</th>\n",
              "      <td>16.0</td>\n",
              "      <td>JEONG Jiyun</td>\n",
              "      <td>JEONG JIYUN</td>\n",
              "      <td>Opposite</td>\n",
              "      <td>Right</td>\n",
              "      <td>180.0</td>\n",
              "      <td>295.0</td>\n",
              "      <td>280.0</td>\n",
              "      <td>2001-01-01</td>\n",
              "    </tr>\n",
              "    <tr>\n",
              "      <th>11</th>\n",
              "      <td>19.0</td>\n",
              "      <td>PYO Seungju</td>\n",
              "      <td>PYO SEUNGJU</td>\n",
              "      <td>Outside Hitter</td>\n",
              "      <td>Right</td>\n",
              "      <td>182.0</td>\n",
              "      <td>275.0</td>\n",
              "      <td>260.0</td>\n",
              "      <td>1992-08-07</td>\n",
              "    </tr>\n",
              "  </tbody>\n",
              "</table>\n",
              "</div>"
            ],
            "text/plain": [
              "    player_no         player_name  ... highest_reach_block date_of_birth\n",
              "0         1.0         LEE Soyoung  ...               255.0    1994-10-17\n",
              "1         3.0       YEUM Hye Seon  ...               247.0    1991-02-03\n",
              "2         4.0          KIM Heejin  ...               290.0    1991-04-29\n",
              "3         7.0           AN Hyejin  ...               231.0    1998-02-16\n",
              "4         8.0         PARK Eunjin  ...               281.0    1999-12-15\n",
              "5         9.0          OH Jiyoung  ...               252.0    1988-07-11\n",
              "6        10.0  KIM Yeon Koung (c)  ...               300.0    1988-02-26\n",
              "7        11.0           KIM Su Ji  ...               268.0    1987-07-11\n",
              "8        13.0        PARK Jeongah  ...               276.0    1993-03-26\n",
              "9        14.0        YANG Hyo Jin  ...               283.0    1989-12-14\n",
              "10       16.0         JEONG Jiyun  ...               280.0    2001-01-01\n",
              "11       19.0         PYO Seungju  ...               260.0    1992-08-07\n",
              "\n",
              "[12 rows x 9 columns]"
            ]
          },
          "metadata": {},
          "execution_count": 17
        }
      ]
    },
    {
      "cell_type": "code",
      "metadata": {
        "colab": {
          "base_uri": "https://localhost:8080/",
          "height": 426
        },
        "id": "1fjGRNAYFzyK",
        "outputId": "5549f627-c9f0-4a5f-b5cc-032164276495"
      },
      "source": [
        "# step 1-2 결측값 있는 행 전체 삭제\n",
        "kor_player_2 = kor_team.dropna(axis=0)\n",
        "kor_player_2"
      ],
      "execution_count": 3,
      "outputs": [
        {
          "output_type": "execute_result",
          "data": {
            "text/html": [
              "<div>\n",
              "<style scoped>\n",
              "    .dataframe tbody tr th:only-of-type {\n",
              "        vertical-align: middle;\n",
              "    }\n",
              "\n",
              "    .dataframe tbody tr th {\n",
              "        vertical-align: top;\n",
              "    }\n",
              "\n",
              "    .dataframe thead th {\n",
              "        text-align: right;\n",
              "    }\n",
              "</style>\n",
              "<table border=\"1\" class=\"dataframe\">\n",
              "  <thead>\n",
              "    <tr style=\"text-align: right;\">\n",
              "      <th></th>\n",
              "      <th>player_no</th>\n",
              "      <th>player_name</th>\n",
              "      <th>shirt_name</th>\n",
              "      <th>position</th>\n",
              "      <th>hand</th>\n",
              "      <th>height</th>\n",
              "      <th>highest_reach_spike</th>\n",
              "      <th>highest_reach_block</th>\n",
              "      <th>date_of_birth</th>\n",
              "    </tr>\n",
              "  </thead>\n",
              "  <tbody>\n",
              "    <tr>\n",
              "      <th>0</th>\n",
              "      <td>1.0</td>\n",
              "      <td>LEE Soyoung</td>\n",
              "      <td>LEE SOYOUNG</td>\n",
              "      <td>Outside Hitter</td>\n",
              "      <td>Right</td>\n",
              "      <td>176.0</td>\n",
              "      <td>270.0</td>\n",
              "      <td>255.0</td>\n",
              "      <td>1994-10-17</td>\n",
              "    </tr>\n",
              "    <tr>\n",
              "      <th>1</th>\n",
              "      <td>3.0</td>\n",
              "      <td>YEUM Hye Seon</td>\n",
              "      <td>YEUM HYE SEON</td>\n",
              "      <td>Setter</td>\n",
              "      <td>Right</td>\n",
              "      <td>176.0</td>\n",
              "      <td>262.0</td>\n",
              "      <td>247.0</td>\n",
              "      <td>1991-02-03</td>\n",
              "    </tr>\n",
              "    <tr>\n",
              "      <th>2</th>\n",
              "      <td>4.0</td>\n",
              "      <td>KIM Heejin</td>\n",
              "      <td>KIM HEEJIN</td>\n",
              "      <td>Opposite</td>\n",
              "      <td>Right</td>\n",
              "      <td>185.0</td>\n",
              "      <td>305.0</td>\n",
              "      <td>290.0</td>\n",
              "      <td>1991-04-29</td>\n",
              "    </tr>\n",
              "    <tr>\n",
              "      <th>3</th>\n",
              "      <td>7.0</td>\n",
              "      <td>AN Hyejin</td>\n",
              "      <td>AN HYEJIN</td>\n",
              "      <td>Setter</td>\n",
              "      <td>Right</td>\n",
              "      <td>175.0</td>\n",
              "      <td>256.0</td>\n",
              "      <td>231.0</td>\n",
              "      <td>1998-02-16</td>\n",
              "    </tr>\n",
              "    <tr>\n",
              "      <th>4</th>\n",
              "      <td>8.0</td>\n",
              "      <td>PARK Eunjin</td>\n",
              "      <td>PARK EUNJIN</td>\n",
              "      <td>Middle Blocker</td>\n",
              "      <td>Right</td>\n",
              "      <td>187.0</td>\n",
              "      <td>296.0</td>\n",
              "      <td>281.0</td>\n",
              "      <td>1999-12-15</td>\n",
              "    </tr>\n",
              "    <tr>\n",
              "      <th>5</th>\n",
              "      <td>9.0</td>\n",
              "      <td>OH Jiyoung</td>\n",
              "      <td>OH JIYOUNG</td>\n",
              "      <td>Libero</td>\n",
              "      <td>Right</td>\n",
              "      <td>170.0</td>\n",
              "      <td>267.0</td>\n",
              "      <td>252.0</td>\n",
              "      <td>1988-07-11</td>\n",
              "    </tr>\n",
              "    <tr>\n",
              "      <th>6</th>\n",
              "      <td>10.0</td>\n",
              "      <td>KIM Yeon Koung (c)</td>\n",
              "      <td>KIM YEON KOUNG</td>\n",
              "      <td>Outside Hitter</td>\n",
              "      <td>Right</td>\n",
              "      <td>192.0</td>\n",
              "      <td>310.0</td>\n",
              "      <td>300.0</td>\n",
              "      <td>1988-02-26</td>\n",
              "    </tr>\n",
              "    <tr>\n",
              "      <th>7</th>\n",
              "      <td>11.0</td>\n",
              "      <td>KIM Su Ji</td>\n",
              "      <td>KIM SU JI</td>\n",
              "      <td>Middle Blocker</td>\n",
              "      <td>Right</td>\n",
              "      <td>188.0</td>\n",
              "      <td>283.0</td>\n",
              "      <td>268.0</td>\n",
              "      <td>1987-07-11</td>\n",
              "    </tr>\n",
              "    <tr>\n",
              "      <th>8</th>\n",
              "      <td>13.0</td>\n",
              "      <td>PARK Jeongah</td>\n",
              "      <td>PARK JEONGAH</td>\n",
              "      <td>Outside Hitter</td>\n",
              "      <td>Right</td>\n",
              "      <td>187.0</td>\n",
              "      <td>291.0</td>\n",
              "      <td>276.0</td>\n",
              "      <td>1993-03-26</td>\n",
              "    </tr>\n",
              "    <tr>\n",
              "      <th>9</th>\n",
              "      <td>14.0</td>\n",
              "      <td>YANG Hyo Jin</td>\n",
              "      <td>YANG HYO JIN</td>\n",
              "      <td>Middle Blocker</td>\n",
              "      <td>Right</td>\n",
              "      <td>190.0</td>\n",
              "      <td>298.0</td>\n",
              "      <td>283.0</td>\n",
              "      <td>1989-12-14</td>\n",
              "    </tr>\n",
              "    <tr>\n",
              "      <th>10</th>\n",
              "      <td>16.0</td>\n",
              "      <td>JEONG Jiyun</td>\n",
              "      <td>JEONG JIYUN</td>\n",
              "      <td>Opposite</td>\n",
              "      <td>Right</td>\n",
              "      <td>180.0</td>\n",
              "      <td>295.0</td>\n",
              "      <td>280.0</td>\n",
              "      <td>2001-01-01</td>\n",
              "    </tr>\n",
              "    <tr>\n",
              "      <th>11</th>\n",
              "      <td>19.0</td>\n",
              "      <td>PYO Seungju</td>\n",
              "      <td>PYO SEUNGJU</td>\n",
              "      <td>Outside Hitter</td>\n",
              "      <td>Right</td>\n",
              "      <td>182.0</td>\n",
              "      <td>275.0</td>\n",
              "      <td>260.0</td>\n",
              "      <td>1992-08-07</td>\n",
              "    </tr>\n",
              "  </tbody>\n",
              "</table>\n",
              "</div>"
            ],
            "text/plain": [
              "    player_no         player_name  ... highest_reach_block date_of_birth\n",
              "0         1.0         LEE Soyoung  ...               255.0    1994-10-17\n",
              "1         3.0       YEUM Hye Seon  ...               247.0    1991-02-03\n",
              "2         4.0          KIM Heejin  ...               290.0    1991-04-29\n",
              "3         7.0           AN Hyejin  ...               231.0    1998-02-16\n",
              "4         8.0         PARK Eunjin  ...               281.0    1999-12-15\n",
              "5         9.0          OH Jiyoung  ...               252.0    1988-07-11\n",
              "6        10.0  KIM Yeon Koung (c)  ...               300.0    1988-02-26\n",
              "7        11.0           KIM Su Ji  ...               268.0    1987-07-11\n",
              "8        13.0        PARK Jeongah  ...               276.0    1993-03-26\n",
              "9        14.0        YANG Hyo Jin  ...               283.0    1989-12-14\n",
              "10       16.0         JEONG Jiyun  ...               280.0    2001-01-01\n",
              "11       19.0         PYO Seungju  ...               260.0    1992-08-07\n",
              "\n",
              "[12 rows x 9 columns]"
            ]
          },
          "metadata": {},
          "execution_count": 3
        }
      ]
    },
    {
      "cell_type": "markdown",
      "metadata": {
        "id": "9N-Kj2hFxIsh"
      },
      "source": [
        "# 수고하셨습니다!\n",
        "섹션 3에서 만나요!"
      ]
    }
  ]
}