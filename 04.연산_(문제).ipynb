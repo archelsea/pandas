{
  "nbformat": 4,
  "nbformat_minor": 0,
  "metadata": {
    "colab": {
      "name": "✅ Section 4. 연산 (문제)",
      "provenance": [],
      "collapsed_sections": [],
      "toc_visible": true
    },
    "kernelspec": {
      "name": "python3",
      "display_name": "Python 3"
    },
    "language_info": {
      "name": "python"
    }
  },
  "cells": [
    {
      "cell_type": "markdown",
      "metadata": {
        "id": "S54gqH5Pb9Ub"
      },
      "source": [
        "# 문제풀이 Overview\n",
        "\n",
        "* 이번 문제풀이에서는 이커머스 데이터를 이용해 주문 금액을 분석합니다.\n",
        "* 문제를 본격적으로 풀기 전에 아래 코드를 실행해 `pandas` 라이브러리를 임포트하고 데이터를 읽어와주세요."
      ]
    },
    {
      "cell_type": "code",
      "metadata": {
        "id": "zMJCqrcFgp9-"
      },
      "source": [
        "import pandas as pd"
      ],
      "execution_count": null,
      "outputs": []
    },
    {
      "cell_type": "code",
      "metadata": {
        "id": "omw4bbbKgxqi"
      },
      "source": [
        "order_details = pd.read_csv('https://raw.githubusercontent.com/datarian-kr/pandas/main/data/e-commerce/order_details.csv')"
      ],
      "execution_count": null,
      "outputs": []
    },
    {
      "cell_type": "markdown",
      "metadata": {
        "id": "LLynYu5kg2wt"
      },
      "source": [
        "# 데이터 설명\n",
        "\n",
        "> `order_details`는 이커머스의 주문 상세 내역이 담겨 있는 테이블 입니다.\n",
        "\n"
      ]
    },
    {
      "cell_type": "markdown",
      "metadata": {
        "id": "c9ZcDXg85CoF"
      },
      "source": [
        "**컬럼 상세** \n",
        "\n",
        "모든 금액의 단위는 설명의 편의를 위해 '1달러'로 통일합니다.\n",
        " * `Order ID`: 주문 ID\n",
        " * `Amount`: 총 주문 금액\n",
        " * `Profit`: 판매 수익\n",
        " * `Quantity`: 주문량\n",
        " * `Category`: 상품 카테고리\n",
        " * `Sub-Category`: 세부 카테고리 \n",
        "\n",
        "\n",
        "참고: https://www.kaggle.com/benroshan/ecommerce-data/version/2?select=Order+Details.csv\n"
      ]
    },
    {
      "cell_type": "markdown",
      "metadata": {
        "id": "uu0gMg8yXj8d"
      },
      "source": [
        "# 데이터 미리보기"
      ]
    },
    {
      "cell_type": "code",
      "metadata": {
        "colab": {
          "base_uri": "https://localhost:8080/",
          "height": 206
        },
        "id": "TcO_EbjB6H8P",
        "outputId": "d9c69512-65ed-4dfe-f4bc-90fef21695cc"
      },
      "source": [
        "order_details.head(5)"
      ],
      "execution_count": null,
      "outputs": [
        {
          "output_type": "execute_result",
          "data": {
            "text/html": [
              "<div>\n",
              "<style scoped>\n",
              "    .dataframe tbody tr th:only-of-type {\n",
              "        vertical-align: middle;\n",
              "    }\n",
              "\n",
              "    .dataframe tbody tr th {\n",
              "        vertical-align: top;\n",
              "    }\n",
              "\n",
              "    .dataframe thead th {\n",
              "        text-align: right;\n",
              "    }\n",
              "</style>\n",
              "<table border=\"1\" class=\"dataframe\">\n",
              "  <thead>\n",
              "    <tr style=\"text-align: right;\">\n",
              "      <th></th>\n",
              "      <th>Order ID</th>\n",
              "      <th>Amount</th>\n",
              "      <th>Profit</th>\n",
              "      <th>Quantity</th>\n",
              "      <th>Category</th>\n",
              "      <th>Sub-Category</th>\n",
              "    </tr>\n",
              "  </thead>\n",
              "  <tbody>\n",
              "    <tr>\n",
              "      <th>0</th>\n",
              "      <td>B-25601</td>\n",
              "      <td>1275</td>\n",
              "      <td>(1148)</td>\n",
              "      <td>7</td>\n",
              "      <td>Furniture</td>\n",
              "      <td>Bookcases</td>\n",
              "    </tr>\n",
              "    <tr>\n",
              "      <th>1</th>\n",
              "      <td>B-25601</td>\n",
              "      <td>66</td>\n",
              "      <td>(12)</td>\n",
              "      <td>5</td>\n",
              "      <td>Clothing</td>\n",
              "      <td>Stole</td>\n",
              "    </tr>\n",
              "    <tr>\n",
              "      <th>2</th>\n",
              "      <td>B-25601</td>\n",
              "      <td>8</td>\n",
              "      <td>(2)</td>\n",
              "      <td>3</td>\n",
              "      <td>Clothing</td>\n",
              "      <td>Hankerchief</td>\n",
              "    </tr>\n",
              "    <tr>\n",
              "      <th>3</th>\n",
              "      <td>B-25601</td>\n",
              "      <td>80</td>\n",
              "      <td>(56)</td>\n",
              "      <td>4</td>\n",
              "      <td>Electronics</td>\n",
              "      <td>Electronic Games</td>\n",
              "    </tr>\n",
              "    <tr>\n",
              "      <th>4</th>\n",
              "      <td>B-25602</td>\n",
              "      <td>168</td>\n",
              "      <td>(111)</td>\n",
              "      <td>2</td>\n",
              "      <td>Electronics</td>\n",
              "      <td>Phones</td>\n",
              "    </tr>\n",
              "  </tbody>\n",
              "</table>\n",
              "</div>"
            ],
            "text/plain": [
              "  Order ID  Amount  Profit  Quantity     Category      Sub-Category\n",
              "0  B-25601    1275  (1148)         7    Furniture         Bookcases\n",
              "1  B-25601      66    (12)         5     Clothing             Stole\n",
              "2  B-25601       8     (2)         3     Clothing       Hankerchief\n",
              "3  B-25601      80    (56)         4  Electronics  Electronic Games\n",
              "4  B-25602     168   (111)         2  Electronics            Phones"
            ]
          },
          "metadata": {},
          "execution_count": 3
        }
      ]
    },
    {
      "cell_type": "markdown",
      "metadata": {
        "id": "MFz2oSYW9suM"
      },
      "source": [
        "# Q1. 탐색적 데이터 분석 \n",
        "[탐색적 데이터 분석(EDA, Exploratory Data Analysis)](https://en.wikipedia.org/wiki/Exploratory_data_analysis)이란 본격적인 데이터 분석을 시작하기 전에, 그래프나 기초 통계를 이용하여 주어진 자료를 파악하는 과정입니다.\n",
        "\n",
        "`order_details`에는 어떤 주문 데이터가 들어있을까요? <br> 데이터는 몇 개인지, 어떤 컬럼들이 있는지, 중복된 값은 없는지 등 `describe()`, `unique()` 등을 이용하여 자유롭게 살펴보세요.\n",
        "\n",
        "<br>\n",
        "\n",
        "**아래의 간단한 질문들에 답하며 EDA를 시작해 볼까요?**\n",
        "* `order_details`에는 몇 개의 데이터가 있나요?\n",
        "* ***카테고리와 서브 카테고리에는 어떤 것들이 있나요?***"
      ]
    },
    {
      "cell_type": "code",
      "metadata": {
        "id": "rtcQJw5396CO",
        "colab": {
          "base_uri": "https://localhost:8080/"
        },
        "outputId": "413ca3ce-610d-44ad-e7cf-64dc9ebf1506"
      },
      "source": [
        "# Answer 1. 1500개의 데이터가 있음\n",
        "order_details.info()"
      ],
      "execution_count": null,
      "outputs": [
        {
          "output_type": "stream",
          "name": "stdout",
          "text": [
            "<class 'pandas.core.frame.DataFrame'>\n",
            "RangeIndex: 1500 entries, 0 to 1499\n",
            "Data columns (total 6 columns):\n",
            " #   Column        Non-Null Count  Dtype \n",
            "---  ------        --------------  ----- \n",
            " 0   Order ID      1500 non-null   object\n",
            " 1   Amount        1500 non-null   int64 \n",
            " 2   Profit        1500 non-null   object\n",
            " 3   Quantity      1500 non-null   int64 \n",
            " 4   Category      1500 non-null   object\n",
            " 5   Sub-Category  1500 non-null   object\n",
            "dtypes: int64(2), object(4)\n",
            "memory usage: 70.4+ KB\n"
          ]
        }
      ]
    },
    {
      "cell_type": "markdown",
      "metadata": {
        "id": "7sx454GRg6C4"
      },
      "source": [
        "# Q2. 주문 1건 당 주문 금액 분석\n",
        "\n",
        "주문 건 당 주문 금액이 너무 적으면 배송 부담이 높아지고, 주문 1건 당 관리 비용이 올라가는 등 가변 비용이 증가하기 때문에 최대한 한 번의 주문에 많이 사도록 만들고 싶습니다. 일단 현황 파악이 필요합니다."
      ]
    },
    {
      "cell_type": "markdown",
      "metadata": {
        "id": "9lth-zfv3OkA"
      },
      "source": [
        "### Step 1. 주문 별로 주문금액, 주문량 합산하기 \n",
        "\n",
        "주문 별로 주문금액(`Amount`), 주문량(`Quantity`)을 구하고 `orders`라는 데이터 프레임에 저장하세요. \n",
        "\n",
        "* Output 예시\n",
        "\n",
        "| Order ID   |   Amount |   Quantity |\n",
        "|:-----------|---------:|-----------:|\n",
        "| B-25601    |     1429 |         19 |\n",
        "| B-25602    |     3889 |         22 |\n",
        "| B-25603    |     2025 |         25 |\n",
        "| B-25604    |      222 |         11 |\n",
        "| B-25605    |       75 |          7 |"
      ]
    },
    {
      "cell_type": "code",
      "metadata": {
        "id": "X_eosE_Mmc5v",
        "colab": {
          "base_uri": "https://localhost:8080/",
          "height": 509
        },
        "outputId": "3ec380d8-46ff-4d9a-cf65-e38961e538ec"
      },
      "source": [
        "# Answer\n",
        "orders = order_details.groupby(['Order ID'])['Amount','Quantity'].sum()\n",
        "orders"
      ],
      "execution_count": null,
      "outputs": [
        {
          "output_type": "stream",
          "name": "stderr",
          "text": [
            "/usr/local/lib/python3.7/dist-packages/ipykernel_launcher.py:2: FutureWarning: Indexing with multiple keys (implicitly converted to a tuple of keys) will be deprecated, use a list instead.\n",
            "  \n"
          ]
        },
        {
          "output_type": "execute_result",
          "data": {
            "text/html": [
              "<div>\n",
              "<style scoped>\n",
              "    .dataframe tbody tr th:only-of-type {\n",
              "        vertical-align: middle;\n",
              "    }\n",
              "\n",
              "    .dataframe tbody tr th {\n",
              "        vertical-align: top;\n",
              "    }\n",
              "\n",
              "    .dataframe thead th {\n",
              "        text-align: right;\n",
              "    }\n",
              "</style>\n",
              "<table border=\"1\" class=\"dataframe\">\n",
              "  <thead>\n",
              "    <tr style=\"text-align: right;\">\n",
              "      <th></th>\n",
              "      <th>Amount</th>\n",
              "      <th>Quantity</th>\n",
              "    </tr>\n",
              "    <tr>\n",
              "      <th>Order ID</th>\n",
              "      <th></th>\n",
              "      <th></th>\n",
              "    </tr>\n",
              "  </thead>\n",
              "  <tbody>\n",
              "    <tr>\n",
              "      <th>B-25601</th>\n",
              "      <td>1429</td>\n",
              "      <td>19</td>\n",
              "    </tr>\n",
              "    <tr>\n",
              "      <th>B-25602</th>\n",
              "      <td>3889</td>\n",
              "      <td>22</td>\n",
              "    </tr>\n",
              "    <tr>\n",
              "      <th>B-25603</th>\n",
              "      <td>2025</td>\n",
              "      <td>25</td>\n",
              "    </tr>\n",
              "    <tr>\n",
              "      <th>B-25604</th>\n",
              "      <td>222</td>\n",
              "      <td>11</td>\n",
              "    </tr>\n",
              "    <tr>\n",
              "      <th>B-25605</th>\n",
              "      <td>75</td>\n",
              "      <td>7</td>\n",
              "    </tr>\n",
              "    <tr>\n",
              "      <th>...</th>\n",
              "      <td>...</td>\n",
              "      <td>...</td>\n",
              "    </tr>\n",
              "    <tr>\n",
              "      <th>B-26096</th>\n",
              "      <td>1091</td>\n",
              "      <td>18</td>\n",
              "    </tr>\n",
              "    <tr>\n",
              "      <th>B-26097</th>\n",
              "      <td>1688</td>\n",
              "      <td>23</td>\n",
              "    </tr>\n",
              "    <tr>\n",
              "      <th>B-26098</th>\n",
              "      <td>1189</td>\n",
              "      <td>21</td>\n",
              "    </tr>\n",
              "    <tr>\n",
              "      <th>B-26099</th>\n",
              "      <td>3417</td>\n",
              "      <td>15</td>\n",
              "    </tr>\n",
              "    <tr>\n",
              "      <th>B-26100</th>\n",
              "      <td>934</td>\n",
              "      <td>6</td>\n",
              "    </tr>\n",
              "  </tbody>\n",
              "</table>\n",
              "<p>500 rows × 2 columns</p>\n",
              "</div>"
            ],
            "text/plain": [
              "          Amount  Quantity\n",
              "Order ID                  \n",
              "B-25601     1429        19\n",
              "B-25602     3889        22\n",
              "B-25603     2025        25\n",
              "B-25604      222        11\n",
              "B-25605       75         7\n",
              "...          ...       ...\n",
              "B-26096     1091        18\n",
              "B-26097     1688        23\n",
              "B-26098     1189        21\n",
              "B-26099     3417        15\n",
              "B-26100      934         6\n",
              "\n",
              "[500 rows x 2 columns]"
            ]
          },
          "metadata": {},
          "execution_count": 11
        }
      ]
    },
    {
      "cell_type": "markdown",
      "metadata": {
        "id": "a9_iMX2M9yyc"
      },
      "source": [
        "### Step 2. 주문금액 통계 계산하기\n",
        "\n",
        "앞 단계에서 주문 별 주문 금액을 계산했습니다. 예를 들어 Order Id `B-25601`번 주문은 1429달러어치 상품을 샀고, Order Id `B-25602`번 주문은 3889달러어치 상품을 샀습니다."
      ]
    },
    {
      "cell_type": "markdown",
      "metadata": {
        "id": "IGdUFbOA_18g"
      },
      "source": [
        "위에서 만든 데이터를 분석하여 아래 질문들에 답해주세요.\n",
        "* 질문1: 현재 우리 쇼핑몰의 주문 1건당 평균 주문 금액은 얼마인가요? \n",
        "* 답변1: Amount(주문금액)의 mean인 863"
      ]
    },
    {
      "cell_type": "markdown",
      "metadata": {
        "id": "1GE1sBfA_vXL"
      },
      "source": [
        "* 질문2: 가장 주문 금액이 많았던 주문의 주문 번호와 주문 금액을 알려주세요.\n",
        "* 답변2: 주문번호: B-26055 \t/ 주문금액: 8502달러\n"
      ]
    },
    {
      "cell_type": "markdown",
      "metadata": {
        "id": "Ct00ZsLa_zFJ"
      },
      "source": [
        "* 질문3: 가장 주문 금액이 적었던 주문의 주문 번호와 주문 금액을 알려주세요.\n",
        "* 답변3: 주문번호:B-26095\t/ 주문금액: 6달러"
      ]
    },
    {
      "cell_type": "code",
      "metadata": {
        "id": "Khidcr51AHgL",
        "colab": {
          "base_uri": "https://localhost:8080/",
          "height": 300
        },
        "outputId": "63f0f607-7c4c-4f79-d6c4-955fbca1c857"
      },
      "source": [
        "# Answer 1. \n",
        "orders.describe()"
      ],
      "execution_count": null,
      "outputs": [
        {
          "output_type": "execute_result",
          "data": {
            "text/html": [
              "<div>\n",
              "<style scoped>\n",
              "    .dataframe tbody tr th:only-of-type {\n",
              "        vertical-align: middle;\n",
              "    }\n",
              "\n",
              "    .dataframe tbody tr th {\n",
              "        vertical-align: top;\n",
              "    }\n",
              "\n",
              "    .dataframe thead th {\n",
              "        text-align: right;\n",
              "    }\n",
              "</style>\n",
              "<table border=\"1\" class=\"dataframe\">\n",
              "  <thead>\n",
              "    <tr style=\"text-align: right;\">\n",
              "      <th></th>\n",
              "      <th>Amount</th>\n",
              "      <th>Quantity</th>\n",
              "    </tr>\n",
              "  </thead>\n",
              "  <tbody>\n",
              "    <tr>\n",
              "      <th>count</th>\n",
              "      <td>500.000000</td>\n",
              "      <td>500.00000</td>\n",
              "    </tr>\n",
              "    <tr>\n",
              "      <th>mean</th>\n",
              "      <td>863.004000</td>\n",
              "      <td>11.23000</td>\n",
              "    </tr>\n",
              "    <tr>\n",
              "      <th>std</th>\n",
              "      <td>1103.278652</td>\n",
              "      <td>10.11344</td>\n",
              "    </tr>\n",
              "    <tr>\n",
              "      <th>min</th>\n",
              "      <td>6.000000</td>\n",
              "      <td>1.00000</td>\n",
              "    </tr>\n",
              "    <tr>\n",
              "      <th>25%</th>\n",
              "      <td>123.750000</td>\n",
              "      <td>3.00000</td>\n",
              "    </tr>\n",
              "    <tr>\n",
              "      <th>50%</th>\n",
              "      <td>416.500000</td>\n",
              "      <td>8.00000</td>\n",
              "    </tr>\n",
              "    <tr>\n",
              "      <th>75%</th>\n",
              "      <td>1245.250000</td>\n",
              "      <td>16.00000</td>\n",
              "    </tr>\n",
              "    <tr>\n",
              "      <th>max</th>\n",
              "      <td>8502.000000</td>\n",
              "      <td>57.00000</td>\n",
              "    </tr>\n",
              "  </tbody>\n",
              "</table>\n",
              "</div>"
            ],
            "text/plain": [
              "            Amount   Quantity\n",
              "count   500.000000  500.00000\n",
              "mean    863.004000   11.23000\n",
              "std    1103.278652   10.11344\n",
              "min       6.000000    1.00000\n",
              "25%     123.750000    3.00000\n",
              "50%     416.500000    8.00000\n",
              "75%    1245.250000   16.00000\n",
              "max    8502.000000   57.00000"
            ]
          },
          "metadata": {},
          "execution_count": 12
        }
      ]
    },
    {
      "cell_type": "code",
      "metadata": {
        "colab": {
          "base_uri": "https://localhost:8080/",
          "height": 112
        },
        "id": "7JIZJkQVti4h",
        "outputId": "d750dc7a-1a1b-4e54-9e79-e96b708def73"
      },
      "source": [
        "# Answer 2.\n",
        "max = orders['Amount'].max()\n",
        "orders[orders['Amount']==max]"
      ],
      "execution_count": null,
      "outputs": [
        {
          "output_type": "execute_result",
          "data": {
            "text/html": [
              "<div>\n",
              "<style scoped>\n",
              "    .dataframe tbody tr th:only-of-type {\n",
              "        vertical-align: middle;\n",
              "    }\n",
              "\n",
              "    .dataframe tbody tr th {\n",
              "        vertical-align: top;\n",
              "    }\n",
              "\n",
              "    .dataframe thead th {\n",
              "        text-align: right;\n",
              "    }\n",
              "</style>\n",
              "<table border=\"1\" class=\"dataframe\">\n",
              "  <thead>\n",
              "    <tr style=\"text-align: right;\">\n",
              "      <th></th>\n",
              "      <th>Amount</th>\n",
              "      <th>Quantity</th>\n",
              "    </tr>\n",
              "    <tr>\n",
              "      <th>Order ID</th>\n",
              "      <th></th>\n",
              "      <th></th>\n",
              "    </tr>\n",
              "  </thead>\n",
              "  <tbody>\n",
              "    <tr>\n",
              "      <th>B-26055</th>\n",
              "      <td>8502</td>\n",
              "      <td>57</td>\n",
              "    </tr>\n",
              "  </tbody>\n",
              "</table>\n",
              "</div>"
            ],
            "text/plain": [
              "          Amount  Quantity\n",
              "Order ID                  \n",
              "B-26055     8502        57"
            ]
          },
          "metadata": {},
          "execution_count": 15
        }
      ]
    },
    {
      "cell_type": "code",
      "metadata": {
        "colab": {
          "base_uri": "https://localhost:8080/",
          "height": 112
        },
        "id": "YDhBCYPwtr-c",
        "outputId": "f75e26c7-9b6f-48c0-cd47-a0acfc666f76"
      },
      "source": [
        "# Answer 3.\n",
        "min = orders['Amount'].min()\n",
        "orders[orders['Amount']==min]"
      ],
      "execution_count": null,
      "outputs": [
        {
          "output_type": "execute_result",
          "data": {
            "text/html": [
              "<div>\n",
              "<style scoped>\n",
              "    .dataframe tbody tr th:only-of-type {\n",
              "        vertical-align: middle;\n",
              "    }\n",
              "\n",
              "    .dataframe tbody tr th {\n",
              "        vertical-align: top;\n",
              "    }\n",
              "\n",
              "    .dataframe thead th {\n",
              "        text-align: right;\n",
              "    }\n",
              "</style>\n",
              "<table border=\"1\" class=\"dataframe\">\n",
              "  <thead>\n",
              "    <tr style=\"text-align: right;\">\n",
              "      <th></th>\n",
              "      <th>Amount</th>\n",
              "      <th>Quantity</th>\n",
              "    </tr>\n",
              "    <tr>\n",
              "      <th>Order ID</th>\n",
              "      <th></th>\n",
              "      <th></th>\n",
              "    </tr>\n",
              "  </thead>\n",
              "  <tbody>\n",
              "    <tr>\n",
              "      <th>B-26095</th>\n",
              "      <td>6</td>\n",
              "      <td>1</td>\n",
              "    </tr>\n",
              "  </tbody>\n",
              "</table>\n",
              "</div>"
            ],
            "text/plain": [
              "          Amount  Quantity\n",
              "Order ID                  \n",
              "B-26095        6         1"
            ]
          },
          "metadata": {},
          "execution_count": 17
        }
      ]
    },
    {
      "cell_type": "markdown",
      "metadata": {
        "id": "A1KDjUnb_eQ3"
      },
      "source": [
        "### Step 3. 주문 금액의 분포 그리기\n",
        "\n",
        "우리는 보통 숫자들이 정규 분포 할 것을 생각하고 '평균'이라는 통계값에 의미를 둡니다. 분포의 중앙에 평균이 있고(아래 그래프에서 x축 중앙의 `μ`가 평균), 평균 근처에 많은 값들이 몰려 있으므로 이 '평균'이라는 숫자가 전체를 대표한다고 보는겁니다.\n",
        "\n",
        "<div>\n",
        "<img src=\"https://miro.medium.com/max/1200/1*IdGgdrY_n_9_YfkaCh-dag.png\" width=\"500\"/>\n",
        "</div>\n",
        "\n",
        "그런데 실제 우리가 만나는 많은 데이터들은 정규분포와 거리가 멉니다. \n",
        "\n",
        "예를 들어, 사람들의 자산 그래프를 상상해봅시다. 우리는 소수의 굉장한 부자들이 전 세계 부의 많은 부분을 소유하고 나머지 부를 많은 사람들이 나눠가지고 있다는 것을 압니다. 이런 상황에서 인류 자산의 평균이라는 숫자가 우리 모두의 자산을 반영하는 대표값이 될 수 있을까요? 아마 아닐겁니다.\n",
        "\n",
        "우리의 주문 데이터(`orders`)는 어떨까요? 평균 863달러 근처에 많은 데이터들이 몰려있는 정규분포 모양을 그릴까요? 아니면, 인류의 자산 분포 처럼 대부분의 주문은 적은 금액에 몰려있고 소수의 높은 주문 금액이 있는 형태를 보일까요? 주문 금액 분포를 봤을 때, 평균 863달러는 어떤 의미를 가지나요?\n",
        "\n",
        "Hint. 데이터의 분포를 확인하기 위해 판다스의 히스토그램 그리는 함수([`pandas.DataFrame.hist()`](https://pandas.pydata.org/docs/reference/api/pandas.DataFrame.hist.html)), 또는 `describe()` 함수를 활용하세요."
      ]
    },
    {
      "cell_type": "code",
      "metadata": {
        "id": "Y2zn4XUHbHuw",
        "colab": {
          "base_uri": "https://localhost:8080/"
        },
        "outputId": "27dc9a30-6610-40f0-eeeb-6295c640c1e5"
      },
      "source": [
        "# Answer\n",
        "orders['Amount'].describe()"
      ],
      "execution_count": null,
      "outputs": [
        {
          "output_type": "execute_result",
          "data": {
            "text/plain": [
              "count     500.000000\n",
              "mean      863.004000\n",
              "std      1103.278652\n",
              "min         6.000000\n",
              "25%       123.750000\n",
              "50%       416.500000\n",
              "75%      1245.250000\n",
              "max      8502.000000\n",
              "Name: Amount, dtype: float64"
            ]
          },
          "metadata": {},
          "execution_count": 19
        }
      ]
    },
    {
      "cell_type": "code",
      "metadata": {
        "colab": {
          "base_uri": "https://localhost:8080/",
          "height": 282
        },
        "id": "WiWMCPbFutDR",
        "outputId": "3ba8d77d-212e-49d6-9cd3-e5648a8c774b"
      },
      "source": [
        "orders['Amount'].hist()"
      ],
      "execution_count": null,
      "outputs": [
        {
          "output_type": "execute_result",
          "data": {
            "text/plain": [
              "<matplotlib.axes._subplots.AxesSubplot at 0x7f278d2c35d0>"
            ]
          },
          "metadata": {},
          "execution_count": 20
        },
        {
          "output_type": "display_data",
          "data": {
            "image/png": "[encoded data removed]",
            "text/plain": [
              "<Figure size 432x288 with 1 Axes>"
            ]
          },
          "metadata": {
            "needs_background": "light"
          }
        }
      ]
    },
    {
      "cell_type": "markdown",
      "metadata": {
        "id": "uWwaOxbPvAPY"
      },
      "source": [
        "Amount의 평균 863은 데이터를 대표한다고 볼 수 없다.\n",
        "이 경우에는 사분위수 등 다른 통계값을 의사결정에 활용해야 한다."
      ]
    },
    {
      "cell_type": "markdown",
      "metadata": {
        "id": "XOqrSBwdOWgh"
      },
      "source": [
        "# Q3. 여러분의 분석 아이디어를 들려주세요\n",
        "\n",
        "여러분들의 분석 내용을 인프런 블로그 또는 개인 블로그에 `#데이터리안` `#판다스공부` `#TIL` 해시태그로 공유해주세요! `velog.io`, `brunch`, `medium` 등 개인 블로그에 올리신 분들은 인프런 블로그로 링크를 올려주시면 저희가 검색해서 찾아갈 수 있을 것 같아요.\n",
        "\n",
        "분석 내용 뿐 아니라 노트북 자체를 공유하고 싶은 분들은 아래 예시를 참고해주세요.\n",
        "* [nbviewer 예시](https://nbviewer.jupyter.org/github/dataitgirls3/Teaching-Materials/blob/master/2019-09-09%20Pandas%20%EC%88%98%EC%97%85%20%EB%B3%B4%EC%B6%A9%EC%9E%90%EB%A3%8C.ipynb)\n",
        "* [github 예시](https://github.com/dataitgirls3/Teaching-Materials/blob/master/Comprehension.ipynb)\n",
        "\n",
        "인프런 블로그에 올리실 때 `#데이터리안` `#판다스공부` 해시태그 다는거 잊지 말아주세요!"
      ]
    },
    {
      "cell_type": "code",
      "metadata": {
        "id": "fgC64IVXlShx"
      },
      "source": [
        "# 추가 분석"
      ],
      "execution_count": null,
      "outputs": []
    },
    {
      "cell_type": "markdown",
      "metadata": {
        "id": "XsmZq7fh1k6g"
      },
      "source": [
        "# 수고하셨습니다!\n",
        "> 섹션 5에서 만나요!"
      ]
    }
  ]
}